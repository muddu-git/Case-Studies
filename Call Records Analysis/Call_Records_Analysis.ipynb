{
 "cells": [
  {
   "cell_type": "markdown",
   "metadata": {},
   "source": [
    "# Data Analysis of Call Records"
   ]
  },
  {
   "cell_type": "markdown",
   "metadata": {},
   "source": [
    "# Importing important libraries"
   ]
  },
  {
   "cell_type": "code",
   "execution_count": 677,
   "metadata": {},
   "outputs": [],
   "source": [
    "import pandas as pd\n",
    "import numpy as np\n",
    "import os\n",
    "from fancyimpute import KNN\n",
    "import matplotlib.pyplot as plt\n",
    "%matplotlib notebook\n",
    "import seaborn as sns\n",
    "import mpld3\n",
    "mpld3.enable_notebook()\n",
    "%matplotlib inline"
   ]
  },
  {
   "cell_type": "markdown",
   "metadata": {},
   "source": [
    "# Reading call records file"
   ]
  },
  {
   "cell_type": "code",
   "execution_count": 589,
   "metadata": {},
   "outputs": [],
   "source": [
    "os.chdir(\"C:/Users/mudmoham/Documents/pr/Call Records\")\n",
    "calls_df=pd.read_excel(\"Call Records.xlsx\",sheetname=\"Call Records\",na_values=[\"NULL\",\"\",\" \"],keep_default_na=False)"
   ]
  },
  {
   "cell_type": "markdown",
   "metadata": {},
   "source": [
    "let us have a look at the data"
   ]
  },
  {
   "cell_type": "code",
   "execution_count": 577,
   "metadata": {},
   "outputs": [
    {
     "data": {
      "text/html": [
       "<div>\n",
       "<style>\n",
       "    .dataframe thead tr:only-child th {\n",
       "        text-align: right;\n",
       "    }\n",
       "\n",
       "    .dataframe thead th {\n",
       "        text-align: left;\n",
       "    }\n",
       "\n",
       "    .dataframe tbody tr th {\n",
       "        vertical-align: top;\n",
       "    }\n",
       "</style>\n",
       "<table border=\"1\" class=\"dataframe\">\n",
       "  <thead>\n",
       "    <tr style=\"text-align: right;\">\n",
       "      <th></th>\n",
       "      <th>call_date</th>\n",
       "      <th>status</th>\n",
       "      <th>user</th>\n",
       "      <th>list_id</th>\n",
       "      <th>length_in_sec</th>\n",
       "      <th>phone number</th>\n",
       "      <th>postal_code</th>\n",
       "      <th>processed</th>\n",
       "      <th>dial_type</th>\n",
       "    </tr>\n",
       "  </thead>\n",
       "  <tbody>\n",
       "    <tr>\n",
       "      <th>0</th>\n",
       "      <td>2017-10-03 09:42:00</td>\n",
       "      <td>NC</td>\n",
       "      <td>jyotsna</td>\n",
       "      <td>280716</td>\n",
       "      <td>42.0</td>\n",
       "      <td>5609070079</td>\n",
       "      <td>NaN</td>\n",
       "      <td>N</td>\n",
       "      <td>MANUAL</td>\n",
       "    </tr>\n",
       "    <tr>\n",
       "      <th>1</th>\n",
       "      <td>2017-10-03 09:44:00</td>\n",
       "      <td>FU</td>\n",
       "      <td>jyotsna</td>\n",
       "      <td>230317</td>\n",
       "      <td>160.0</td>\n",
       "      <td>5812977844</td>\n",
       "      <td>560004</td>\n",
       "      <td>N</td>\n",
       "      <td>MANUAL</td>\n",
       "    </tr>\n",
       "    <tr>\n",
       "      <th>2</th>\n",
       "      <td>2017-10-03 09:44:00</td>\n",
       "      <td>FU</td>\n",
       "      <td>prerana</td>\n",
       "      <td>998</td>\n",
       "      <td>77.0</td>\n",
       "      <td>5609216021</td>\n",
       "      <td>NaN</td>\n",
       "      <td>N</td>\n",
       "      <td>MANUAL</td>\n",
       "    </tr>\n",
       "    <tr>\n",
       "      <th>3</th>\n",
       "      <td>2017-10-03 09:46:00</td>\n",
       "      <td>FU</td>\n",
       "      <td>anand</td>\n",
       "      <td>998</td>\n",
       "      <td>70.0</td>\n",
       "      <td>6573626240</td>\n",
       "      <td>NaN</td>\n",
       "      <td>N</td>\n",
       "      <td>MANUAL</td>\n",
       "    </tr>\n",
       "    <tr>\n",
       "      <th>4</th>\n",
       "      <td>2017-10-03 09:47:00</td>\n",
       "      <td>NC</td>\n",
       "      <td>prerana</td>\n",
       "      <td>998</td>\n",
       "      <td>42.0</td>\n",
       "      <td>6652489606</td>\n",
       "      <td>NaN</td>\n",
       "      <td>N</td>\n",
       "      <td>MANUAL</td>\n",
       "    </tr>\n",
       "  </tbody>\n",
       "</table>\n",
       "</div>"
      ],
      "text/plain": [
       "            call_date status     user  list_id  length_in_sec phone number  \\\n",
       "0 2017-10-03 09:42:00     NC  jyotsna   280716           42.0   5609070079   \n",
       "1 2017-10-03 09:44:00     FU  jyotsna   230317          160.0   5812977844   \n",
       "2 2017-10-03 09:44:00     FU  prerana      998           77.0   5609216021   \n",
       "3 2017-10-03 09:46:00     FU    anand      998           70.0   6573626240   \n",
       "4 2017-10-03 09:47:00     NC  prerana      998           42.0   6652489606   \n",
       "\n",
       "  postal_code processed dial_type  \n",
       "0         NaN         N    MANUAL  \n",
       "1      560004         N    MANUAL  \n",
       "2         NaN         N    MANUAL  \n",
       "3         NaN         N    MANUAL  \n",
       "4         NaN         N    MANUAL  "
      ]
     },
     "execution_count": 577,
     "metadata": {},
     "output_type": "execute_result"
    }
   ],
   "source": [
    "calls_df.head()"
   ]
  },
  {
   "cell_type": "code",
   "execution_count": 578,
   "metadata": {},
   "outputs": [
    {
     "data": {
      "text/plain": [
       "(13144, 9)"
      ]
     },
     "execution_count": 578,
     "metadata": {},
     "output_type": "execute_result"
    }
   ],
   "source": [
    "calls_df.shape"
   ]
  },
  {
   "cell_type": "markdown",
   "metadata": {},
   "source": [
    "It has 13144 call records and 9 columns"
   ]
  },
  {
   "cell_type": "markdown",
   "metadata": {},
   "source": [
    "Let's have a look at columns"
   ]
  },
  {
   "cell_type": "code",
   "execution_count": 579,
   "metadata": {},
   "outputs": [
    {
     "data": {
      "text/plain": [
       "Index(['call_date', 'status', 'user', 'list_id', 'length_in_sec',\n",
       "       'phone number', 'postal_code', 'processed', 'dial_type'],\n",
       "      dtype='object')"
      ]
     },
     "execution_count": 579,
     "metadata": {},
     "output_type": "execute_result"
    }
   ],
   "source": [
    "calls_df.columns"
   ]
  },
  {
   "cell_type": "markdown",
   "metadata": {},
   "source": [
    "# Missing Value Analysis"
   ]
  },
  {
   "cell_type": "code",
   "execution_count": 580,
   "metadata": {},
   "outputs": [
    {
     "data": {
      "text/html": [
       "<div>\n",
       "<style>\n",
       "    .dataframe thead tr:only-child th {\n",
       "        text-align: right;\n",
       "    }\n",
       "\n",
       "    .dataframe thead th {\n",
       "        text-align: left;\n",
       "    }\n",
       "\n",
       "    .dataframe tbody tr th {\n",
       "        vertical-align: top;\n",
       "    }\n",
       "</style>\n",
       "<table border=\"1\" class=\"dataframe\">\n",
       "  <thead>\n",
       "    <tr style=\"text-align: right;\">\n",
       "      <th></th>\n",
       "      <th>Columns</th>\n",
       "      <th>Missing Percentage</th>\n",
       "    </tr>\n",
       "  </thead>\n",
       "  <tbody>\n",
       "    <tr>\n",
       "      <th>0</th>\n",
       "      <td>postal_code</td>\n",
       "      <td>92.977785</td>\n",
       "    </tr>\n",
       "    <tr>\n",
       "      <th>1</th>\n",
       "      <td>dial_type</td>\n",
       "      <td>3.050822</td>\n",
       "    </tr>\n",
       "    <tr>\n",
       "      <th>2</th>\n",
       "      <td>length_in_sec</td>\n",
       "      <td>0.053256</td>\n",
       "    </tr>\n",
       "    <tr>\n",
       "      <th>3</th>\n",
       "      <td>call_date</td>\n",
       "      <td>0.000000</td>\n",
       "    </tr>\n",
       "    <tr>\n",
       "      <th>4</th>\n",
       "      <td>status</td>\n",
       "      <td>0.000000</td>\n",
       "    </tr>\n",
       "    <tr>\n",
       "      <th>5</th>\n",
       "      <td>user</td>\n",
       "      <td>0.000000</td>\n",
       "    </tr>\n",
       "    <tr>\n",
       "      <th>6</th>\n",
       "      <td>list_id</td>\n",
       "      <td>0.000000</td>\n",
       "    </tr>\n",
       "    <tr>\n",
       "      <th>7</th>\n",
       "      <td>phone number</td>\n",
       "      <td>0.000000</td>\n",
       "    </tr>\n",
       "    <tr>\n",
       "      <th>8</th>\n",
       "      <td>processed</td>\n",
       "      <td>0.000000</td>\n",
       "    </tr>\n",
       "  </tbody>\n",
       "</table>\n",
       "</div>"
      ],
      "text/plain": [
       "         Columns  Missing Percentage\n",
       "0    postal_code           92.977785\n",
       "1      dial_type            3.050822\n",
       "2  length_in_sec            0.053256\n",
       "3      call_date            0.000000\n",
       "4         status            0.000000\n",
       "5           user            0.000000\n",
       "6        list_id            0.000000\n",
       "7   phone number            0.000000\n",
       "8      processed            0.000000"
      ]
     },
     "execution_count": 580,
     "metadata": {},
     "output_type": "execute_result"
    }
   ],
   "source": [
    "missing_val_df=pd.DataFrame(pd.isnull(calls_df).sum()).reset_index()\n",
    "missing_val_df=missing_val_df.rename(columns={\"index\":\"Columns\",0:\"Missing Percentage\"})\n",
    "missing_val_df[\"Missing Percentage\"]=missing_val_df[\"Missing Percentage\"]/len(calls_df)*100\n",
    "missing_val_df=missing_val_df.sort_values(\"Missing Percentage\",ascending=False).reset_index(drop=True)\n",
    "missing_val_df.head(10)"
   ]
  },
  {
   "cell_type": "markdown",
   "metadata": {},
   "source": [
    "### Deleting Postal code variable"
   ]
  },
  {
   "cell_type": "code",
   "execution_count": 590,
   "metadata": {
    "collapsed": true
   },
   "outputs": [],
   "source": [
    "calls_df=calls_df.drop([\"postal_code\"],axis=1)"
   ]
  },
  {
   "cell_type": "markdown",
   "metadata": {},
   "source": [
    "Postal code has 92 % missing columns which is too high.So it is better to delete the variable.Let's look at dial_type variable"
   ]
  },
  {
   "cell_type": "markdown",
   "metadata": {},
   "source": [
    "### Imputing Null values with Manual for Dial type column\n",
    "\n",
    "We know that if dial type is  998 or 999 its manual dialed, others are automated calling list.so replacing with MANUAL can replace some null values and other null values are replaced by AUTO"
   ]
  },
  {
   "cell_type": "code",
   "execution_count": 592,
   "metadata": {},
   "outputs": [],
   "source": [
    "calls_df.loc[(calls_df[\"list_id\"]==998) | (calls_df[\"list_id\"]==999),\"dial_type\"]=\"MANUAL\"\n",
    "calls_df.loc[(calls_df[\"dial_type\"]!=\"MANUAL\"),\"dial_type\"]=\"AUTO\""
   ]
  },
  {
   "cell_type": "code",
   "execution_count": 594,
   "metadata": {},
   "outputs": [
    {
     "data": {
      "text/plain": [
       "array(['MANUAL', 'AUTO'], dtype=object)"
      ]
     },
     "execution_count": 594,
     "metadata": {},
     "output_type": "execute_result"
    }
   ],
   "source": [
    "calls_df[\"dial_type\"].unique()"
   ]
  },
  {
   "cell_type": "markdown",
   "metadata": {},
   "source": [
    "We can see that null values are replaced by MANUAL and AUTO"
   ]
  },
  {
   "cell_type": "markdown",
   "metadata": {},
   "source": [
    "### Imputing null values for length_in_sec column through KNN"
   ]
  },
  {
   "cell_type": "code",
   "execution_count": 593,
   "metadata": {},
   "outputs": [
    {
     "name": "stdout",
     "output_type": "stream",
     "text": [
      "Imputing row 1/13144 with 0 missing, elapsed time: 18.811\n",
      "Imputing row 101/13144 with 0 missing, elapsed time: 18.812\n",
      "Imputing row 201/13144 with 0 missing, elapsed time: 18.813\n",
      "Imputing row 301/13144 with 0 missing, elapsed time: 18.813\n",
      "Imputing row 401/13144 with 0 missing, elapsed time: 18.815\n",
      "Imputing row 501/13144 with 0 missing, elapsed time: 18.816\n",
      "Imputing row 601/13144 with 0 missing, elapsed time: 18.816\n",
      "Imputing row 701/13144 with 0 missing, elapsed time: 18.817\n",
      "Imputing row 801/13144 with 0 missing, elapsed time: 18.819\n",
      "Imputing row 901/13144 with 0 missing, elapsed time: 18.819\n",
      "Imputing row 1001/13144 with 0 missing, elapsed time: 18.820\n",
      "Imputing row 1101/13144 with 0 missing, elapsed time: 18.820\n",
      "Imputing row 1201/13144 with 0 missing, elapsed time: 18.820\n",
      "Imputing row 1301/13144 with 0 missing, elapsed time: 18.821\n",
      "Imputing row 1401/13144 with 0 missing, elapsed time: 18.821\n",
      "Imputing row 1501/13144 with 0 missing, elapsed time: 18.822\n",
      "Imputing row 1601/13144 with 0 missing, elapsed time: 18.823\n",
      "Imputing row 1701/13144 with 0 missing, elapsed time: 18.824\n",
      "Imputing row 1801/13144 with 0 missing, elapsed time: 18.824\n",
      "Imputing row 1901/13144 with 0 missing, elapsed time: 18.824\n",
      "Imputing row 2001/13144 with 0 missing, elapsed time: 18.824\n",
      "Imputing row 2101/13144 with 0 missing, elapsed time: 18.825\n",
      "Imputing row 2201/13144 with 0 missing, elapsed time: 18.827\n",
      "Imputing row 2301/13144 with 0 missing, elapsed time: 18.827\n",
      "Imputing row 2401/13144 with 0 missing, elapsed time: 18.828\n",
      "Imputing row 2501/13144 with 0 missing, elapsed time: 18.828\n",
      "Imputing row 2601/13144 with 0 missing, elapsed time: 18.829\n",
      "Imputing row 2701/13144 with 0 missing, elapsed time: 18.829\n",
      "Imputing row 2801/13144 with 0 missing, elapsed time: 18.830\n",
      "Imputing row 2901/13144 with 0 missing, elapsed time: 18.831\n",
      "Imputing row 3001/13144 with 0 missing, elapsed time: 18.832\n",
      "Imputing row 3101/13144 with 0 missing, elapsed time: 18.833\n",
      "Imputing row 3201/13144 with 0 missing, elapsed time: 18.833\n",
      "Imputing row 3301/13144 with 0 missing, elapsed time: 18.834\n",
      "Imputing row 3401/13144 with 0 missing, elapsed time: 18.834\n",
      "Imputing row 3501/13144 with 0 missing, elapsed time: 18.835\n",
      "Imputing row 3601/13144 with 0 missing, elapsed time: 18.836\n",
      "Imputing row 3701/13144 with 0 missing, elapsed time: 18.837\n",
      "Imputing row 3801/13144 with 0 missing, elapsed time: 18.837\n",
      "Imputing row 3901/13144 with 0 missing, elapsed time: 18.837\n",
      "Imputing row 4001/13144 with 0 missing, elapsed time: 18.837\n",
      "Imputing row 4101/13144 with 0 missing, elapsed time: 18.838\n",
      "Imputing row 4201/13144 with 0 missing, elapsed time: 18.839\n",
      "Imputing row 4301/13144 with 0 missing, elapsed time: 18.839\n",
      "Imputing row 4401/13144 with 0 missing, elapsed time: 18.840\n",
      "Imputing row 4501/13144 with 0 missing, elapsed time: 18.840\n",
      "Imputing row 4601/13144 with 0 missing, elapsed time: 18.840\n",
      "Imputing row 4701/13144 with 0 missing, elapsed time: 18.841\n",
      "Imputing row 4801/13144 with 0 missing, elapsed time: 18.841\n",
      "Imputing row 4901/13144 with 0 missing, elapsed time: 18.842\n",
      "Imputing row 5001/13144 with 0 missing, elapsed time: 18.842\n",
      "Imputing row 5101/13144 with 0 missing, elapsed time: 18.842\n",
      "Imputing row 5201/13144 with 0 missing, elapsed time: 18.844\n",
      "Imputing row 5301/13144 with 0 missing, elapsed time: 18.845\n",
      "Imputing row 5401/13144 with 0 missing, elapsed time: 18.846\n",
      "Imputing row 5501/13144 with 0 missing, elapsed time: 18.846\n",
      "Imputing row 5601/13144 with 0 missing, elapsed time: 18.847\n",
      "Imputing row 5701/13144 with 0 missing, elapsed time: 18.848\n",
      "Imputing row 5801/13144 with 0 missing, elapsed time: 18.848\n",
      "Imputing row 5901/13144 with 0 missing, elapsed time: 18.849\n",
      "Imputing row 6001/13144 with 0 missing, elapsed time: 18.849\n",
      "Imputing row 6101/13144 with 0 missing, elapsed time: 18.850\n",
      "Imputing row 6201/13144 with 0 missing, elapsed time: 18.850\n",
      "Imputing row 6301/13144 with 0 missing, elapsed time: 18.850\n",
      "Imputing row 6401/13144 with 0 missing, elapsed time: 18.851\n",
      "Imputing row 6501/13144 with 0 missing, elapsed time: 18.852\n",
      "Imputing row 6601/13144 with 0 missing, elapsed time: 18.853\n",
      "Imputing row 6701/13144 with 0 missing, elapsed time: 18.854\n",
      "Imputing row 6801/13144 with 0 missing, elapsed time: 18.854\n",
      "Imputing row 6901/13144 with 0 missing, elapsed time: 18.855\n",
      "Imputing row 7001/13144 with 0 missing, elapsed time: 18.856\n",
      "Imputing row 7101/13144 with 0 missing, elapsed time: 18.856\n",
      "Imputing row 7201/13144 with 0 missing, elapsed time: 18.856\n",
      "Imputing row 7301/13144 with 0 missing, elapsed time: 18.857\n",
      "Imputing row 7401/13144 with 0 missing, elapsed time: 18.857\n",
      "Imputing row 7501/13144 with 0 missing, elapsed time: 18.858\n",
      "Imputing row 7601/13144 with 0 missing, elapsed time: 18.858\n",
      "Imputing row 7701/13144 with 0 missing, elapsed time: 18.859\n",
      "Imputing row 7801/13144 with 0 missing, elapsed time: 18.859\n",
      "Imputing row 7901/13144 with 0 missing, elapsed time: 18.860\n",
      "Imputing row 8001/13144 with 0 missing, elapsed time: 18.861\n",
      "Imputing row 8101/13144 with 0 missing, elapsed time: 18.861\n",
      "Imputing row 8201/13144 with 0 missing, elapsed time: 18.861\n",
      "Imputing row 8301/13144 with 0 missing, elapsed time: 18.862\n",
      "Imputing row 8401/13144 with 0 missing, elapsed time: 18.863\n",
      "Imputing row 8501/13144 with 0 missing, elapsed time: 18.863\n",
      "Imputing row 8601/13144 with 0 missing, elapsed time: 18.864\n",
      "Imputing row 8701/13144 with 0 missing, elapsed time: 18.865\n",
      "Imputing row 8801/13144 with 0 missing, elapsed time: 18.865\n",
      "Imputing row 8901/13144 with 0 missing, elapsed time: 18.866\n",
      "Imputing row 9001/13144 with 0 missing, elapsed time: 18.866\n",
      "Imputing row 9101/13144 with 0 missing, elapsed time: 18.866\n",
      "Imputing row 9201/13144 with 0 missing, elapsed time: 18.866\n",
      "Imputing row 9301/13144 with 0 missing, elapsed time: 18.867\n",
      "Imputing row 9401/13144 with 0 missing, elapsed time: 18.867\n",
      "Imputing row 9501/13144 with 0 missing, elapsed time: 18.867\n",
      "Imputing row 9601/13144 with 0 missing, elapsed time: 18.868\n",
      "Imputing row 9701/13144 with 0 missing, elapsed time: 18.868\n",
      "Imputing row 9801/13144 with 0 missing, elapsed time: 18.869\n",
      "Imputing row 9901/13144 with 0 missing, elapsed time: 18.869\n",
      "Imputing row 10001/13144 with 0 missing, elapsed time: 18.870\n",
      "Imputing row 10101/13144 with 0 missing, elapsed time: 18.870\n",
      "Imputing row 10201/13144 with 0 missing, elapsed time: 18.870\n",
      "Imputing row 10301/13144 with 0 missing, elapsed time: 18.870\n",
      "Imputing row 10401/13144 with 0 missing, elapsed time: 18.871\n",
      "Imputing row 10501/13144 with 0 missing, elapsed time: 18.871\n",
      "Imputing row 10601/13144 with 0 missing, elapsed time: 18.871\n",
      "Imputing row 10701/13144 with 0 missing, elapsed time: 18.872\n",
      "Imputing row 10801/13144 with 0 missing, elapsed time: 18.872\n",
      "Imputing row 10901/13144 with 0 missing, elapsed time: 18.873\n",
      "Imputing row 11001/13144 with 0 missing, elapsed time: 18.873\n",
      "Imputing row 11101/13144 with 0 missing, elapsed time: 18.874\n",
      "Imputing row 11201/13144 with 0 missing, elapsed time: 18.874\n",
      "Imputing row 11301/13144 with 0 missing, elapsed time: 18.874\n",
      "Imputing row 11401/13144 with 0 missing, elapsed time: 18.875\n",
      "Imputing row 11501/13144 with 0 missing, elapsed time: 18.875\n",
      "Imputing row 11601/13144 with 0 missing, elapsed time: 18.875\n",
      "Imputing row 11701/13144 with 0 missing, elapsed time: 18.876\n",
      "Imputing row 11801/13144 with 0 missing, elapsed time: 18.876\n",
      "Imputing row 11901/13144 with 0 missing, elapsed time: 18.876\n",
      "Imputing row 12001/13144 with 0 missing, elapsed time: 18.876\n",
      "Imputing row 12101/13144 with 0 missing, elapsed time: 18.877\n",
      "Imputing row 12201/13144 with 0 missing, elapsed time: 18.877\n",
      "Imputing row 12301/13144 with 0 missing, elapsed time: 18.877\n",
      "Imputing row 12401/13144 with 0 missing, elapsed time: 18.877\n",
      "Imputing row 12501/13144 with 0 missing, elapsed time: 18.878\n",
      "Imputing row 12601/13144 with 0 missing, elapsed time: 18.878\n",
      "Imputing row 12701/13144 with 0 missing, elapsed time: 18.878\n",
      "Imputing row 12801/13144 with 0 missing, elapsed time: 18.878\n",
      "Imputing row 12901/13144 with 0 missing, elapsed time: 18.879\n",
      "Imputing row 13001/13144 with 0 missing, elapsed time: 18.879\n",
      "Imputing row 13101/13144 with 0 missing, elapsed time: 18.879\n",
      "[KNN] Warning: 7/13144 still missing after imputation, replacing with 0\n"
     ]
    },
    {
     "data": {
      "text/html": [
       "<div>\n",
       "<style>\n",
       "    .dataframe thead tr:only-child th {\n",
       "        text-align: right;\n",
       "    }\n",
       "\n",
       "    .dataframe thead th {\n",
       "        text-align: left;\n",
       "    }\n",
       "\n",
       "    .dataframe tbody tr th {\n",
       "        vertical-align: top;\n",
       "    }\n",
       "</style>\n",
       "<table border=\"1\" class=\"dataframe\">\n",
       "  <thead>\n",
       "    <tr style=\"text-align: right;\">\n",
       "      <th></th>\n",
       "      <th>call_date</th>\n",
       "      <th>status</th>\n",
       "      <th>user</th>\n",
       "      <th>list_id</th>\n",
       "      <th>phone number</th>\n",
       "      <th>processed</th>\n",
       "      <th>dial_type</th>\n",
       "      <th>length_in_sec</th>\n",
       "    </tr>\n",
       "  </thead>\n",
       "  <tbody>\n",
       "    <tr>\n",
       "      <th>0</th>\n",
       "      <td>2017-10-03 09:42:00</td>\n",
       "      <td>NC</td>\n",
       "      <td>jyotsna</td>\n",
       "      <td>280716</td>\n",
       "      <td>5609070079</td>\n",
       "      <td>N</td>\n",
       "      <td>MANUAL</td>\n",
       "      <td>42.0</td>\n",
       "    </tr>\n",
       "    <tr>\n",
       "      <th>1</th>\n",
       "      <td>2017-10-03 09:44:00</td>\n",
       "      <td>FU</td>\n",
       "      <td>jyotsna</td>\n",
       "      <td>230317</td>\n",
       "      <td>5812977844</td>\n",
       "      <td>N</td>\n",
       "      <td>MANUAL</td>\n",
       "      <td>160.0</td>\n",
       "    </tr>\n",
       "    <tr>\n",
       "      <th>2</th>\n",
       "      <td>2017-10-03 09:44:00</td>\n",
       "      <td>FU</td>\n",
       "      <td>prerana</td>\n",
       "      <td>998</td>\n",
       "      <td>5609216021</td>\n",
       "      <td>N</td>\n",
       "      <td>MANUAL</td>\n",
       "      <td>77.0</td>\n",
       "    </tr>\n",
       "    <tr>\n",
       "      <th>3</th>\n",
       "      <td>2017-10-03 09:46:00</td>\n",
       "      <td>FU</td>\n",
       "      <td>anand</td>\n",
       "      <td>998</td>\n",
       "      <td>6573626240</td>\n",
       "      <td>N</td>\n",
       "      <td>MANUAL</td>\n",
       "      <td>70.0</td>\n",
       "    </tr>\n",
       "    <tr>\n",
       "      <th>4</th>\n",
       "      <td>2017-10-03 09:47:00</td>\n",
       "      <td>NC</td>\n",
       "      <td>prerana</td>\n",
       "      <td>998</td>\n",
       "      <td>6652489606</td>\n",
       "      <td>N</td>\n",
       "      <td>MANUAL</td>\n",
       "      <td>42.0</td>\n",
       "    </tr>\n",
       "  </tbody>\n",
       "</table>\n",
       "</div>"
      ],
      "text/plain": [
       "            call_date status     user  list_id phone number processed  \\\n",
       "0 2017-10-03 09:42:00     NC  jyotsna   280716   5609070079         N   \n",
       "1 2017-10-03 09:44:00     FU  jyotsna   230317   5812977844         N   \n",
       "2 2017-10-03 09:44:00     FU  prerana      998   5609216021         N   \n",
       "3 2017-10-03 09:46:00     FU    anand      998   6573626240         N   \n",
       "4 2017-10-03 09:47:00     NC  prerana      998   6652489606         N   \n",
       "\n",
       "  dial_type  length_in_sec  \n",
       "0    MANUAL           42.0  \n",
       "1    MANUAL          160.0  \n",
       "2    MANUAL           77.0  \n",
       "3    MANUAL           70.0  \n",
       "4    MANUAL           42.0  "
      ]
     },
     "execution_count": 593,
     "metadata": {},
     "output_type": "execute_result"
    }
   ],
   "source": [
    "calls_temp=pd.DataFrame(calls_df[\"length_in_sec\"])\n",
    "calls_temp=pd.DataFrame(KNN(k=3).complete(calls_temp),columns=calls_temp.columns)\n",
    "calls_df=calls_df.drop([\"length_in_sec\"],axis=1)\n",
    "calls_df[\"length_in_sec\"]=calls_temp[\"length_in_sec\"]\n",
    "calls_df.head()"
   ]
  },
  {
   "cell_type": "code",
   "execution_count": 595,
   "metadata": {},
   "outputs": [
    {
     "data": {
      "text/plain": [
       "0"
      ]
     },
     "execution_count": 595,
     "metadata": {},
     "output_type": "execute_result"
    }
   ],
   "source": [
    "calls_df[\"length_in_sec\"].isnull().sum()"
   ]
  },
  {
   "cell_type": "markdown",
   "metadata": {},
   "source": [
    "we can see that null values are successfully imputed though KNNImputation"
   ]
  },
  {
   "cell_type": "markdown",
   "metadata": {},
   "source": [
    "# Feature Engineering\n",
    "\n",
    "from call_day let us derive week_day_name and day of month october"
   ]
  },
  {
   "cell_type": "code",
   "execution_count": 596,
   "metadata": {},
   "outputs": [],
   "source": [
    "calls_df[\"call_day\"]=calls_df[\"call_date\"].dt.weekday_name\n",
    "calls_df[\"month_day\"]=calls_df[\"call_date\"].dt.day"
   ]
  },
  {
   "cell_type": "markdown",
   "metadata": {},
   "source": [
    "Let us engineer a new variable based on time so that we can concentrate call records based on time of the day\n",
    "\n",
    "Morning(4-9:59)\n",
    "Noon(10-15-59)\n",
    "Evening(16-21:59)\n",
    "Night(22-3.59)\n"
   ]
  },
  {
   "cell_type": "code",
   "execution_count": 597,
   "metadata": {},
   "outputs": [],
   "source": [
    "calls_df[\"time\"]=calls_df[\"call_date\"].dt.hour\n",
    "calls_df[\"call_time\"]=\"NULL\""
   ]
  },
  {
   "cell_type": "code",
   "execution_count": 598,
   "metadata": {},
   "outputs": [
    {
     "data": {
      "text/plain": [
       "array(['Morning', 'Noon', 'Evening'], dtype=object)"
      ]
     },
     "execution_count": 598,
     "metadata": {},
     "output_type": "execute_result"
    }
   ],
   "source": [
    "calls_df.loc[(calls_df[\"time\"]>=4) & (calls_df[\"time\"]<10),[\"call_time\"]]=\"Morning\"\n",
    "calls_df.loc[(calls_df[\"time\"]>=10) & (calls_df[\"time\"]<16),[\"call_time\"]]=\"Noon\"\n",
    "calls_df.loc[(calls_df[\"time\"]>=16) & (calls_df[\"time\"]<22),[\"call_time\"]]=\"Evening\"\n",
    "calls_df.loc[(calls_df[\"time\"]>=22) & (calls_df[\"time\"]<4),[\"call_time\"]]=\"Night\"\n",
    "calls_df[\"call_time\"].unique()"
   ]
  },
  {
   "cell_type": "code",
   "execution_count": 599,
   "metadata": {},
   "outputs": [],
   "source": [
    "calls_df=calls_df.drop([\"call_date\",\"time\"],axis=1)"
   ]
  },
  {
   "cell_type": "markdown",
   "metadata": {},
   "source": [
    "With the help of Feature Engineering,we have successfully created new variables \n",
    "1)call_day\n",
    "2)month_day\n",
    "3)call_time"
   ]
  },
  {
   "cell_type": "markdown",
   "metadata": {},
   "source": [
    "### Feature Selection\n",
    "\n",
    "By observation we can see that list_id and dial_type are highly correlated because if list_id is in 998 or 999 dial type is manual otherwise auto.Hence we can delete list_id variable\n",
    "\n",
    "Processed column has only one value \"N\".\n",
    "So we can drop these two columns from dataframe\n"
   ]
  },
  {
   "cell_type": "code",
   "execution_count": 610,
   "metadata": {},
   "outputs": [],
   "source": [
    "calls_df=calls_df.drop([\"list_id\",\"processed\"],axis=1)"
   ]
  },
  {
   "cell_type": "markdown",
   "metadata": {},
   "source": [
    "We have successfully cleaned our dataset with help of missing value analysis,feature selection and feature engineering techniques"
   ]
  },
  {
   "cell_type": "markdown",
   "metadata": {},
   "source": [
    "# Exploratory Data Analysis"
   ]
  },
  {
   "cell_type": "code",
   "execution_count": 612,
   "metadata": {},
   "outputs": [
    {
     "name": "stdout",
     "output_type": "stream",
     "text": [
      "<class 'pandas.core.frame.DataFrame'>\n",
      "RangeIndex: 13144 entries, 0 to 13143\n",
      "Data columns (total 8 columns):\n",
      "status           13144 non-null object\n",
      "user             13144 non-null object\n",
      "phone number     13144 non-null object\n",
      "dial_type        13144 non-null object\n",
      "length_in_sec    13144 non-null float64\n",
      "call_day         13144 non-null object\n",
      "month_day        13144 non-null int64\n",
      "call_time        13144 non-null object\n",
      "dtypes: float64(1), int64(1), object(6)\n",
      "memory usage: 821.6+ KB\n"
     ]
    }
   ],
   "source": [
    "calls_df.info()"
   ]
  },
  {
   "cell_type": "markdown",
   "metadata": {},
   "source": [
    "### Descriptive statistics of variable\n",
    "\n",
    "Let's look at the statistics such mean,std,max,min,count of all variables"
   ]
  },
  {
   "cell_type": "markdown",
   "metadata": {},
   "source": [
    "#### Numerical variable"
   ]
  },
  {
   "cell_type": "code",
   "execution_count": 601,
   "metadata": {},
   "outputs": [
    {
     "data": {
      "text/html": [
       "<div>\n",
       "<style>\n",
       "    .dataframe thead tr:only-child th {\n",
       "        text-align: right;\n",
       "    }\n",
       "\n",
       "    .dataframe thead th {\n",
       "        text-align: left;\n",
       "    }\n",
       "\n",
       "    .dataframe tbody tr th {\n",
       "        vertical-align: top;\n",
       "    }\n",
       "</style>\n",
       "<table border=\"1\" class=\"dataframe\">\n",
       "  <thead>\n",
       "    <tr style=\"text-align: right;\">\n",
       "      <th></th>\n",
       "      <th>list_id</th>\n",
       "      <th>length_in_sec</th>\n",
       "      <th>month_day</th>\n",
       "    </tr>\n",
       "  </thead>\n",
       "  <tbody>\n",
       "    <tr>\n",
       "      <th>count</th>\n",
       "      <td>1.314400e+04</td>\n",
       "      <td>13144.000000</td>\n",
       "      <td>13144.000000</td>\n",
       "    </tr>\n",
       "    <tr>\n",
       "      <th>mean</th>\n",
       "      <td>3.186306e+06</td>\n",
       "      <td>84.560408</td>\n",
       "      <td>17.558658</td>\n",
       "    </tr>\n",
       "    <tr>\n",
       "      <th>std</th>\n",
       "      <td>1.502380e+07</td>\n",
       "      <td>138.518932</td>\n",
       "      <td>9.020333</td>\n",
       "    </tr>\n",
       "    <tr>\n",
       "      <th>min</th>\n",
       "      <td>2.020000e+02</td>\n",
       "      <td>0.000000</td>\n",
       "      <td>3.000000</td>\n",
       "    </tr>\n",
       "    <tr>\n",
       "      <th>25%</th>\n",
       "      <td>9.980000e+02</td>\n",
       "      <td>24.000000</td>\n",
       "      <td>10.000000</td>\n",
       "    </tr>\n",
       "    <tr>\n",
       "      <th>50%</th>\n",
       "      <td>9.980000e+02</td>\n",
       "      <td>48.000000</td>\n",
       "      <td>18.000000</td>\n",
       "    </tr>\n",
       "    <tr>\n",
       "      <th>75%</th>\n",
       "      <td>9.990000e+02</td>\n",
       "      <td>88.250000</td>\n",
       "      <td>26.000000</td>\n",
       "    </tr>\n",
       "    <tr>\n",
       "      <th>max</th>\n",
       "      <td>1.111202e+09</td>\n",
       "      <td>5828.000000</td>\n",
       "      <td>31.000000</td>\n",
       "    </tr>\n",
       "  </tbody>\n",
       "</table>\n",
       "</div>"
      ],
      "text/plain": [
       "            list_id  length_in_sec     month_day\n",
       "count  1.314400e+04   13144.000000  13144.000000\n",
       "mean   3.186306e+06      84.560408     17.558658\n",
       "std    1.502380e+07     138.518932      9.020333\n",
       "min    2.020000e+02       0.000000      3.000000\n",
       "25%    9.980000e+02      24.000000     10.000000\n",
       "50%    9.980000e+02      48.000000     18.000000\n",
       "75%    9.990000e+02      88.250000     26.000000\n",
       "max    1.111202e+09    5828.000000     31.000000"
      ]
     },
     "execution_count": 601,
     "metadata": {},
     "output_type": "execute_result"
    }
   ],
   "source": [
    "calls_df.describe()"
   ]
  },
  {
   "cell_type": "markdown",
   "metadata": {},
   "source": [
    "####  Categorical variable"
   ]
  },
  {
   "cell_type": "code",
   "execution_count": 614,
   "metadata": {},
   "outputs": [
    {
     "data": {
      "text/html": [
       "<div>\n",
       "<style>\n",
       "    .dataframe thead tr:only-child th {\n",
       "        text-align: right;\n",
       "    }\n",
       "\n",
       "    .dataframe thead th {\n",
       "        text-align: left;\n",
       "    }\n",
       "\n",
       "    .dataframe tbody tr th {\n",
       "        vertical-align: top;\n",
       "    }\n",
       "</style>\n",
       "<table border=\"1\" class=\"dataframe\">\n",
       "  <thead>\n",
       "    <tr style=\"text-align: right;\">\n",
       "      <th></th>\n",
       "      <th>status</th>\n",
       "      <th>user</th>\n",
       "      <th>phone number</th>\n",
       "      <th>dial_type</th>\n",
       "      <th>call_day</th>\n",
       "      <th>call_time</th>\n",
       "    </tr>\n",
       "  </thead>\n",
       "  <tbody>\n",
       "    <tr>\n",
       "      <th>count</th>\n",
       "      <td>13144</td>\n",
       "      <td>13144</td>\n",
       "      <td>13144</td>\n",
       "      <td>13144</td>\n",
       "      <td>13144</td>\n",
       "      <td>13144</td>\n",
       "    </tr>\n",
       "    <tr>\n",
       "      <th>unique</th>\n",
       "      <td>36</td>\n",
       "      <td>19</td>\n",
       "      <td>4502</td>\n",
       "      <td>2</td>\n",
       "      <td>6</td>\n",
       "      <td>3</td>\n",
       "    </tr>\n",
       "    <tr>\n",
       "      <th>top</th>\n",
       "      <td>NC</td>\n",
       "      <td>jyotsna</td>\n",
       "      <td>6365569977</td>\n",
       "      <td>MANUAL</td>\n",
       "      <td>Tuesday</td>\n",
       "      <td>Noon</td>\n",
       "    </tr>\n",
       "    <tr>\n",
       "      <th>freq</th>\n",
       "      <td>5811</td>\n",
       "      <td>1700</td>\n",
       "      <td>94</td>\n",
       "      <td>12311</td>\n",
       "      <td>3104</td>\n",
       "      <td>9276</td>\n",
       "    </tr>\n",
       "  </tbody>\n",
       "</table>\n",
       "</div>"
      ],
      "text/plain": [
       "       status     user  phone number dial_type call_day call_time\n",
       "count   13144    13144         13144     13144    13144     13144\n",
       "unique     36       19          4502         2        6         3\n",
       "top        NC  jyotsna    6365569977    MANUAL  Tuesday      Noon\n",
       "freq     5811     1700            94     12311     3104      9276"
      ]
     },
     "execution_count": 614,
     "metadata": {},
     "output_type": "execute_result"
    }
   ],
   "source": [
    "calls_df.describe(include=[\"object\"])"
   ]
  },
  {
   "cell_type": "markdown",
   "metadata": {},
   "source": [
    "## Univariate visualization\n",
    "\n",
    "Let us check distribution of numeric variable \"lenght in sec\".\n",
    "we can see that this variable is not distrbuted normally"
   ]
  },
  {
   "cell_type": "code",
   "execution_count": 639,
   "metadata": {},
   "outputs": [
    {
     "name": "stdout",
     "output_type": "stream",
     "text": [
      "[[<matplotlib.axes._subplots.AxesSubplot object at 0x000001EDD3AE0160>]]\n"
     ]
    },
    {
     "data": {
      "image/png": "[encoded data removed]",
      "text/plain": [
       "<matplotlib.figure.Figure at 0x1edd3eb2a90>"
      ]
     },
     "metadata": {},
     "output_type": "display_data"
    }
   ],
   "source": [
    "print(calls_df[[\"length_in_sec\"]].hist(bins=50,figsize=(20,10)))"
   ]
  },
  {
   "cell_type": "markdown",
   "metadata": {},
   "source": [
    "Let us have look at density plot of this varible.we can see that variable is right skewed"
   ]
  },
  {
   "cell_type": "markdown",
   "metadata": {},
   "source": [
    "### Density plots"
   ]
  },
  {
   "cell_type": "code",
   "execution_count": 640,
   "metadata": {},
   "outputs": [
    {
     "data": {
      "text/plain": [
       "<matplotlib.axes._subplots.AxesSubplot at 0x1edd3ae0358>"
      ]
     },
     "execution_count": 640,
     "metadata": {},
     "output_type": "execute_result"
    },
    {
     "data": {
      "image/png": "[encoded data removed]",
      "text/plain": [
       "<matplotlib.figure.Figure at 0x1edd37ca470>"
      ]
     },
     "metadata": {},
     "output_type": "display_data"
    }
   ],
   "source": [
    "calls_df[[\"length_in_sec\"]].plot(kind=\"density\")"
   ]
  },
  {
   "cell_type": "code",
   "execution_count": 641,
   "metadata": {},
   "outputs": [
    {
     "data": {
      "text/plain": [
       "<matplotlib.axes._subplots.AxesSubplot at 0x1edd386c358>"
      ]
     },
     "execution_count": 641,
     "metadata": {},
     "output_type": "execute_result"
    },
    {
     "data": {
      "image/png": "[encoded data removed]",
      "text/plain": [
       "<matplotlib.figure.Figure at 0x1edd37f5e48>"
      ]
     },
     "metadata": {},
     "output_type": "display_data"
    }
   ],
   "source": [
    "sns.distplot(calls_df[\"length_in_sec\"])"
   ]
  },
  {
   "cell_type": "markdown",
   "metadata": {},
   "source": [
    "### Box plots and violin plots"
   ]
  },
  {
   "cell_type": "code",
   "execution_count": 642,
   "metadata": {},
   "outputs": [
    {
     "data": {
      "text/plain": [
       "<matplotlib.axes._subplots.AxesSubplot at 0x1edd3e7a0f0>"
      ]
     },
     "execution_count": 642,
     "metadata": {},
     "output_type": "execute_result"
    },
    {
     "data": {
      "image/png": "[encoded data removed]",
      "text/plain": [
       "<matplotlib.figure.Figure at 0x1edd3860c18>"
      ]
     },
     "metadata": {},
     "output_type": "display_data"
    }
   ],
   "source": [
    "#Outliers\n",
    "sns.boxplot(calls_df[\"length_in_sec\"],orient='v')"
   ]
  },
  {
   "cell_type": "code",
   "execution_count": 643,
   "metadata": {},
   "outputs": [
    {
     "data": {
      "text/plain": [
       "<matplotlib.axes._subplots.AxesSubplot at 0x1edd3860278>"
      ]
     },
     "execution_count": 643,
     "metadata": {},
     "output_type": "execute_result"
    },
    {
     "data": {
      "image/png": "[encoded data removed]",
      "text/plain": [
       "<matplotlib.figure.Figure at 0x1edd38cf630>"
      ]
     },
     "metadata": {},
     "output_type": "display_data"
    }
   ],
   "source": [
    "sns.violinplot(calls_df[\"length_in_sec\"],orient='v')"
   ]
  },
  {
   "cell_type": "markdown",
   "metadata": {},
   "source": [
    "### Categorical Variables Visualization"
   ]
  },
  {
   "cell_type": "code",
   "execution_count": 648,
   "metadata": {},
   "outputs": [
    {
     "data": {
      "text/plain": [
       "MANUAL    12311\n",
       "AUTO        833\n",
       "Name: dial_type, dtype: int64"
      ]
     },
     "execution_count": 648,
     "metadata": {},
     "output_type": "execute_result"
    }
   ],
   "source": [
    "#Categorical variables\n",
    "calls_df[\"dial_type\"].value_counts()"
   ]
  },
  {
   "cell_type": "code",
   "execution_count": 647,
   "metadata": {},
   "outputs": [
    {
     "data": {
      "text/plain": [
       "<matplotlib.axes._subplots.AxesSubplot at 0x1edd3a1f588>"
      ]
     },
     "execution_count": 647,
     "metadata": {},
     "output_type": "execute_result"
    },
    {
     "data": {
      "image/png": "[encoded data removed]",
      "text/plain": [
       "<matplotlib.figure.Figure at 0x1edd3a62898>"
      ]
     },
     "metadata": {},
     "output_type": "display_data"
    }
   ],
   "source": [
    "sns.countplot(calls_df[\"dial_type\"])"
   ]
  },
  {
   "cell_type": "markdown",
   "metadata": {},
   "source": [
    "We can see that there are more number of calls dialled manually from 998 or 999"
   ]
  },
  {
   "cell_type": "markdown",
   "metadata": {},
   "source": [
    "###  distribution of status and user variable"
   ]
  },
  {
   "cell_type": "code",
   "execution_count": 649,
   "metadata": {},
   "outputs": [
    {
     "data": {
      "text/plain": [
       "<matplotlib.axes._subplots.AxesSubplot at 0x1edc637d780>"
      ]
     },
     "execution_count": 649,
     "metadata": {},
     "output_type": "execute_result"
    },
    {
     "data": {
      "image/png": "[encoded data removed]",
      "text/plain": [
       "<matplotlib.figure.Figure at 0x1edc626ffd0>"
      ]
     },
     "metadata": {},
     "output_type": "display_data"
    }
   ],
   "source": [
    "_,ax=plt.subplots(2,1,figsize=(20,20))\n",
    "sns.countplot(calls_df[\"user\"],ax=ax[0])\n",
    "sns.countplot(calls_df[\"status\"],ax=ax[1])\n"
   ]
  },
  {
   "cell_type": "markdown",
   "metadata": {},
   "source": [
    "Customer care employees who has attended more number of calls are\n",
    "Jyosthna,prerana,akanksha,priyanka,deepthi user\n",
    "They contribute almost 50 percent of calls\n",
    "\n",
    "And most of calls status is NC which means customer is not contactable"
   ]
  },
  {
   "cell_type": "code",
   "execution_count": 650,
   "metadata": {},
   "outputs": [
    {
     "data": {
      "text/plain": [
       "<matplotlib.axes._subplots.AxesSubplot at 0x1edcc395cf8>"
      ]
     },
     "execution_count": 650,
     "metadata": {},
     "output_type": "execute_result"
    },
    {
     "data": {
      "image/png": "[encoded data removed]",
      "text/plain": [
       "<matplotlib.figure.Figure at 0x1edcc312b00>"
      ]
     },
     "metadata": {},
     "output_type": "display_data"
    }
   ],
   "source": [
    "_,ax=plt.subplots(1,2,figsize=(12,7))\n",
    "sns.countplot(calls_df[\"call_day\"],ax=ax[0])\n",
    "sns.countplot(calls_df[\"call_time\"],ax=ax[1])"
   ]
  },
  {
   "cell_type": "markdown",
   "metadata": {},
   "source": [
    "we can see that most of calls are at noon time and evening.\n",
    "coming to weekdays,\n",
    "1) Tuesday\n",
    "2) Friday\n",
    "3) Monday \n",
    "has highest number of calls"
   ]
  },
  {
   "cell_type": "markdown",
   "metadata": {},
   "source": [
    "### Understanding dispostion file"
   ]
  },
  {
   "cell_type": "code",
   "execution_count": 651,
   "metadata": {
    "collapsed": true
   },
   "outputs": [],
   "source": [
    "disposition_df=pd.read_excel(\"Call Records.xlsx\",sheetname=\"Disposition Definition\",na_values=[\"NULL\",\"\",\" \"],keep_default_na=False).iloc[:,1:]"
   ]
  },
  {
   "cell_type": "code",
   "execution_count": 652,
   "metadata": {},
   "outputs": [
    {
     "data": {
      "text/plain": [
       "(36, 4)"
      ]
     },
     "execution_count": 652,
     "metadata": {},
     "output_type": "execute_result"
    }
   ],
   "source": [
    "disposition_df.shape"
   ]
  },
  {
   "cell_type": "code",
   "execution_count": 653,
   "metadata": {},
   "outputs": [
    {
     "data": {
      "text/plain": [
       "Index(['Disposition', 'Call type', 'Customer response', 'Agent analysis'], dtype='object')"
      ]
     },
     "execution_count": 653,
     "metadata": {},
     "output_type": "execute_result"
    }
   ],
   "source": [
    "disposition_df.columns"
   ]
  },
  {
   "cell_type": "code",
   "execution_count": 394,
   "metadata": {},
   "outputs": [
    {
     "data": {
      "text/html": [
       "<div>\n",
       "<style>\n",
       "    .dataframe thead tr:only-child th {\n",
       "        text-align: right;\n",
       "    }\n",
       "\n",
       "    .dataframe thead th {\n",
       "        text-align: left;\n",
       "    }\n",
       "\n",
       "    .dataframe tbody tr th {\n",
       "        vertical-align: top;\n",
       "    }\n",
       "</style>\n",
       "<table border=\"1\" class=\"dataframe\">\n",
       "  <thead>\n",
       "    <tr style=\"text-align: right;\">\n",
       "      <th></th>\n",
       "      <th>Disposition</th>\n",
       "      <th>Call type</th>\n",
       "      <th>Customer response</th>\n",
       "      <th>Agent analysis</th>\n",
       "    </tr>\n",
       "  </thead>\n",
       "  <tbody>\n",
       "    <tr>\n",
       "      <th>0</th>\n",
       "      <td>AB</td>\n",
       "      <td>NaN</td>\n",
       "      <td>NaN</td>\n",
       "      <td>NaN</td>\n",
       "    </tr>\n",
       "    <tr>\n",
       "      <th>1</th>\n",
       "      <td>AP</td>\n",
       "      <td>Appointment Call</td>\n",
       "      <td>NaN</td>\n",
       "      <td>NaN</td>\n",
       "    </tr>\n",
       "    <tr>\n",
       "      <th>2</th>\n",
       "      <td>BSV</td>\n",
       "      <td>Background verification call</td>\n",
       "      <td>NaN</td>\n",
       "      <td>NaN</td>\n",
       "    </tr>\n",
       "    <tr>\n",
       "      <th>3</th>\n",
       "      <td>CALLBK</td>\n",
       "      <td>NaN</td>\n",
       "      <td>Customer said to call back</td>\n",
       "      <td>NaN</td>\n",
       "    </tr>\n",
       "    <tr>\n",
       "      <th>4</th>\n",
       "      <td>CFU</td>\n",
       "      <td>NaN</td>\n",
       "      <td>Customer said to follow up</td>\n",
       "      <td>NaN</td>\n",
       "    </tr>\n",
       "  </tbody>\n",
       "</table>\n",
       "</div>"
      ],
      "text/plain": [
       "  Disposition                     Call type           Customer response  \\\n",
       "0          AB                           NaN                         NaN   \n",
       "1          AP              Appointment Call                         NaN   \n",
       "2         BSV  Background verification call                         NaN   \n",
       "3      CALLBK                           NaN  Customer said to call back   \n",
       "4         CFU                           NaN  Customer said to follow up   \n",
       "\n",
       "  Agent analysis  \n",
       "0            NaN  \n",
       "1            NaN  \n",
       "2            NaN  \n",
       "3            NaN  \n",
       "4            NaN  "
      ]
     },
     "execution_count": 394,
     "metadata": {},
     "output_type": "execute_result"
    }
   ],
   "source": [
    "disposition_df.head()"
   ]
  },
  {
   "cell_type": "markdown",
   "metadata": {},
   "source": [
    "### Business Understanding"
   ]
  },
  {
   "cell_type": "markdown",
   "metadata": {},
   "source": [
    "dispostion_definition has four columns.\n",
    "Let us categorize the entire dataset into five variables\n",
    "\n",
    "Important:\n",
    "These are important calls such as appointment call,feedback call,signup call which are so important to business.\n",
    "There may be chance that these customers may accept the offer if they are eligible\n",
    "['AP','ESC','FB','FU','PC','RefC','SC','SU','TC','BSV'] these are converted into Important status\n",
    "\n",
    "Interested:if customer is interested to call back or follow up or drop off due to system issue.it means customer is interested to listen to offer.So  ['CALLBK','CFU','FCB','INCALL','DROP','PDDROP','XFER'] are converted into \"Interested Status\"\n",
    "\n",
    "Not Interested:\n",
    "['DND','HU','NA','Reject'] If customer is not interested or if he rejects the offers then it means he is not interested\n",
    "\n",
    "Ignore:\n",
    "This category has to be ignored from dataset.Mistaken calls,duplicates.These are useless information.\n",
    "['DC','DISPO','Duplic','Mistak','AB'].These statuse are converted into Ignore statues\n",
    "\n",
    "Not Eligible:\n",
    "['CNE','NB','NC','NENoD','NEOHP','NEOth','NETO','NEV','Outst'] these statuses are converted in to Not Eligible statuses as these\n",
    "customers are not eligible depending on various factors\n",
    "\n",
    "\n",
    "Business Value:\n",
    "1)Important\n",
    "2)Interested\n",
    "\n",
    "No Business value:\n",
    "3)Not Eligible\n",
    "4)Not Interested\n",
    "5)Ignore\n"
   ]
  },
  {
   "cell_type": "markdown",
   "metadata": {},
   "source": [
    "Let us create a new variable based on different statuses\n",
    "We have created 5 bins \n",
    "1)Important\n",
    "2)Interested\n",
    "3)Not Eligible\n",
    "4)Not Interested\n",
    "5)Ignore\n",
    "\n",
    "Assigning the different statuses to 5 bins\n",
    "\n",
    "This helps us classify the dataset based on business understanding"
   ]
  },
  {
   "cell_type": "code",
   "execution_count": 656,
   "metadata": {
    "collapsed": true
   },
   "outputs": [],
   "source": [
    "disposition_dict={\"Important\":['AP','ESC','FB','FU','PC','RefC','SC','SU','TC','BSV'],\n",
    "                  \"Interested\":['CALLBK','CFU','FCB','INCALL','DROP','PDDROP','XFER'],\n",
    "                  \"Not Eligilble\":['CNE','NB','NC','NENoD','NEOHP','NEOth','NETO','NEV','Outst'],\n",
    "                  \"Not Interested\":['DND','HU','NA','Reject'],\n",
    "                  \"Ignore\":['DC','DISPO','Duplic','Mistak','AB']}\n"
   ]
  },
  {
   "cell_type": "code",
   "execution_count": 657,
   "metadata": {
    "collapsed": true
   },
   "outputs": [],
   "source": [
    "def getstatus(x):\n",
    "    for K in disposition_dict.keys():\n",
    "        if x in disposition_dict[K]:\n",
    "            return K\n",
    "calls_df[\"call_type\"]=calls_df[\"status\"].apply(lambda x:getstatus(x))"
   ]
  },
  {
   "cell_type": "markdown",
   "metadata": {},
   "source": [
    "### distribution  of call type"
   ]
  },
  {
   "cell_type": "code",
   "execution_count": 658,
   "metadata": {},
   "outputs": [
    {
     "data": {
      "text/plain": [
       "<matplotlib.axes._subplots.AxesSubplot at 0x1edd59315c0>"
      ]
     },
     "execution_count": 658,
     "metadata": {},
     "output_type": "execute_result"
    },
    {
     "data": {
      "image/png": "[encoded data removed]",
      "text/plain": [
       "<matplotlib.figure.Figure at 0x1edd592c978>"
      ]
     },
     "metadata": {},
     "output_type": "display_data"
    }
   ],
   "source": [
    "sns.countplot(calls_df[\"call_type\"])"
   ]
  },
  {
   "cell_type": "markdown",
   "metadata": {},
   "source": [
    "We can see that most number of calls belongs to \"Not Eligible\" status"
   ]
  },
  {
   "cell_type": "markdown",
   "metadata": {},
   "source": [
    "### Factor plots "
   ]
  },
  {
   "cell_type": "code",
   "execution_count": 449,
   "metadata": {},
   "outputs": [
    {
     "data": {
      "text/plain": [
       "<IPython.core.display.Javascript object>"
      ]
     },
     "metadata": {},
     "output_type": "display_data"
    },
    {
     "data": {
      "text/html": [
       "<img src=\"data:image/png;base64,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\" width=\"1727.7778235482592\">"
      ],
      "text/plain": [
       "<IPython.core.display.HTML object>"
      ]
     },
     "metadata": {},
     "output_type": "execute_result"
    },
    {
     "data": {
      "text/plain": [
       "<seaborn.axisgrid.FacetGrid at 0x1edc6873470>"
      ]
     },
     "execution_count": 449,
     "metadata": {},
     "output_type": "execute_result"
    }
   ],
   "source": [
    "#quantitative-categorical-categorical\n",
    "sns.factorplot(x='call_type',y='length_in_sec',col='call_day',data=calls_df,kind='bar')"
   ]
  },
  {
   "cell_type": "markdown",
   "metadata": {},
   "source": [
    "# Top 10 Customers who can made important calls\n"
   ]
  },
  {
   "cell_type": "code",
   "execution_count": 660,
   "metadata": {
    "scrolled": true
   },
   "outputs": [
    {
     "data": {
      "text/plain": [
       "5419196969    27\n",
       "5600724140    23\n",
       "5538515171    21\n",
       "7652834405    20\n",
       "5542541114    20\n",
       "5704663597    19\n",
       "5881301783    18\n",
       "5418863566    17\n",
       "7295734373    17\n",
       "Name: phone number, dtype: int64"
      ]
     },
     "execution_count": 660,
     "metadata": {},
     "output_type": "execute_result"
    }
   ],
   "source": [
    "calls_df.loc[(calls_df[\"call_type\"]==\"Important\"),\"phone number\"].value_counts()[0:9]"
   ]
  },
  {
   "cell_type": "markdown",
   "metadata": {},
   "source": [
    "let us look the data of customer with phone number 5419196969 and 5600724140"
   ]
  },
  {
   "cell_type": "code",
   "execution_count": 661,
   "metadata": {},
   "outputs": [
    {
     "data": {
      "text/html": [
       "<div>\n",
       "<style>\n",
       "    .dataframe thead tr:only-child th {\n",
       "        text-align: right;\n",
       "    }\n",
       "\n",
       "    .dataframe thead th {\n",
       "        text-align: left;\n",
       "    }\n",
       "\n",
       "    .dataframe tbody tr th {\n",
       "        vertical-align: top;\n",
       "    }\n",
       "</style>\n",
       "<table border=\"1\" class=\"dataframe\">\n",
       "  <thead>\n",
       "    <tr style=\"text-align: right;\">\n",
       "      <th></th>\n",
       "      <th>status</th>\n",
       "      <th>user</th>\n",
       "      <th>phone number</th>\n",
       "      <th>dial_type</th>\n",
       "      <th>length_in_sec</th>\n",
       "      <th>call_day</th>\n",
       "      <th>month_day</th>\n",
       "      <th>call_time</th>\n",
       "      <th>call_type</th>\n",
       "    </tr>\n",
       "  </thead>\n",
       "  <tbody>\n",
       "    <tr>\n",
       "      <th>806</th>\n",
       "      <td>FU</td>\n",
       "      <td>deepthi</td>\n",
       "      <td>5419196969</td>\n",
       "      <td>MANUAL</td>\n",
       "      <td>364.0</td>\n",
       "      <td>Wednesday</td>\n",
       "      <td>4</td>\n",
       "      <td>Noon</td>\n",
       "      <td>Important</td>\n",
       "    </tr>\n",
       "    <tr>\n",
       "      <th>834</th>\n",
       "      <td>FU</td>\n",
       "      <td>deepthi</td>\n",
       "      <td>5419196969</td>\n",
       "      <td>MANUAL</td>\n",
       "      <td>179.0</td>\n",
       "      <td>Wednesday</td>\n",
       "      <td>4</td>\n",
       "      <td>Noon</td>\n",
       "      <td>Important</td>\n",
       "    </tr>\n",
       "    <tr>\n",
       "      <th>981</th>\n",
       "      <td>FU</td>\n",
       "      <td>deepthi</td>\n",
       "      <td>5419196969</td>\n",
       "      <td>MANUAL</td>\n",
       "      <td>38.0</td>\n",
       "      <td>Wednesday</td>\n",
       "      <td>4</td>\n",
       "      <td>Noon</td>\n",
       "      <td>Important</td>\n",
       "    </tr>\n",
       "    <tr>\n",
       "      <th>1536</th>\n",
       "      <td>FU</td>\n",
       "      <td>deepthi</td>\n",
       "      <td>5419196969</td>\n",
       "      <td>MANUAL</td>\n",
       "      <td>95.0</td>\n",
       "      <td>Thursday</td>\n",
       "      <td>5</td>\n",
       "      <td>Noon</td>\n",
       "      <td>Important</td>\n",
       "    </tr>\n",
       "    <tr>\n",
       "      <th>1653</th>\n",
       "      <td>FU</td>\n",
       "      <td>deepthi</td>\n",
       "      <td>5419196969</td>\n",
       "      <td>MANUAL</td>\n",
       "      <td>141.0</td>\n",
       "      <td>Thursday</td>\n",
       "      <td>5</td>\n",
       "      <td>Noon</td>\n",
       "      <td>Important</td>\n",
       "    </tr>\n",
       "  </tbody>\n",
       "</table>\n",
       "</div>"
      ],
      "text/plain": [
       "     status     user phone number dial_type  length_in_sec   call_day  \\\n",
       "806      FU  deepthi   5419196969    MANUAL          364.0  Wednesday   \n",
       "834      FU  deepthi   5419196969    MANUAL          179.0  Wednesday   \n",
       "981      FU  deepthi   5419196969    MANUAL           38.0  Wednesday   \n",
       "1536     FU  deepthi   5419196969    MANUAL           95.0   Thursday   \n",
       "1653     FU  deepthi   5419196969    MANUAL          141.0   Thursday   \n",
       "\n",
       "      month_day call_time  call_type  \n",
       "806           4      Noon  Important  \n",
       "834           4      Noon  Important  \n",
       "981           4      Noon  Important  \n",
       "1536          5      Noon  Important  \n",
       "1653          5      Noon  Important  "
      ]
     },
     "execution_count": 661,
     "metadata": {},
     "output_type": "execute_result"
    }
   ],
   "source": [
    "calls_df[calls_df[\"phone number\"]==5419196969].head()"
   ]
  },
  {
   "cell_type": "code",
   "execution_count": 662,
   "metadata": {},
   "outputs": [
    {
     "data": {
      "text/html": [
       "<div>\n",
       "<style>\n",
       "    .dataframe thead tr:only-child th {\n",
       "        text-align: right;\n",
       "    }\n",
       "\n",
       "    .dataframe thead th {\n",
       "        text-align: left;\n",
       "    }\n",
       "\n",
       "    .dataframe tbody tr th {\n",
       "        vertical-align: top;\n",
       "    }\n",
       "</style>\n",
       "<table border=\"1\" class=\"dataframe\">\n",
       "  <thead>\n",
       "    <tr style=\"text-align: right;\">\n",
       "      <th></th>\n",
       "      <th>status</th>\n",
       "      <th>user</th>\n",
       "      <th>phone number</th>\n",
       "      <th>dial_type</th>\n",
       "      <th>length_in_sec</th>\n",
       "      <th>call_day</th>\n",
       "      <th>month_day</th>\n",
       "      <th>call_time</th>\n",
       "      <th>call_type</th>\n",
       "    </tr>\n",
       "  </thead>\n",
       "  <tbody>\n",
       "    <tr>\n",
       "      <th>2982</th>\n",
       "      <td>NC</td>\n",
       "      <td>syedriyas</td>\n",
       "      <td>5600724140</td>\n",
       "      <td>MANUAL</td>\n",
       "      <td>65.0</td>\n",
       "      <td>Monday</td>\n",
       "      <td>9</td>\n",
       "      <td>Evening</td>\n",
       "      <td>Not Eligilble</td>\n",
       "    </tr>\n",
       "    <tr>\n",
       "      <th>3050</th>\n",
       "      <td>FU</td>\n",
       "      <td>sunil</td>\n",
       "      <td>5600724140</td>\n",
       "      <td>MANUAL</td>\n",
       "      <td>331.0</td>\n",
       "      <td>Tuesday</td>\n",
       "      <td>10</td>\n",
       "      <td>Noon</td>\n",
       "      <td>Important</td>\n",
       "    </tr>\n",
       "    <tr>\n",
       "      <th>3204</th>\n",
       "      <td>FU</td>\n",
       "      <td>sunil</td>\n",
       "      <td>5600724140</td>\n",
       "      <td>MANUAL</td>\n",
       "      <td>97.0</td>\n",
       "      <td>Tuesday</td>\n",
       "      <td>10</td>\n",
       "      <td>Noon</td>\n",
       "      <td>Important</td>\n",
       "    </tr>\n",
       "    <tr>\n",
       "      <th>4241</th>\n",
       "      <td>FU</td>\n",
       "      <td>akanksha</td>\n",
       "      <td>5600724140</td>\n",
       "      <td>MANUAL</td>\n",
       "      <td>176.0</td>\n",
       "      <td>Thursday</td>\n",
       "      <td>12</td>\n",
       "      <td>Noon</td>\n",
       "      <td>Important</td>\n",
       "    </tr>\n",
       "    <tr>\n",
       "      <th>4290</th>\n",
       "      <td>FU</td>\n",
       "      <td>akanksha</td>\n",
       "      <td>5600724140</td>\n",
       "      <td>MANUAL</td>\n",
       "      <td>201.0</td>\n",
       "      <td>Thursday</td>\n",
       "      <td>12</td>\n",
       "      <td>Noon</td>\n",
       "      <td>Important</td>\n",
       "    </tr>\n",
       "  </tbody>\n",
       "</table>\n",
       "</div>"
      ],
      "text/plain": [
       "     status       user phone number dial_type  length_in_sec  call_day  \\\n",
       "2982     NC  syedriyas   5600724140    MANUAL           65.0    Monday   \n",
       "3050     FU      sunil   5600724140    MANUAL          331.0   Tuesday   \n",
       "3204     FU      sunil   5600724140    MANUAL           97.0   Tuesday   \n",
       "4241     FU   akanksha   5600724140    MANUAL          176.0  Thursday   \n",
       "4290     FU   akanksha   5600724140    MANUAL          201.0  Thursday   \n",
       "\n",
       "      month_day call_time      call_type  \n",
       "2982          9   Evening  Not Eligilble  \n",
       "3050         10      Noon      Important  \n",
       "3204         10      Noon      Important  \n",
       "4241         12      Noon      Important  \n",
       "4290         12      Noon      Important  "
      ]
     },
     "execution_count": 662,
     "metadata": {},
     "output_type": "execute_result"
    }
   ],
   "source": [
    "calls_df[calls_df[\"phone number\"]==5600724140].head()"
   ]
  },
  {
   "cell_type": "raw",
   "metadata": {},
   "source": [
    "Looks like so many calls has made so many follow up calls regarding any update.\n",
    "we can instruct customer care employees to clarify the user quickly to improve the services\n"
   ]
  },
  {
   "cell_type": "markdown",
   "metadata": {},
   "source": [
    "# call drops due to the system issue\n",
    "\n",
    "let us look at the number calls dropped due to the issue"
   ]
  },
  {
   "cell_type": "code",
   "execution_count": 664,
   "metadata": {},
   "outputs": [
    {
     "data": {
      "text/plain": [
       "Noon       29\n",
       "Evening    13\n",
       "Morning     1\n",
       "Name: call_time, dtype: int64"
      ]
     },
     "execution_count": 664,
     "metadata": {},
     "output_type": "execute_result"
    }
   ],
   "source": [
    "calls_df.loc[calls_df[\"status\"]==\"INCALL\",\"call_time\"].value_counts()"
   ]
  },
  {
   "cell_type": "markdown",
   "metadata": {},
   "source": [
    "Looks like most of the issues coming in afternoon.We have to resolve those issues to improve the customer service"
   ]
  },
  {
   "cell_type": "markdown",
   "metadata": {},
   "source": [
    "# Escalation calls\n",
    "\n",
    "let us look at the number of escalated calls during october month.Escalated calls are very important to business.\n",
    "Customer might be having issues.Let us have a look at their data"
   ]
  },
  {
   "cell_type": "code",
   "execution_count": 665,
   "metadata": {},
   "outputs": [
    {
     "data": {
      "text/html": [
       "<div>\n",
       "<style>\n",
       "    .dataframe thead tr:only-child th {\n",
       "        text-align: right;\n",
       "    }\n",
       "\n",
       "    .dataframe thead th {\n",
       "        text-align: left;\n",
       "    }\n",
       "\n",
       "    .dataframe tbody tr th {\n",
       "        vertical-align: top;\n",
       "    }\n",
       "</style>\n",
       "<table border=\"1\" class=\"dataframe\">\n",
       "  <thead>\n",
       "    <tr style=\"text-align: right;\">\n",
       "      <th></th>\n",
       "      <th>status</th>\n",
       "      <th>user</th>\n",
       "      <th>phone number</th>\n",
       "      <th>dial_type</th>\n",
       "      <th>length_in_sec</th>\n",
       "      <th>call_day</th>\n",
       "      <th>month_day</th>\n",
       "      <th>call_time</th>\n",
       "      <th>call_type</th>\n",
       "    </tr>\n",
       "  </thead>\n",
       "  <tbody>\n",
       "    <tr>\n",
       "      <th>7287</th>\n",
       "      <td>ESC</td>\n",
       "      <td>dj</td>\n",
       "      <td>5713155441</td>\n",
       "      <td>MANUAL</td>\n",
       "      <td>25.0</td>\n",
       "      <td>Friday</td>\n",
       "      <td>20</td>\n",
       "      <td>Noon</td>\n",
       "      <td>Important</td>\n",
       "    </tr>\n",
       "  </tbody>\n",
       "</table>\n",
       "</div>"
      ],
      "text/plain": [
       "     status user phone number dial_type  length_in_sec call_day  month_day  \\\n",
       "7287    ESC   dj   5713155441    MANUAL           25.0   Friday         20   \n",
       "\n",
       "     call_time  call_type  \n",
       "7287      Noon  Important  "
      ]
     },
     "execution_count": 665,
     "metadata": {},
     "output_type": "execute_result"
    }
   ],
   "source": [
    "calls_df[calls_df[\"status\"]==\"ESC\"]"
   ]
  },
  {
   "cell_type": "code",
   "execution_count": 666,
   "metadata": {},
   "outputs": [
    {
     "data": {
      "text/html": [
       "<div>\n",
       "<style>\n",
       "    .dataframe thead tr:only-child th {\n",
       "        text-align: right;\n",
       "    }\n",
       "\n",
       "    .dataframe thead th {\n",
       "        text-align: left;\n",
       "    }\n",
       "\n",
       "    .dataframe tbody tr th {\n",
       "        vertical-align: top;\n",
       "    }\n",
       "</style>\n",
       "<table border=\"1\" class=\"dataframe\">\n",
       "  <thead>\n",
       "    <tr style=\"text-align: right;\">\n",
       "      <th></th>\n",
       "      <th>status</th>\n",
       "      <th>user</th>\n",
       "      <th>phone number</th>\n",
       "      <th>dial_type</th>\n",
       "      <th>length_in_sec</th>\n",
       "      <th>call_day</th>\n",
       "      <th>month_day</th>\n",
       "      <th>call_time</th>\n",
       "      <th>call_type</th>\n",
       "    </tr>\n",
       "  </thead>\n",
       "  <tbody>\n",
       "    <tr>\n",
       "      <th>859</th>\n",
       "      <td>Reject</td>\n",
       "      <td>aarti</td>\n",
       "      <td>5713155441</td>\n",
       "      <td>MANUAL</td>\n",
       "      <td>90.0</td>\n",
       "      <td>Wednesday</td>\n",
       "      <td>4</td>\n",
       "      <td>Noon</td>\n",
       "      <td>Not Interested</td>\n",
       "    </tr>\n",
       "    <tr>\n",
       "      <th>6588</th>\n",
       "      <td>NI</td>\n",
       "      <td>6666</td>\n",
       "      <td>5713155441</td>\n",
       "      <td>MANUAL</td>\n",
       "      <td>2.0</td>\n",
       "      <td>Wednesday</td>\n",
       "      <td>18</td>\n",
       "      <td>Noon</td>\n",
       "      <td>None</td>\n",
       "    </tr>\n",
       "    <tr>\n",
       "      <th>6636</th>\n",
       "      <td>NC</td>\n",
       "      <td>akanksha</td>\n",
       "      <td>5713155441</td>\n",
       "      <td>MANUAL</td>\n",
       "      <td>9.0</td>\n",
       "      <td>Wednesday</td>\n",
       "      <td>18</td>\n",
       "      <td>Noon</td>\n",
       "      <td>Not Eligilble</td>\n",
       "    </tr>\n",
       "    <tr>\n",
       "      <th>6640</th>\n",
       "      <td>HU</td>\n",
       "      <td>deepthi</td>\n",
       "      <td>5713155441</td>\n",
       "      <td>MANUAL</td>\n",
       "      <td>8.0</td>\n",
       "      <td>Wednesday</td>\n",
       "      <td>18</td>\n",
       "      <td>Evening</td>\n",
       "      <td>Not Interested</td>\n",
       "    </tr>\n",
       "    <tr>\n",
       "      <th>6716</th>\n",
       "      <td>NC</td>\n",
       "      <td>deepthi</td>\n",
       "      <td>5713155441</td>\n",
       "      <td>MANUAL</td>\n",
       "      <td>8.0</td>\n",
       "      <td>Wednesday</td>\n",
       "      <td>18</td>\n",
       "      <td>Evening</td>\n",
       "      <td>Not Eligilble</td>\n",
       "    </tr>\n",
       "    <tr>\n",
       "      <th>6721</th>\n",
       "      <td>NC</td>\n",
       "      <td>priyanka</td>\n",
       "      <td>5713155441</td>\n",
       "      <td>MANUAL</td>\n",
       "      <td>6.0</td>\n",
       "      <td>Wednesday</td>\n",
       "      <td>18</td>\n",
       "      <td>Evening</td>\n",
       "      <td>Not Eligilble</td>\n",
       "    </tr>\n",
       "    <tr>\n",
       "      <th>7283</th>\n",
       "      <td>HU</td>\n",
       "      <td>dj</td>\n",
       "      <td>5713155441</td>\n",
       "      <td>MANUAL</td>\n",
       "      <td>8.0</td>\n",
       "      <td>Friday</td>\n",
       "      <td>20</td>\n",
       "      <td>Noon</td>\n",
       "      <td>Not Interested</td>\n",
       "    </tr>\n",
       "    <tr>\n",
       "      <th>7287</th>\n",
       "      <td>ESC</td>\n",
       "      <td>dj</td>\n",
       "      <td>5713155441</td>\n",
       "      <td>MANUAL</td>\n",
       "      <td>25.0</td>\n",
       "      <td>Friday</td>\n",
       "      <td>20</td>\n",
       "      <td>Noon</td>\n",
       "      <td>Important</td>\n",
       "    </tr>\n",
       "    <tr>\n",
       "      <th>8379</th>\n",
       "      <td>NA</td>\n",
       "      <td>VDAD</td>\n",
       "      <td>5713155441</td>\n",
       "      <td>AUTO</td>\n",
       "      <td>0.0</td>\n",
       "      <td>Monday</td>\n",
       "      <td>23</td>\n",
       "      <td>Evening</td>\n",
       "      <td>Not Interested</td>\n",
       "    </tr>\n",
       "    <tr>\n",
       "      <th>8384</th>\n",
       "      <td>NB</td>\n",
       "      <td>dj</td>\n",
       "      <td>5713155441</td>\n",
       "      <td>AUTO</td>\n",
       "      <td>8.0</td>\n",
       "      <td>Monday</td>\n",
       "      <td>23</td>\n",
       "      <td>Evening</td>\n",
       "      <td>Not Eligilble</td>\n",
       "    </tr>\n",
       "    <tr>\n",
       "      <th>10586</th>\n",
       "      <td>NC</td>\n",
       "      <td>prerana</td>\n",
       "      <td>5713155441</td>\n",
       "      <td>MANUAL</td>\n",
       "      <td>62.0</td>\n",
       "      <td>Friday</td>\n",
       "      <td>27</td>\n",
       "      <td>Noon</td>\n",
       "      <td>Not Eligilble</td>\n",
       "    </tr>\n",
       "    <tr>\n",
       "      <th>11230</th>\n",
       "      <td>NC</td>\n",
       "      <td>dj</td>\n",
       "      <td>5713155441</td>\n",
       "      <td>MANUAL</td>\n",
       "      <td>14.0</td>\n",
       "      <td>Saturday</td>\n",
       "      <td>28</td>\n",
       "      <td>Noon</td>\n",
       "      <td>Not Eligilble</td>\n",
       "    </tr>\n",
       "    <tr>\n",
       "      <th>11232</th>\n",
       "      <td>NC</td>\n",
       "      <td>dj</td>\n",
       "      <td>5713155441</td>\n",
       "      <td>MANUAL</td>\n",
       "      <td>40.0</td>\n",
       "      <td>Saturday</td>\n",
       "      <td>28</td>\n",
       "      <td>Noon</td>\n",
       "      <td>Not Eligilble</td>\n",
       "    </tr>\n",
       "    <tr>\n",
       "      <th>11601</th>\n",
       "      <td>NC</td>\n",
       "      <td>jyotsna</td>\n",
       "      <td>5713155441</td>\n",
       "      <td>MANUAL</td>\n",
       "      <td>47.0</td>\n",
       "      <td>Monday</td>\n",
       "      <td>30</td>\n",
       "      <td>Morning</td>\n",
       "      <td>Not Eligilble</td>\n",
       "    </tr>\n",
       "    <tr>\n",
       "      <th>11603</th>\n",
       "      <td>NC</td>\n",
       "      <td>jyotsna</td>\n",
       "      <td>5713155441</td>\n",
       "      <td>MANUAL</td>\n",
       "      <td>3.0</td>\n",
       "      <td>Monday</td>\n",
       "      <td>30</td>\n",
       "      <td>Morning</td>\n",
       "      <td>Not Eligilble</td>\n",
       "    </tr>\n",
       "  </tbody>\n",
       "</table>\n",
       "</div>"
      ],
      "text/plain": [
       "       status      user phone number dial_type  length_in_sec   call_day  \\\n",
       "859    Reject     aarti   5713155441    MANUAL           90.0  Wednesday   \n",
       "6588       NI      6666   5713155441    MANUAL            2.0  Wednesday   \n",
       "6636       NC  akanksha   5713155441    MANUAL            9.0  Wednesday   \n",
       "6640       HU   deepthi   5713155441    MANUAL            8.0  Wednesday   \n",
       "6716       NC   deepthi   5713155441    MANUAL            8.0  Wednesday   \n",
       "6721       NC  priyanka   5713155441    MANUAL            6.0  Wednesday   \n",
       "7283       HU        dj   5713155441    MANUAL            8.0     Friday   \n",
       "7287      ESC        dj   5713155441    MANUAL           25.0     Friday   \n",
       "8379       NA      VDAD   5713155441      AUTO            0.0     Monday   \n",
       "8384       NB        dj   5713155441      AUTO            8.0     Monday   \n",
       "10586      NC   prerana   5713155441    MANUAL           62.0     Friday   \n",
       "11230      NC        dj   5713155441    MANUAL           14.0   Saturday   \n",
       "11232      NC        dj   5713155441    MANUAL           40.0   Saturday   \n",
       "11601      NC   jyotsna   5713155441    MANUAL           47.0     Monday   \n",
       "11603      NC   jyotsna   5713155441    MANUAL            3.0     Monday   \n",
       "\n",
       "       month_day call_time       call_type  \n",
       "859            4      Noon  Not Interested  \n",
       "6588          18      Noon            None  \n",
       "6636          18      Noon   Not Eligilble  \n",
       "6640          18   Evening  Not Interested  \n",
       "6716          18   Evening   Not Eligilble  \n",
       "6721          18   Evening   Not Eligilble  \n",
       "7283          20      Noon  Not Interested  \n",
       "7287          20      Noon       Important  \n",
       "8379          23   Evening  Not Interested  \n",
       "8384          23   Evening   Not Eligilble  \n",
       "10586         27      Noon   Not Eligilble  \n",
       "11230         28      Noon   Not Eligilble  \n",
       "11232         28      Noon   Not Eligilble  \n",
       "11601         30   Morning   Not Eligilble  \n",
       "11603         30   Morning   Not Eligilble  "
      ]
     },
     "execution_count": 666,
     "metadata": {},
     "output_type": "execute_result"
    }
   ],
   "source": [
    "calls_df[calls_df[\"phone number\"]==5713155441]"
   ]
  },
  {
   "cell_type": "markdown",
   "metadata": {},
   "source": [
    "By looking at the customer data,it is clear that in the first call he has rejected the offer.Even though so many calls were made to him as as result he might have escalated."
   ]
  },
  {
   "cell_type": "markdown",
   "metadata": {},
   "source": [
    "# Number of unnecessary calls which do not contribute to business"
   ]
  },
  {
   "cell_type": "code",
   "execution_count": 667,
   "metadata": {},
   "outputs": [
    {
     "data": {
      "text/plain": [
       "status           108\n",
       "user             108\n",
       "phone number     108\n",
       "dial_type        108\n",
       "length_in_sec    108\n",
       "call_day         108\n",
       "month_day        108\n",
       "call_time        108\n",
       "call_type        108\n",
       "dtype: int64"
      ]
     },
     "execution_count": 667,
     "metadata": {},
     "output_type": "execute_result"
    }
   ],
   "source": [
    "calls_df[calls_df[\"call_type\"]==\"Ignore\"].count()"
   ]
  },
  {
   "cell_type": "markdown",
   "metadata": {},
   "source": [
    "we can see that 108 calls are unnecessary calls which has to be reduced."
   ]
  },
  {
   "cell_type": "markdown",
   "metadata": {},
   "source": [
    "# Number of customers who are not eligible or not interested\n",
    "\n",
    "Let us look at the number of customers who are not interested or not eligible in taking loans."
   ]
  },
  {
   "cell_type": "code",
   "execution_count": 668,
   "metadata": {},
   "outputs": [
    {
     "data": {
      "text/plain": [
       "840"
      ]
     },
     "execution_count": 668,
     "metadata": {},
     "output_type": "execute_result"
    }
   ],
   "source": [
    "calls_df.loc[(calls_df[\"call_type\"]==\"Not Interested\") | (calls_df[\"call_type\"]==\"Not Eligible\"),\"phone number\"].nunique()"
   ]
  },
  {
   "cell_type": "markdown",
   "metadata": {},
   "source": [
    "There are 1165 calls made for these 840 customers who are not interested in taking the loans.Calls to these 840 customers has to be avoided because they add no value to the business.we have to concentrate on "
   ]
  },
  {
   "cell_type": "markdown",
   "metadata": {},
   "source": [
    "# Number of customers who might contribute to business"
   ]
  },
  {
   "cell_type": "code",
   "execution_count": 669,
   "metadata": {},
   "outputs": [
    {
     "data": {
      "text/plain": [
       "3662"
      ]
     },
     "execution_count": 669,
     "metadata": {},
     "output_type": "execute_result"
    }
   ],
   "source": [
    "calls_df[\"phone number\"].nunique()-840"
   ]
  },
  {
   "cell_type": "markdown",
   "metadata": {},
   "source": [
    "we can see that there are 3662 customers who might be eligible to loans.We can instruct the customer care employees to focus on these 3662 customers."
   ]
  },
  {
   "cell_type": "code",
   "execution_count": 679,
   "metadata": {},
   "outputs": [
    {
     "data": {
      "text/plain": [
       "<IPython.core.display.Javascript object>"
      ]
     },
     "metadata": {},
     "output_type": "display_data"
    },
    {
     "data": {
      "text/html": [
       "<img src=\"data:image/png;base64,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\" width=\"1003.3333599125905\">"
      ],
      "text/plain": [
       "<IPython.core.display.HTML object>"
      ]
     },
     "metadata": {},
     "output_type": "execute_result"
    },
    {
     "data": {
      "text/plain": [
       "<matplotlib.axes._subplots.AxesSubplot at 0x1ede3f9f748>"
      ]
     },
     "execution_count": 679,
     "metadata": {},
     "output_type": "execute_result"
    }
   ],
   "source": [
    "sns.countplot(calls_df[\"status\"],hue=calls_df[\"call_time\"])"
   ]
  },
  {
   "cell_type": "markdown",
   "metadata": {},
   "source": [
    "### Important Observation\n",
    "Approximately 4000 calls are made at Noon and 1500 calls are made at Evening in which customers are not contactable.\n",
    "So there are high chances that customers might pick up the call in morning.\n",
    "So if calls are made in morning,we can reduce atleast 30% of our time and calls too"
   ]
  },
  {
   "cell_type": "markdown",
   "metadata": {},
   "source": [
    "# Average time spent during day,noon and Evening"
   ]
  },
  {
   "cell_type": "code",
   "execution_count": 680,
   "metadata": {},
   "outputs": [
    {
     "data": {
      "text/plain": [
       "call_time\n",
       "Evening    85.206897\n",
       "Morning    78.707819\n",
       "Noon       84.461082\n",
       "Name: length_in_sec, dtype: float64"
      ]
     },
     "execution_count": 680,
     "metadata": {},
     "output_type": "execute_result"
    }
   ],
   "source": [
    "calls_df.groupby([\"call_time\"])[\"length_in_sec\"].mean()"
   ]
  },
  {
   "cell_type": "markdown",
   "metadata": {},
   "source": [
    "# Average time spent on dial type"
   ]
  },
  {
   "cell_type": "code",
   "execution_count": 681,
   "metadata": {},
   "outputs": [
    {
     "data": {
      "text/plain": [
       "dial_type\n",
       "AUTO      42.225690\n",
       "MANUAL    87.424905\n",
       "Name: length_in_sec, dtype: float64"
      ]
     },
     "execution_count": 681,
     "metadata": {},
     "output_type": "execute_result"
    }
   ],
   "source": [
    "#More Manual Calls\n",
    "calls_df.groupby([\"dial_type\"])[\"length_in_sec\"].mean()"
   ]
  },
  {
   "cell_type": "markdown",
   "metadata": {},
   "source": [
    "# Average time spent on WeekDays"
   ]
  },
  {
   "cell_type": "code",
   "execution_count": 682,
   "metadata": {},
   "outputs": [
    {
     "data": {
      "text/html": [
       "<div>\n",
       "<style>\n",
       "    .dataframe thead tr:only-child th {\n",
       "        text-align: right;\n",
       "    }\n",
       "\n",
       "    .dataframe thead th {\n",
       "        text-align: left;\n",
       "    }\n",
       "\n",
       "    .dataframe tbody tr th {\n",
       "        vertical-align: top;\n",
       "    }\n",
       "</style>\n",
       "<table border=\"1\" class=\"dataframe\">\n",
       "  <thead>\n",
       "    <tr style=\"text-align: right;\">\n",
       "      <th></th>\n",
       "      <th>length_in_sec</th>\n",
       "    </tr>\n",
       "    <tr>\n",
       "      <th>call_day</th>\n",
       "      <th></th>\n",
       "    </tr>\n",
       "  </thead>\n",
       "  <tbody>\n",
       "    <tr>\n",
       "      <th>Friday</th>\n",
       "      <td>81.178844</td>\n",
       "    </tr>\n",
       "    <tr>\n",
       "      <th>Monday</th>\n",
       "      <td>95.597930</td>\n",
       "    </tr>\n",
       "    <tr>\n",
       "      <th>Saturday</th>\n",
       "      <td>88.042674</td>\n",
       "    </tr>\n",
       "    <tr>\n",
       "      <th>Thursday</th>\n",
       "      <td>76.389722</td>\n",
       "    </tr>\n",
       "    <tr>\n",
       "      <th>Tuesday</th>\n",
       "      <td>83.631121</td>\n",
       "    </tr>\n",
       "    <tr>\n",
       "      <th>Wednesday</th>\n",
       "      <td>82.761024</td>\n",
       "    </tr>\n",
       "  </tbody>\n",
       "</table>\n",
       "</div>"
      ],
      "text/plain": [
       "           length_in_sec\n",
       "call_day                \n",
       "Friday         81.178844\n",
       "Monday         95.597930\n",
       "Saturday       88.042674\n",
       "Thursday       76.389722\n",
       "Tuesday        83.631121\n",
       "Wednesday      82.761024"
      ]
     },
     "execution_count": 682,
     "metadata": {},
     "output_type": "execute_result"
    }
   ],
   "source": [
    "calls_df.pivot_table([\"length_in_sec\"],[\"call_day\"],aggfunc=\"mean\")"
   ]
  },
  {
   "cell_type": "markdown",
   "metadata": {},
   "source": [
    "Employees spend most of the time in calls on Monday"
   ]
  },
  {
   "cell_type": "markdown",
   "metadata": {},
   "source": [
    "# Average time spent on each call types"
   ]
  },
  {
   "cell_type": "code",
   "execution_count": 552,
   "metadata": {},
   "outputs": [
    {
     "data": {
      "text/html": [
       "<div>\n",
       "<style>\n",
       "    .dataframe thead tr:only-child th {\n",
       "        text-align: right;\n",
       "    }\n",
       "\n",
       "    .dataframe thead th {\n",
       "        text-align: left;\n",
       "    }\n",
       "\n",
       "    .dataframe tbody tr th {\n",
       "        vertical-align: top;\n",
       "    }\n",
       "</style>\n",
       "<table border=\"1\" class=\"dataframe\">\n",
       "  <thead>\n",
       "    <tr style=\"text-align: right;\">\n",
       "      <th></th>\n",
       "      <th>length_in_sec</th>\n",
       "    </tr>\n",
       "    <tr>\n",
       "      <th>status</th>\n",
       "      <th></th>\n",
       "    </tr>\n",
       "  </thead>\n",
       "  <tbody>\n",
       "    <tr>\n",
       "      <th>SU</th>\n",
       "      <td>467.260870</td>\n",
       "    </tr>\n",
       "    <tr>\n",
       "      <th>PC</th>\n",
       "      <td>433.500000</td>\n",
       "    </tr>\n",
       "    <tr>\n",
       "      <th>NEOHP</th>\n",
       "      <td>254.136364</td>\n",
       "    </tr>\n",
       "    <tr>\n",
       "      <th>TC</th>\n",
       "      <td>211.294118</td>\n",
       "    </tr>\n",
       "    <tr>\n",
       "      <th>BSV</th>\n",
       "      <td>207.136364</td>\n",
       "    </tr>\n",
       "    <tr>\n",
       "      <th>FB</th>\n",
       "      <td>183.375000</td>\n",
       "    </tr>\n",
       "    <tr>\n",
       "      <th>FCB</th>\n",
       "      <td>181.320197</td>\n",
       "    </tr>\n",
       "    <tr>\n",
       "      <th>NEOth</th>\n",
       "      <td>169.819672</td>\n",
       "    </tr>\n",
       "    <tr>\n",
       "      <th>RefC</th>\n",
       "      <td>159.588235</td>\n",
       "    </tr>\n",
       "    <tr>\n",
       "      <th>CFU</th>\n",
       "      <td>158.566441</td>\n",
       "    </tr>\n",
       "    <tr>\n",
       "      <th>NETO</th>\n",
       "      <td>153.861660</td>\n",
       "    </tr>\n",
       "    <tr>\n",
       "      <th>CNE</th>\n",
       "      <td>148.956522</td>\n",
       "    </tr>\n",
       "    <tr>\n",
       "      <th>FU</th>\n",
       "      <td>146.776394</td>\n",
       "    </tr>\n",
       "    <tr>\n",
       "      <th>NENoD</th>\n",
       "      <td>135.714724</td>\n",
       "    </tr>\n",
       "    <tr>\n",
       "      <th>NEV</th>\n",
       "      <td>128.829787</td>\n",
       "    </tr>\n",
       "    <tr>\n",
       "      <th>AP</th>\n",
       "      <td>128.607143</td>\n",
       "    </tr>\n",
       "    <tr>\n",
       "      <th>DC</th>\n",
       "      <td>120.000000</td>\n",
       "    </tr>\n",
       "    <tr>\n",
       "      <th>Outst</th>\n",
       "      <td>117.716667</td>\n",
       "    </tr>\n",
       "    <tr>\n",
       "      <th>Mistak</th>\n",
       "      <td>99.318182</td>\n",
       "    </tr>\n",
       "    <tr>\n",
       "      <th>CALLBK</th>\n",
       "      <td>96.555556</td>\n",
       "    </tr>\n",
       "    <tr>\n",
       "      <th>HU</th>\n",
       "      <td>95.688126</td>\n",
       "    </tr>\n",
       "    <tr>\n",
       "      <th>INCALL</th>\n",
       "      <td>94.023256</td>\n",
       "    </tr>\n",
       "    <tr>\n",
       "      <th>NI</th>\n",
       "      <td>88.371528</td>\n",
       "    </tr>\n",
       "    <tr>\n",
       "      <th>Reject</th>\n",
       "      <td>82.693548</td>\n",
       "    </tr>\n",
       "    <tr>\n",
       "      <th>DND</th>\n",
       "      <td>79.714286</td>\n",
       "    </tr>\n",
       "    <tr>\n",
       "      <th>NB</th>\n",
       "      <td>76.280864</td>\n",
       "    </tr>\n",
       "    <tr>\n",
       "      <th>Duplic</th>\n",
       "      <td>70.740000</td>\n",
       "    </tr>\n",
       "    <tr>\n",
       "      <th>XFER</th>\n",
       "      <td>55.928947</td>\n",
       "    </tr>\n",
       "    <tr>\n",
       "      <th>SC</th>\n",
       "      <td>54.000000</td>\n",
       "    </tr>\n",
       "    <tr>\n",
       "      <th>NC</th>\n",
       "      <td>40.430907</td>\n",
       "    </tr>\n",
       "    <tr>\n",
       "      <th>DISPO</th>\n",
       "      <td>34.000000</td>\n",
       "    </tr>\n",
       "    <tr>\n",
       "      <th>ESC</th>\n",
       "      <td>25.000000</td>\n",
       "    </tr>\n",
       "    <tr>\n",
       "      <th>DROP</th>\n",
       "      <td>4.976000</td>\n",
       "    </tr>\n",
       "    <tr>\n",
       "      <th>AB</th>\n",
       "      <td>1.000000</td>\n",
       "    </tr>\n",
       "    <tr>\n",
       "      <th>PDROP</th>\n",
       "      <td>0.000000</td>\n",
       "    </tr>\n",
       "    <tr>\n",
       "      <th>NA</th>\n",
       "      <td>0.000000</td>\n",
       "    </tr>\n",
       "  </tbody>\n",
       "</table>\n",
       "</div>"
      ],
      "text/plain": [
       "        length_in_sec\n",
       "status               \n",
       "SU         467.260870\n",
       "PC         433.500000\n",
       "NEOHP      254.136364\n",
       "TC         211.294118\n",
       "BSV        207.136364\n",
       "FB         183.375000\n",
       "FCB        181.320197\n",
       "NEOth      169.819672\n",
       "RefC       159.588235\n",
       "CFU        158.566441\n",
       "NETO       153.861660\n",
       "CNE        148.956522\n",
       "FU         146.776394\n",
       "NENoD      135.714724\n",
       "NEV        128.829787\n",
       "AP         128.607143\n",
       "DC         120.000000\n",
       "Outst      117.716667\n",
       "Mistak      99.318182\n",
       "CALLBK      96.555556\n",
       "HU          95.688126\n",
       "INCALL      94.023256\n",
       "NI          88.371528\n",
       "Reject      82.693548\n",
       "DND         79.714286\n",
       "NB          76.280864\n",
       "Duplic      70.740000\n",
       "XFER        55.928947\n",
       "SC          54.000000\n",
       "NC          40.430907\n",
       "DISPO       34.000000\n",
       "ESC         25.000000\n",
       "DROP         4.976000\n",
       "AB           1.000000\n",
       "PDROP        0.000000\n",
       "NA           0.000000"
      ]
     },
     "execution_count": 552,
     "metadata": {},
     "output_type": "execute_result"
    }
   ],
   "source": [
    "calls_df.pivot_table([\"length_in_sec\"],[\"status\"],aggfunc=\"mean\").sort_values(\"length_in_sec\",ascending=False)"
   ]
  },
  {
   "cell_type": "markdown",
   "metadata": {},
   "source": [
    "### Important Observation\n",
    "For sign up call,customers are taking more time.\n",
    "So we can simplify the process so that we can save customer's time"
   ]
  },
  {
   "cell_type": "markdown",
   "metadata": {},
   "source": [
    "# Average time spent by each customer care employee"
   ]
  },
  {
   "cell_type": "code",
   "execution_count": 553,
   "metadata": {},
   "outputs": [
    {
     "data": {
      "text/html": [
       "<div>\n",
       "<style>\n",
       "    .dataframe thead tr:only-child th {\n",
       "        text-align: right;\n",
       "    }\n",
       "\n",
       "    .dataframe thead th {\n",
       "        text-align: left;\n",
       "    }\n",
       "\n",
       "    .dataframe tbody tr th {\n",
       "        vertical-align: top;\n",
       "    }\n",
       "</style>\n",
       "<table border=\"1\" class=\"dataframe\">\n",
       "  <thead>\n",
       "    <tr style=\"text-align: right;\">\n",
       "      <th></th>\n",
       "      <th>length_in_sec</th>\n",
       "    </tr>\n",
       "    <tr>\n",
       "      <th>user</th>\n",
       "      <th></th>\n",
       "    </tr>\n",
       "  </thead>\n",
       "  <tbody>\n",
       "    <tr>\n",
       "      <th>reshav</th>\n",
       "      <td>199.055556</td>\n",
       "    </tr>\n",
       "    <tr>\n",
       "      <th>prerana</th>\n",
       "      <td>124.381916</td>\n",
       "    </tr>\n",
       "    <tr>\n",
       "      <th>pstdeepak</th>\n",
       "      <td>120.090909</td>\n",
       "    </tr>\n",
       "    <tr>\n",
       "      <th>umesh</th>\n",
       "      <td>109.290323</td>\n",
       "    </tr>\n",
       "    <tr>\n",
       "      <th>jyotsna</th>\n",
       "      <td>100.855882</td>\n",
       "    </tr>\n",
       "    <tr>\n",
       "      <th>shilpa</th>\n",
       "      <td>93.867784</td>\n",
       "    </tr>\n",
       "    <tr>\n",
       "      <th>PRIYANKA</th>\n",
       "      <td>93.666667</td>\n",
       "    </tr>\n",
       "    <tr>\n",
       "      <th>aarti</th>\n",
       "      <td>85.051440</td>\n",
       "    </tr>\n",
       "    <tr>\n",
       "      <th>syedriyas</th>\n",
       "      <td>84.808632</td>\n",
       "    </tr>\n",
       "    <tr>\n",
       "      <th>akanksha</th>\n",
       "      <td>82.022861</td>\n",
       "    </tr>\n",
       "    <tr>\n",
       "      <th>priyanka</th>\n",
       "      <td>79.653242</td>\n",
       "    </tr>\n",
       "    <tr>\n",
       "      <th>deepthi</th>\n",
       "      <td>78.107639</td>\n",
       "    </tr>\n",
       "    <tr>\n",
       "      <th>anand</th>\n",
       "      <td>72.572165</td>\n",
       "    </tr>\n",
       "    <tr>\n",
       "      <th>sunil</th>\n",
       "      <td>64.221246</td>\n",
       "    </tr>\n",
       "    <tr>\n",
       "      <th>dj</th>\n",
       "      <td>20.500000</td>\n",
       "    </tr>\n",
       "    <tr>\n",
       "      <th>6666</th>\n",
       "      <td>6.636364</td>\n",
       "    </tr>\n",
       "    <tr>\n",
       "      <th>VDAD</th>\n",
       "      <td>0.918367</td>\n",
       "    </tr>\n",
       "    <tr>\n",
       "      <th>swati</th>\n",
       "      <td>0.000000</td>\n",
       "    </tr>\n",
       "    <tr>\n",
       "      <th>mallikarjun</th>\n",
       "      <td>0.000000</td>\n",
       "    </tr>\n",
       "  </tbody>\n",
       "</table>\n",
       "</div>"
      ],
      "text/plain": [
       "             length_in_sec\n",
       "user                      \n",
       "reshav          199.055556\n",
       "prerana         124.381916\n",
       "pstdeepak       120.090909\n",
       "umesh           109.290323\n",
       "jyotsna         100.855882\n",
       "shilpa           93.867784\n",
       "PRIYANKA         93.666667\n",
       "aarti            85.051440\n",
       "syedriyas        84.808632\n",
       "akanksha         82.022861\n",
       "priyanka         79.653242\n",
       "deepthi          78.107639\n",
       "anand            72.572165\n",
       "sunil            64.221246\n",
       "dj               20.500000\n",
       "6666              6.636364\n",
       "VDAD              0.918367\n",
       "swati             0.000000\n",
       "mallikarjun       0.000000"
      ]
     },
     "execution_count": 553,
     "metadata": {},
     "output_type": "execute_result"
    }
   ],
   "source": [
    "calls_df.pivot_table([\"length_in_sec\"],[\"user\"],aggfunc=\"mean\").sort_values(\"length_in_sec\",ascending=False)"
   ]
  },
  {
   "cell_type": "markdown",
   "metadata": {},
   "source": [
    "# Relation between call day and call type"
   ]
  },
  {
   "cell_type": "code",
   "execution_count": 562,
   "metadata": {},
   "outputs": [
    {
     "data": {
      "text/html": [
       "<div>\n",
       "<style>\n",
       "    .dataframe thead tr:only-child th {\n",
       "        text-align: right;\n",
       "    }\n",
       "\n",
       "    .dataframe thead th {\n",
       "        text-align: left;\n",
       "    }\n",
       "\n",
       "    .dataframe tbody tr th {\n",
       "        vertical-align: top;\n",
       "    }\n",
       "</style>\n",
       "<table border=\"1\" class=\"dataframe\">\n",
       "  <thead>\n",
       "    <tr style=\"text-align: right;\">\n",
       "      <th>call_type</th>\n",
       "      <th>Ignore</th>\n",
       "      <th>Important</th>\n",
       "      <th>Interested</th>\n",
       "      <th>Not Eligilble</th>\n",
       "      <th>Not Interested</th>\n",
       "      <th>All</th>\n",
       "    </tr>\n",
       "    <tr>\n",
       "      <th>call_day</th>\n",
       "      <th></th>\n",
       "      <th></th>\n",
       "      <th></th>\n",
       "      <th></th>\n",
       "      <th></th>\n",
       "      <th></th>\n",
       "    </tr>\n",
       "  </thead>\n",
       "  <tbody>\n",
       "    <tr>\n",
       "      <th>Friday</th>\n",
       "      <td>17</td>\n",
       "      <td>479</td>\n",
       "      <td>368</td>\n",
       "      <td>1396</td>\n",
       "      <td>340</td>\n",
       "      <td>2600</td>\n",
       "    </tr>\n",
       "    <tr>\n",
       "      <th>Monday</th>\n",
       "      <td>33</td>\n",
       "      <td>477</td>\n",
       "      <td>373</td>\n",
       "      <td>1455</td>\n",
       "      <td>197</td>\n",
       "      <td>2535</td>\n",
       "    </tr>\n",
       "    <tr>\n",
       "      <th>Saturday</th>\n",
       "      <td>13</td>\n",
       "      <td>150</td>\n",
       "      <td>72</td>\n",
       "      <td>413</td>\n",
       "      <td>44</td>\n",
       "      <td>692</td>\n",
       "    </tr>\n",
       "    <tr>\n",
       "      <th>Thursday</th>\n",
       "      <td>8</td>\n",
       "      <td>306</td>\n",
       "      <td>240</td>\n",
       "      <td>964</td>\n",
       "      <td>233</td>\n",
       "      <td>1751</td>\n",
       "    </tr>\n",
       "    <tr>\n",
       "      <th>Tuesday</th>\n",
       "      <td>23</td>\n",
       "      <td>496</td>\n",
       "      <td>407</td>\n",
       "      <td>1846</td>\n",
       "      <td>218</td>\n",
       "      <td>2990</td>\n",
       "    </tr>\n",
       "    <tr>\n",
       "      <th>Wednesday</th>\n",
       "      <td>14</td>\n",
       "      <td>341</td>\n",
       "      <td>287</td>\n",
       "      <td>1224</td>\n",
       "      <td>133</td>\n",
       "      <td>1999</td>\n",
       "    </tr>\n",
       "    <tr>\n",
       "      <th>All</th>\n",
       "      <td>108</td>\n",
       "      <td>2249</td>\n",
       "      <td>1747</td>\n",
       "      <td>7298</td>\n",
       "      <td>1165</td>\n",
       "      <td>12567</td>\n",
       "    </tr>\n",
       "  </tbody>\n",
       "</table>\n",
       "</div>"
      ],
      "text/plain": [
       "call_type  Ignore  Important  Interested  Not Eligilble  Not Interested    All\n",
       "call_day                                                                      \n",
       "Friday         17        479         368           1396             340   2600\n",
       "Monday         33        477         373           1455             197   2535\n",
       "Saturday       13        150          72            413              44    692\n",
       "Thursday        8        306         240            964             233   1751\n",
       "Tuesday        23        496         407           1846             218   2990\n",
       "Wednesday      14        341         287           1224             133   1999\n",
       "All           108       2249        1747           7298            1165  12567"
      ]
     },
     "execution_count": 562,
     "metadata": {},
     "output_type": "execute_result"
    }
   ],
   "source": [
    "pd.crosstab(calls_df['call_day'], calls_df['call_type'], margins=True)"
   ]
  },
  {
   "cell_type": "markdown",
   "metadata": {},
   "source": [
    "Most of the InEligible calls are on Tuesday and we can see there are less number of calls on saturday and more number of calls are on Tuesday,monday and Friday"
   ]
  },
  {
   "cell_type": "markdown",
   "metadata": {},
   "source": [
    "# Relation between call time and call type"
   ]
  },
  {
   "cell_type": "code",
   "execution_count": 683,
   "metadata": {},
   "outputs": [
    {
     "data": {
      "text/html": [
       "<div>\n",
       "<style>\n",
       "    .dataframe thead tr:only-child th {\n",
       "        text-align: right;\n",
       "    }\n",
       "\n",
       "    .dataframe thead th {\n",
       "        text-align: left;\n",
       "    }\n",
       "\n",
       "    .dataframe tbody tr th {\n",
       "        vertical-align: top;\n",
       "    }\n",
       "</style>\n",
       "<table border=\"1\" class=\"dataframe\">\n",
       "  <thead>\n",
       "    <tr style=\"text-align: right;\">\n",
       "      <th>call_type</th>\n",
       "      <th>Ignore</th>\n",
       "      <th>Important</th>\n",
       "      <th>Interested</th>\n",
       "      <th>Not Eligilble</th>\n",
       "      <th>Not Interested</th>\n",
       "      <th>All</th>\n",
       "    </tr>\n",
       "    <tr>\n",
       "      <th>call_time</th>\n",
       "      <th></th>\n",
       "      <th></th>\n",
       "      <th></th>\n",
       "      <th></th>\n",
       "      <th></th>\n",
       "      <th></th>\n",
       "    </tr>\n",
       "  </thead>\n",
       "  <tbody>\n",
       "    <tr>\n",
       "      <th>Evening</th>\n",
       "      <td>32</td>\n",
       "      <td>610</td>\n",
       "      <td>480</td>\n",
       "      <td>2088</td>\n",
       "      <td>263</td>\n",
       "      <td>3473</td>\n",
       "    </tr>\n",
       "    <tr>\n",
       "      <th>Morning</th>\n",
       "      <td>3</td>\n",
       "      <td>47</td>\n",
       "      <td>28</td>\n",
       "      <td>135</td>\n",
       "      <td>21</td>\n",
       "      <td>234</td>\n",
       "    </tr>\n",
       "    <tr>\n",
       "      <th>Noon</th>\n",
       "      <td>73</td>\n",
       "      <td>1592</td>\n",
       "      <td>1239</td>\n",
       "      <td>5075</td>\n",
       "      <td>881</td>\n",
       "      <td>8860</td>\n",
       "    </tr>\n",
       "    <tr>\n",
       "      <th>All</th>\n",
       "      <td>108</td>\n",
       "      <td>2249</td>\n",
       "      <td>1747</td>\n",
       "      <td>7298</td>\n",
       "      <td>1165</td>\n",
       "      <td>12567</td>\n",
       "    </tr>\n",
       "  </tbody>\n",
       "</table>\n",
       "</div>"
      ],
      "text/plain": [
       "call_type  Ignore  Important  Interested  Not Eligilble  Not Interested    All\n",
       "call_time                                                                     \n",
       "Evening        32        610         480           2088             263   3473\n",
       "Morning         3         47          28            135              21    234\n",
       "Noon           73       1592        1239           5075             881   8860\n",
       "All           108       2249        1747           7298            1165  12567"
      ]
     },
     "execution_count": 683,
     "metadata": {},
     "output_type": "execute_result"
    }
   ],
   "source": [
    "pd.crosstab(calls_df['call_time'], calls_df['call_type'], margins=True)"
   ]
  },
  {
   "cell_type": "markdown",
   "metadata": {},
   "source": [
    "Most of the calls are at Noon and less calls at morning"
   ]
  },
  {
   "cell_type": "markdown",
   "metadata": {},
   "source": [
    "# Relation between user and call type"
   ]
  },
  {
   "cell_type": "code",
   "execution_count": 684,
   "metadata": {},
   "outputs": [
    {
     "data": {
      "text/html": [
       "<div>\n",
       "<style>\n",
       "    .dataframe thead tr:only-child th {\n",
       "        text-align: right;\n",
       "    }\n",
       "\n",
       "    .dataframe thead th {\n",
       "        text-align: left;\n",
       "    }\n",
       "\n",
       "    .dataframe tbody tr th {\n",
       "        vertical-align: top;\n",
       "    }\n",
       "</style>\n",
       "<table border=\"1\" class=\"dataframe\">\n",
       "  <thead>\n",
       "    <tr style=\"text-align: right;\">\n",
       "      <th>call_type</th>\n",
       "      <th>Ignore</th>\n",
       "      <th>Important</th>\n",
       "      <th>Interested</th>\n",
       "      <th>Not Eligilble</th>\n",
       "      <th>Not Interested</th>\n",
       "      <th>All</th>\n",
       "    </tr>\n",
       "    <tr>\n",
       "      <th>user</th>\n",
       "      <th></th>\n",
       "      <th></th>\n",
       "      <th></th>\n",
       "      <th></th>\n",
       "      <th></th>\n",
       "      <th></th>\n",
       "    </tr>\n",
       "  </thead>\n",
       "  <tbody>\n",
       "    <tr>\n",
       "      <th>6666</th>\n",
       "      <td>0</td>\n",
       "      <td>1</td>\n",
       "      <td>0</td>\n",
       "      <td>0</td>\n",
       "      <td>0</td>\n",
       "      <td>1</td>\n",
       "    </tr>\n",
       "    <tr>\n",
       "      <th>PRIYANKA</th>\n",
       "      <td>1</td>\n",
       "      <td>2</td>\n",
       "      <td>8</td>\n",
       "      <td>12</td>\n",
       "      <td>1</td>\n",
       "      <td>24</td>\n",
       "    </tr>\n",
       "    <tr>\n",
       "      <th>VDAD</th>\n",
       "      <td>8</td>\n",
       "      <td>0</td>\n",
       "      <td>125</td>\n",
       "      <td>155</td>\n",
       "      <td>397</td>\n",
       "      <td>685</td>\n",
       "    </tr>\n",
       "    <tr>\n",
       "      <th>aarti</th>\n",
       "      <td>0</td>\n",
       "      <td>196</td>\n",
       "      <td>112</td>\n",
       "      <td>569</td>\n",
       "      <td>81</td>\n",
       "      <td>958</td>\n",
       "    </tr>\n",
       "    <tr>\n",
       "      <th>akanksha</th>\n",
       "      <td>19</td>\n",
       "      <td>492</td>\n",
       "      <td>82</td>\n",
       "      <td>762</td>\n",
       "      <td>57</td>\n",
       "      <td>1412</td>\n",
       "    </tr>\n",
       "    <tr>\n",
       "      <th>anand</th>\n",
       "      <td>1</td>\n",
       "      <td>85</td>\n",
       "      <td>11</td>\n",
       "      <td>255</td>\n",
       "      <td>13</td>\n",
       "      <td>365</td>\n",
       "    </tr>\n",
       "    <tr>\n",
       "      <th>deepthi</th>\n",
       "      <td>6</td>\n",
       "      <td>525</td>\n",
       "      <td>18</td>\n",
       "      <td>751</td>\n",
       "      <td>91</td>\n",
       "      <td>1391</td>\n",
       "    </tr>\n",
       "    <tr>\n",
       "      <th>dj</th>\n",
       "      <td>0</td>\n",
       "      <td>1</td>\n",
       "      <td>0</td>\n",
       "      <td>8</td>\n",
       "      <td>1</td>\n",
       "      <td>10</td>\n",
       "    </tr>\n",
       "    <tr>\n",
       "      <th>jyotsna</th>\n",
       "      <td>0</td>\n",
       "      <td>293</td>\n",
       "      <td>256</td>\n",
       "      <td>932</td>\n",
       "      <td>80</td>\n",
       "      <td>1561</td>\n",
       "    </tr>\n",
       "    <tr>\n",
       "      <th>mallikarjun</th>\n",
       "      <td>0</td>\n",
       "      <td>1</td>\n",
       "      <td>0</td>\n",
       "      <td>0</td>\n",
       "      <td>0</td>\n",
       "      <td>1</td>\n",
       "    </tr>\n",
       "    <tr>\n",
       "      <th>prerana</th>\n",
       "      <td>21</td>\n",
       "      <td>118</td>\n",
       "      <td>101</td>\n",
       "      <td>907</td>\n",
       "      <td>319</td>\n",
       "      <td>1466</td>\n",
       "    </tr>\n",
       "    <tr>\n",
       "      <th>priyanka</th>\n",
       "      <td>32</td>\n",
       "      <td>63</td>\n",
       "      <td>432</td>\n",
       "      <td>879</td>\n",
       "      <td>44</td>\n",
       "      <td>1450</td>\n",
       "    </tr>\n",
       "    <tr>\n",
       "      <th>pstdeepak</th>\n",
       "      <td>0</td>\n",
       "      <td>9</td>\n",
       "      <td>66</td>\n",
       "      <td>67</td>\n",
       "      <td>0</td>\n",
       "      <td>142</td>\n",
       "    </tr>\n",
       "    <tr>\n",
       "      <th>reshav</th>\n",
       "      <td>1</td>\n",
       "      <td>70</td>\n",
       "      <td>1</td>\n",
       "      <td>0</td>\n",
       "      <td>0</td>\n",
       "      <td>72</td>\n",
       "    </tr>\n",
       "    <tr>\n",
       "      <th>shilpa</th>\n",
       "      <td>1</td>\n",
       "      <td>65</td>\n",
       "      <td>106</td>\n",
       "      <td>321</td>\n",
       "      <td>17</td>\n",
       "      <td>510</td>\n",
       "    </tr>\n",
       "    <tr>\n",
       "      <th>sunil</th>\n",
       "      <td>6</td>\n",
       "      <td>150</td>\n",
       "      <td>180</td>\n",
       "      <td>788</td>\n",
       "      <td>38</td>\n",
       "      <td>1162</td>\n",
       "    </tr>\n",
       "    <tr>\n",
       "      <th>swati</th>\n",
       "      <td>0</td>\n",
       "      <td>1</td>\n",
       "      <td>0</td>\n",
       "      <td>0</td>\n",
       "      <td>0</td>\n",
       "      <td>1</td>\n",
       "    </tr>\n",
       "    <tr>\n",
       "      <th>syedriyas</th>\n",
       "      <td>9</td>\n",
       "      <td>147</td>\n",
       "      <td>221</td>\n",
       "      <td>794</td>\n",
       "      <td>19</td>\n",
       "      <td>1190</td>\n",
       "    </tr>\n",
       "    <tr>\n",
       "      <th>umesh</th>\n",
       "      <td>3</td>\n",
       "      <td>30</td>\n",
       "      <td>28</td>\n",
       "      <td>98</td>\n",
       "      <td>7</td>\n",
       "      <td>166</td>\n",
       "    </tr>\n",
       "    <tr>\n",
       "      <th>All</th>\n",
       "      <td>108</td>\n",
       "      <td>2249</td>\n",
       "      <td>1747</td>\n",
       "      <td>7298</td>\n",
       "      <td>1165</td>\n",
       "      <td>12567</td>\n",
       "    </tr>\n",
       "  </tbody>\n",
       "</table>\n",
       "</div>"
      ],
      "text/plain": [
       "call_type    Ignore  Important  Interested  Not Eligilble  Not Interested  \\\n",
       "user                                                                        \n",
       "6666              0          1           0              0               0   \n",
       "PRIYANKA          1          2           8             12               1   \n",
       "VDAD              8          0         125            155             397   \n",
       "aarti             0        196         112            569              81   \n",
       "akanksha         19        492          82            762              57   \n",
       "anand             1         85          11            255              13   \n",
       "deepthi           6        525          18            751              91   \n",
       "dj                0          1           0              8               1   \n",
       "jyotsna           0        293         256            932              80   \n",
       "mallikarjun       0          1           0              0               0   \n",
       "prerana          21        118         101            907             319   \n",
       "priyanka         32         63         432            879              44   \n",
       "pstdeepak         0          9          66             67               0   \n",
       "reshav            1         70           1              0               0   \n",
       "shilpa            1         65         106            321              17   \n",
       "sunil             6        150         180            788              38   \n",
       "swati             0          1           0              0               0   \n",
       "syedriyas         9        147         221            794              19   \n",
       "umesh             3         30          28             98               7   \n",
       "All             108       2249        1747           7298            1165   \n",
       "\n",
       "call_type      All  \n",
       "user                \n",
       "6666             1  \n",
       "PRIYANKA        24  \n",
       "VDAD           685  \n",
       "aarti          958  \n",
       "akanksha      1412  \n",
       "anand          365  \n",
       "deepthi       1391  \n",
       "dj              10  \n",
       "jyotsna       1561  \n",
       "mallikarjun      1  \n",
       "prerana       1466  \n",
       "priyanka      1450  \n",
       "pstdeepak      142  \n",
       "reshav          72  \n",
       "shilpa         510  \n",
       "sunil         1162  \n",
       "swati            1  \n",
       "syedriyas     1190  \n",
       "umesh          166  \n",
       "All          12567  "
      ]
     },
     "execution_count": 684,
     "metadata": {},
     "output_type": "execute_result"
    }
   ],
   "source": [
    "pd.crosstab(calls_df['user'], calls_df['call_type'], margins=True)"
   ]
  },
  {
   "cell_type": "markdown",
   "metadata": {},
   "source": [
    "Most number of calls are handled by jyothsna and least calls by swati and there are 108 calls to be ignored.customers shows their uninterest in 1165 calls and most of them handled by VDAD.\n",
    "Prerana has done most number of eligibility calls that is 907 calls.\n",
    "Most of the Important calls are handled by deepti"
   ]
  },
  {
   "cell_type": "markdown",
   "metadata": {},
   "source": [
    "# Conclusion:\n",
    "\n",
    "Thus we have succcessfully cleaned the dataset,added new variables like call_day,call_time,month_day.\n",
    "We try to understand the business value by classifying the statuses into 5 bins\n",
    "we answered some basic questions and understood the relation between different variables."
   ]
  }
 ],
 "metadata": {
  "kernelspec": {
   "display_name": "Python 3",
   "language": "python",
   "name": "python3"
  },
  "language_info": {
   "codemirror_mode": {
    "name": "ipython",
    "version": 3
   },
   "file_extension": ".py",
   "mimetype": "text/x-python",
   "name": "python",
   "nbconvert_exporter": "python",
   "pygments_lexer": "ipython3",
   "version": "3.6.3"
  }
 },
 "nbformat": 4,
 "nbformat_minor": 2
}
