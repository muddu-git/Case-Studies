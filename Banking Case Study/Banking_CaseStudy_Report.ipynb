{
 "cells": [
  {
   "cell_type": "markdown",
   "metadata": {},
   "source": [
    "# Contents:\n",
    "\n",
    "# Chapter 1:Exploratory Data Analysis and Cleaning\n",
    "\n",
    "                  ## 1.1 Data Exploration\n",
    "                  ## 1.2 Identify if there is any relation between the type of credit card issued to a disponent with his                                average credit balance maintained in transaction account\n",
    "                  ## 1.3 Identify whether any demographic factors is showing strong association with loan defaulters\n",
    "\n",
    "# Chapter 2:Pre-Processing\n",
    "\n",
    "                  ## 2.1 Missing Value Analysis:\n",
    "                  ## 2.2 Outlier Analysis\n",
    "                  ## 2.3 Feature Selection\n",
    "                  ## 2.4 Feature Scaling\n",
    "                  ## 2.5 Dividing Data into Training and Test\n",
    "\n",
    "# Chapter 3:Modelling\n",
    "\n",
    "                  ## 3.1 Random Forest\n",
    "                  ## 3.2 Logistic Regression\n",
    "                  ## 3.3 Naive Bayes\n",
    "                  ## 3.4 KNN\n",
    "                  ## 3.5 Decision Tree\n",
    "                  ## 3.6 Summary of CV Scores\n",
    "                  \n",
    "# Chapter 4:Loan Defaulters\n",
    "\n",
    "              "
   ]
  },
  {
   "cell_type": "markdown",
   "metadata": {},
   "source": [
    "# Chapter 1\n",
    "\n",
    "# Exploratory Data Analysis and Cleaning"
   ]
  },
  {
   "cell_type": "code",
   "execution_count": 35,
   "metadata": {
    "collapsed": true
   },
   "outputs": [],
   "source": [
    "import pandas as pd\n",
    "import numpy as np\n",
    "import matplotlib.pyplot as plt\n",
    "%matplotlib inline\n",
    "import warnings\n",
    "warnings.filterwarnings(\"ignore\")\n",
    "import seaborn as sns\n",
    "from scipy.stats import mode \n",
    "from fancyimpute import KNN\n",
    "from scipy.stats import chi2_contingency\n",
    "from sklearn.preprocessing import MinMaxScaler"
   ]
  },
  {
   "cell_type": "markdown",
   "metadata": {},
   "source": [
    "## 1.1 Data Exploration"
   ]
  },
  {
   "cell_type": "markdown",
   "metadata": {},
   "source": [
    "### Understanding accounts in the bank"
   ]
  },
  {
   "cell_type": "code",
   "execution_count": 67,
   "metadata": {
    "collapsed": true
   },
   "outputs": [],
   "source": [
    "account=pd.read_csv(\"C:/Users/mudmoham/Documents/pr/Banking_Case_Study/banking_data/account.txt\",sep=\";\",parse_dates=[\"date\"])"
   ]
  },
  {
   "cell_type": "code",
   "execution_count": 68,
   "metadata": {},
   "outputs": [
    {
     "data": {
      "text/html": [
       "<div>\n",
       "<style>\n",
       "    .dataframe thead tr:only-child th {\n",
       "        text-align: right;\n",
       "    }\n",
       "\n",
       "    .dataframe thead th {\n",
       "        text-align: left;\n",
       "    }\n",
       "\n",
       "    .dataframe tbody tr th {\n",
       "        vertical-align: top;\n",
       "    }\n",
       "</style>\n",
       "<table border=\"1\" class=\"dataframe\">\n",
       "  <thead>\n",
       "    <tr style=\"text-align: right;\">\n",
       "      <th></th>\n",
       "      <th>account_id</th>\n",
       "      <th>district_id</th>\n",
       "      <th>frequency</th>\n",
       "      <th>date</th>\n",
       "    </tr>\n",
       "  </thead>\n",
       "  <tbody>\n",
       "    <tr>\n",
       "      <th>0</th>\n",
       "      <td>576</td>\n",
       "      <td>55</td>\n",
       "      <td>POPLATEK MESICNE</td>\n",
       "      <td>1993-01-01</td>\n",
       "    </tr>\n",
       "    <tr>\n",
       "      <th>1</th>\n",
       "      <td>3818</td>\n",
       "      <td>74</td>\n",
       "      <td>POPLATEK MESICNE</td>\n",
       "      <td>1993-01-01</td>\n",
       "    </tr>\n",
       "    <tr>\n",
       "      <th>2</th>\n",
       "      <td>704</td>\n",
       "      <td>55</td>\n",
       "      <td>POPLATEK MESICNE</td>\n",
       "      <td>1993-01-01</td>\n",
       "    </tr>\n",
       "    <tr>\n",
       "      <th>3</th>\n",
       "      <td>2378</td>\n",
       "      <td>16</td>\n",
       "      <td>POPLATEK MESICNE</td>\n",
       "      <td>1993-01-01</td>\n",
       "    </tr>\n",
       "    <tr>\n",
       "      <th>4</th>\n",
       "      <td>2632</td>\n",
       "      <td>24</td>\n",
       "      <td>POPLATEK MESICNE</td>\n",
       "      <td>1993-01-02</td>\n",
       "    </tr>\n",
       "  </tbody>\n",
       "</table>\n",
       "</div>"
      ],
      "text/plain": [
       "   account_id  district_id         frequency       date\n",
       "0         576           55  POPLATEK MESICNE 1993-01-01\n",
       "1        3818           74  POPLATEK MESICNE 1993-01-01\n",
       "2         704           55  POPLATEK MESICNE 1993-01-01\n",
       "3        2378           16  POPLATEK MESICNE 1993-01-01\n",
       "4        2632           24  POPLATEK MESICNE 1993-01-02"
      ]
     },
     "execution_count": 68,
     "metadata": {},
     "output_type": "execute_result"
    }
   ],
   "source": [
    "account.head()"
   ]
  },
  {
   "cell_type": "markdown",
   "metadata": {},
   "source": [
    "### Checking Missing Values"
   ]
  },
  {
   "cell_type": "code",
   "execution_count": null,
   "metadata": {
    "collapsed": true
   },
   "outputs": [],
   "source": [
    "pd.isnull(account).sum()"
   ]
  },
  {
   "cell_type": "code",
   "execution_count": null,
   "metadata": {
    "collapsed": true
   },
   "outputs": [],
   "source": [
    "account.info()"
   ]
  },
  {
   "cell_type": "code",
   "execution_count": null,
   "metadata": {
    "collapsed": true
   },
   "outputs": [],
   "source": [
    "account.describe()"
   ]
  },
  {
   "cell_type": "code",
   "execution_count": null,
   "metadata": {
    "collapsed": true
   },
   "outputs": [],
   "source": [
    "account[\"account_id\"].nunique()"
   ]
  },
  {
   "cell_type": "code",
   "execution_count": null,
   "metadata": {
    "collapsed": true
   },
   "outputs": [],
   "source": [
    "account[\"district_id\"].value_counts()[0:10]"
   ]
  },
  {
   "cell_type": "code",
   "execution_count": null,
   "metadata": {
    "collapsed": true
   },
   "outputs": [],
   "source": [
    "account.describe(include=[\"object\",\"datetime64[ns]\"])"
   ]
  },
  {
   "cell_type": "code",
   "execution_count": null,
   "metadata": {
    "collapsed": true
   },
   "outputs": [],
   "source": [
    "account.columns"
   ]
  },
  {
   "cell_type": "code",
   "execution_count": null,
   "metadata": {
    "collapsed": true
   },
   "outputs": [],
   "source": [
    "account[\"frequency\"].value_counts()"
   ]
  },
  {
   "cell_type": "markdown",
   "metadata": {},
   "source": [
    "### Insights:\n",
    "\n",
    "Most of the accounts follow Monthly Insurance\n",
    "Most of the accounts are from district 1\n",
    "There are 4500 accounts\n",
    "Accounts are from 77 different branches"
   ]
  },
  {
   "cell_type": "markdown",
   "metadata": {},
   "source": [
    "### Understanding Clients:"
   ]
  },
  {
   "cell_type": "code",
   "execution_count": null,
   "metadata": {
    "collapsed": true
   },
   "outputs": [],
   "source": [
    "clients=pd.read_csv(\"C:/Users/mudmoham/Documents/pr/Banking_Case_Study/banking_data/client.txt\",sep=\";\",parse_dates=[\"birth_number\"])"
   ]
  },
  {
   "cell_type": "code",
   "execution_count": null,
   "metadata": {
    "collapsed": true
   },
   "outputs": [],
   "source": [
    "clients.head()"
   ]
  },
  {
   "cell_type": "markdown",
   "metadata": {},
   "source": [
    "### Feature Engineering-Adding Gender Column\n",
    "\n",
    "Here we have birth_number column is object dtype and it is coded as\n",
    "The value is in the form: YYMMDD (for men)\n",
    "The value is in the form: YY(+50MM)DD (for women)\n",
    "\n",
    "Let's decode it and one more column \"Gender\" to clients dataframe.\n",
    "if month>50 then it is female\n",
    "if month<50 then it is male\n"
   ]
  },
  {
   "cell_type": "code",
   "execution_count": null,
   "metadata": {
    "collapsed": true
   },
   "outputs": [],
   "source": [
    "gender_list=[]\n",
    "for row in range(clients.shape[0]):\n",
    "    if int(clients[\"birth_number\"][row][2:4])>50:\n",
    "        gender_list.append(\"Female\")\n",
    "        if int(clients[\"birth_number\"][row][2:4])-50 >=10:\n",
    "            clients[\"birth_number\"][row]=str(19)+str(clients[\"birth_number\"][row][0:2])+str(int(clients[\"birth_number\"][row][2:4])-50)+str(clients[\"birth_number\"][row][4:])\n",
    "        else:\n",
    "            clients[\"birth_number\"][row]=str(19)+str(clients[\"birth_number\"][row][0:2])+str(0)+str(int(clients[\"birth_number\"][row][2:4])-50)+str(clients[\"birth_number\"][row][4:])\n",
    "    else:\n",
    "        gender_list.append(\"Male\")\n",
    "        clients[\"birth_number\"][row]=str(19)+str(clients[\"birth_number\"][row])\n",
    "\n",
    "clients[\"Gender\"]=gender_list\n",
    "clients[\"birth_number\"]=pd.to_datetime(clients[\"birth_number\"])"
   ]
  },
  {
   "cell_type": "code",
   "execution_count": null,
   "metadata": {
    "collapsed": true
   },
   "outputs": [],
   "source": [
    "clients.head()"
   ]
  },
  {
   "cell_type": "code",
   "execution_count": null,
   "metadata": {
    "collapsed": true
   },
   "outputs": [],
   "source": [
    "clients.info()"
   ]
  },
  {
   "cell_type": "code",
   "execution_count": null,
   "metadata": {
    "collapsed": true
   },
   "outputs": [],
   "source": [
    "clients[\"Gender\"].value_counts()"
   ]
  },
  {
   "cell_type": "code",
   "execution_count": null,
   "metadata": {
    "collapsed": true
   },
   "outputs": [],
   "source": [
    "clients[\"district_id\"].nunique()"
   ]
  },
  {
   "cell_type": "markdown",
   "metadata": {},
   "source": [
    "### Insights\n",
    "\n",
    "There are 5369 clients from 77 different districts\n",
    "out of them 2724 are Male and 2645 are Female"
   ]
  },
  {
   "cell_type": "markdown",
   "metadata": {},
   "source": [
    "### Understanding Disposition"
   ]
  },
  {
   "cell_type": "code",
   "execution_count": 17,
   "metadata": {
    "collapsed": true
   },
   "outputs": [],
   "source": [
    "disposition=pd.read_csv(\"C:/Users/mudmoham/Documents/pr/Banking_Case_Study/banking_data/disp.txt\",sep=\";\")"
   ]
  },
  {
   "cell_type": "code",
   "execution_count": 18,
   "metadata": {},
   "outputs": [
    {
     "data": {
      "text/plain": [
       "(5369, 4)"
      ]
     },
     "execution_count": 18,
     "metadata": {},
     "output_type": "execute_result"
    }
   ],
   "source": [
    "disposition.shape"
   ]
  },
  {
   "cell_type": "code",
   "execution_count": 19,
   "metadata": {},
   "outputs": [
    {
     "data": {
      "text/html": [
       "<div>\n",
       "<style>\n",
       "    .dataframe thead tr:only-child th {\n",
       "        text-align: right;\n",
       "    }\n",
       "\n",
       "    .dataframe thead th {\n",
       "        text-align: left;\n",
       "    }\n",
       "\n",
       "    .dataframe tbody tr th {\n",
       "        vertical-align: top;\n",
       "    }\n",
       "</style>\n",
       "<table border=\"1\" class=\"dataframe\">\n",
       "  <thead>\n",
       "    <tr style=\"text-align: right;\">\n",
       "      <th></th>\n",
       "      <th>disp_id</th>\n",
       "      <th>client_id</th>\n",
       "      <th>account_id</th>\n",
       "      <th>type</th>\n",
       "    </tr>\n",
       "  </thead>\n",
       "  <tbody>\n",
       "    <tr>\n",
       "      <th>0</th>\n",
       "      <td>1</td>\n",
       "      <td>1</td>\n",
       "      <td>1</td>\n",
       "      <td>OWNER</td>\n",
       "    </tr>\n",
       "    <tr>\n",
       "      <th>1</th>\n",
       "      <td>2</td>\n",
       "      <td>2</td>\n",
       "      <td>2</td>\n",
       "      <td>OWNER</td>\n",
       "    </tr>\n",
       "    <tr>\n",
       "      <th>2</th>\n",
       "      <td>3</td>\n",
       "      <td>3</td>\n",
       "      <td>2</td>\n",
       "      <td>DISPONENT</td>\n",
       "    </tr>\n",
       "    <tr>\n",
       "      <th>3</th>\n",
       "      <td>4</td>\n",
       "      <td>4</td>\n",
       "      <td>3</td>\n",
       "      <td>OWNER</td>\n",
       "    </tr>\n",
       "    <tr>\n",
       "      <th>4</th>\n",
       "      <td>5</td>\n",
       "      <td>5</td>\n",
       "      <td>3</td>\n",
       "      <td>DISPONENT</td>\n",
       "    </tr>\n",
       "  </tbody>\n",
       "</table>\n",
       "</div>"
      ],
      "text/plain": [
       "   disp_id  client_id  account_id       type\n",
       "0        1          1           1      OWNER\n",
       "1        2          2           2      OWNER\n",
       "2        3          3           2  DISPONENT\n",
       "3        4          4           3      OWNER\n",
       "4        5          5           3  DISPONENT"
      ]
     },
     "execution_count": 19,
     "metadata": {},
     "output_type": "execute_result"
    }
   ],
   "source": [
    "disposition.head()"
   ]
  },
  {
   "cell_type": "code",
   "execution_count": 32,
   "metadata": {},
   "outputs": [
    {
     "data": {
      "text/plain": [
       "4500"
      ]
     },
     "execution_count": 32,
     "metadata": {},
     "output_type": "execute_result"
    }
   ],
   "source": [
    "disposition[\"account_id\"].nunique()"
   ]
  },
  {
   "cell_type": "code",
   "execution_count": 33,
   "metadata": {},
   "outputs": [
    {
     "data": {
      "text/plain": [
       "5369"
      ]
     },
     "execution_count": 33,
     "metadata": {},
     "output_type": "execute_result"
    }
   ],
   "source": [
    "disposition[\"client_id\"].nunique()"
   ]
  },
  {
   "cell_type": "code",
   "execution_count": 34,
   "metadata": {},
   "outputs": [
    {
     "data": {
      "text/plain": [
       "1051    2\n",
       "3035    2\n",
       "815     2\n",
       "928     2\n",
       "811     2\n",
       "Name: account_id, dtype: int64"
      ]
     },
     "execution_count": 34,
     "metadata": {},
     "output_type": "execute_result"
    }
   ],
   "source": [
    "disposition[\"account_id\"].value_counts()[0:5]"
   ]
  },
  {
   "cell_type": "code",
   "execution_count": 35,
   "metadata": {},
   "outputs": [
    {
     "data": {
      "text/plain": [
       "2047    1\n",
       "573     1\n",
       "577     1\n",
       "4675    1\n",
       "2628    1\n",
       "Name: client_id, dtype: int64"
      ]
     },
     "execution_count": 35,
     "metadata": {},
     "output_type": "execute_result"
    }
   ],
   "source": [
    "disposition[\"client_id\"].value_counts()[0:5]"
   ]
  },
  {
   "cell_type": "code",
   "execution_count": 36,
   "metadata": {},
   "outputs": [
    {
     "data": {
      "text/plain": [
       "OWNER        4500\n",
       "DISPONENT     869\n",
       "Name: type, dtype: int64"
      ]
     },
     "execution_count": 36,
     "metadata": {},
     "output_type": "execute_result"
    }
   ],
   "source": [
    "disposition[\"type\"].value_counts()"
   ]
  },
  {
   "cell_type": "markdown",
   "metadata": {},
   "source": [
    "## Insights\n",
    "\n",
    "We can see there are 5369 relations between client id's and account_id's\n",
    "There are total 5369 clients having 4500 accounts\n",
    "Mutual Accounts-869 Owners and 869 Disponants\n",
    "Non Mutual Account-3631 Owners\n",
    "Only 4500 owners can request loans\n"
   ]
  },
  {
   "cell_type": "markdown",
   "metadata": {},
   "source": [
    "### Understanding Loans"
   ]
  },
  {
   "cell_type": "code",
   "execution_count": 65,
   "metadata": {
    "collapsed": true
   },
   "outputs": [],
   "source": [
    "loans=pd.read_csv(\"C:/Users/mudmoham/Documents/pr/Banking_Case_Study/banking_data/loan.txt\",sep=\";\",parse_dates=[\"date\"])"
   ]
  },
  {
   "cell_type": "code",
   "execution_count": null,
   "metadata": {
    "collapsed": true
   },
   "outputs": [],
   "source": [
    "loans.info()"
   ]
  },
  {
   "cell_type": "code",
   "execution_count": 66,
   "metadata": {},
   "outputs": [
    {
     "data": {
      "text/html": [
       "<div>\n",
       "<style>\n",
       "    .dataframe thead tr:only-child th {\n",
       "        text-align: right;\n",
       "    }\n",
       "\n",
       "    .dataframe thead th {\n",
       "        text-align: left;\n",
       "    }\n",
       "\n",
       "    .dataframe tbody tr th {\n",
       "        vertical-align: top;\n",
       "    }\n",
       "</style>\n",
       "<table border=\"1\" class=\"dataframe\">\n",
       "  <thead>\n",
       "    <tr style=\"text-align: right;\">\n",
       "      <th></th>\n",
       "      <th>loan_id</th>\n",
       "      <th>account_id</th>\n",
       "      <th>date</th>\n",
       "      <th>amount</th>\n",
       "      <th>duration</th>\n",
       "      <th>payments</th>\n",
       "      <th>status</th>\n",
       "    </tr>\n",
       "  </thead>\n",
       "  <tbody>\n",
       "    <tr>\n",
       "      <th>0</th>\n",
       "      <td>5314</td>\n",
       "      <td>1787</td>\n",
       "      <td>1993-07-05</td>\n",
       "      <td>96396</td>\n",
       "      <td>12</td>\n",
       "      <td>8033.0</td>\n",
       "      <td>B</td>\n",
       "    </tr>\n",
       "    <tr>\n",
       "      <th>1</th>\n",
       "      <td>5316</td>\n",
       "      <td>1801</td>\n",
       "      <td>1993-07-11</td>\n",
       "      <td>165960</td>\n",
       "      <td>36</td>\n",
       "      <td>4610.0</td>\n",
       "      <td>A</td>\n",
       "    </tr>\n",
       "    <tr>\n",
       "      <th>2</th>\n",
       "      <td>6863</td>\n",
       "      <td>9188</td>\n",
       "      <td>1993-07-28</td>\n",
       "      <td>127080</td>\n",
       "      <td>60</td>\n",
       "      <td>2118.0</td>\n",
       "      <td>A</td>\n",
       "    </tr>\n",
       "    <tr>\n",
       "      <th>3</th>\n",
       "      <td>5325</td>\n",
       "      <td>1843</td>\n",
       "      <td>1993-08-03</td>\n",
       "      <td>105804</td>\n",
       "      <td>36</td>\n",
       "      <td>2939.0</td>\n",
       "      <td>A</td>\n",
       "    </tr>\n",
       "    <tr>\n",
       "      <th>4</th>\n",
       "      <td>7240</td>\n",
       "      <td>11013</td>\n",
       "      <td>1993-09-06</td>\n",
       "      <td>274740</td>\n",
       "      <td>60</td>\n",
       "      <td>4579.0</td>\n",
       "      <td>A</td>\n",
       "    </tr>\n",
       "  </tbody>\n",
       "</table>\n",
       "</div>"
      ],
      "text/plain": [
       "   loan_id  account_id       date  amount  duration  payments status\n",
       "0     5314        1787 1993-07-05   96396        12    8033.0      B\n",
       "1     5316        1801 1993-07-11  165960        36    4610.0      A\n",
       "2     6863        9188 1993-07-28  127080        60    2118.0      A\n",
       "3     5325        1843 1993-08-03  105804        36    2939.0      A\n",
       "4     7240       11013 1993-09-06  274740        60    4579.0      A"
      ]
     },
     "execution_count": 66,
     "metadata": {},
     "output_type": "execute_result"
    }
   ],
   "source": [
    "loans.head()"
   ]
  },
  {
   "cell_type": "code",
   "execution_count": null,
   "metadata": {
    "collapsed": true
   },
   "outputs": [],
   "source": [
    "loans[\"account_id\"].nunique()"
   ]
  },
  {
   "cell_type": "code",
   "execution_count": null,
   "metadata": {
    "collapsed": true
   },
   "outputs": [],
   "source": [
    "loans[\"status\"].value_counts()"
   ]
  },
  {
   "cell_type": "code",
   "execution_count": null,
   "metadata": {
    "collapsed": true
   },
   "outputs": [],
   "source": [
    "loans"
   ]
  },
  {
   "cell_type": "code",
   "execution_count": null,
   "metadata": {
    "collapsed": true
   },
   "outputs": [],
   "source": [
    "loans[\"status\"].value_counts().plot(kind='pie')"
   ]
  },
  {
   "cell_type": "code",
   "execution_count": null,
   "metadata": {
    "collapsed": true
   },
   "outputs": [],
   "source": [
    "loans.sort_values(by=\"amount\",ascending=False)[0:20][\"status\"].unique()"
   ]
  },
  {
   "cell_type": "markdown",
   "metadata": {},
   "source": [
    "### Insights\n",
    "\n",
    "We can see that 682 owners took loans\n",
    "out of them,\n",
    "59 percent are in running contract with no debts\n",
    "6.5 percent are in running contract with debt\n",
    "29.7 percent have repayed the loans\n",
    "4.5 percent failed to pay the loans\n",
    "We can see loans with huge amount has more chance of debt or it will take more time to pay back"
   ]
  },
  {
   "cell_type": "markdown",
   "metadata": {},
   "source": [
    "### Understanding Demographics"
   ]
  },
  {
   "cell_type": "code",
   "execution_count": 57,
   "metadata": {
    "collapsed": true
   },
   "outputs": [],
   "source": [
    "demographics=pd.read_csv(\"C:/Users/mudmoham/Documents/pr/Banking_Case_Study/banking_data/district.txt\",sep=\";\")"
   ]
  },
  {
   "cell_type": "code",
   "execution_count": 58,
   "metadata": {},
   "outputs": [
    {
     "data": {
      "text/html": [
       "<div>\n",
       "<style>\n",
       "    .dataframe thead tr:only-child th {\n",
       "        text-align: right;\n",
       "    }\n",
       "\n",
       "    .dataframe thead th {\n",
       "        text-align: left;\n",
       "    }\n",
       "\n",
       "    .dataframe tbody tr th {\n",
       "        vertical-align: top;\n",
       "    }\n",
       "</style>\n",
       "<table border=\"1\" class=\"dataframe\">\n",
       "  <thead>\n",
       "    <tr style=\"text-align: right;\">\n",
       "      <th></th>\n",
       "      <th>A1</th>\n",
       "      <th>A2</th>\n",
       "      <th>A3</th>\n",
       "      <th>A4</th>\n",
       "      <th>A5</th>\n",
       "      <th>A6</th>\n",
       "      <th>A7</th>\n",
       "      <th>A8</th>\n",
       "      <th>A9</th>\n",
       "      <th>A10</th>\n",
       "      <th>A11</th>\n",
       "      <th>A12</th>\n",
       "      <th>A13</th>\n",
       "      <th>A14</th>\n",
       "      <th>A15</th>\n",
       "      <th>A16</th>\n",
       "    </tr>\n",
       "  </thead>\n",
       "  <tbody>\n",
       "    <tr>\n",
       "      <th>0</th>\n",
       "      <td>1</td>\n",
       "      <td>Hl.m. Praha</td>\n",
       "      <td>Prague</td>\n",
       "      <td>1204953</td>\n",
       "      <td>0</td>\n",
       "      <td>0</td>\n",
       "      <td>0</td>\n",
       "      <td>1</td>\n",
       "      <td>1</td>\n",
       "      <td>100.0</td>\n",
       "      <td>12541</td>\n",
       "      <td>0.29</td>\n",
       "      <td>0.43</td>\n",
       "      <td>167</td>\n",
       "      <td>85677</td>\n",
       "      <td>99107</td>\n",
       "    </tr>\n",
       "    <tr>\n",
       "      <th>1</th>\n",
       "      <td>2</td>\n",
       "      <td>Benesov</td>\n",
       "      <td>central Bohemia</td>\n",
       "      <td>88884</td>\n",
       "      <td>80</td>\n",
       "      <td>26</td>\n",
       "      <td>6</td>\n",
       "      <td>2</td>\n",
       "      <td>5</td>\n",
       "      <td>46.7</td>\n",
       "      <td>8507</td>\n",
       "      <td>1.67</td>\n",
       "      <td>1.85</td>\n",
       "      <td>132</td>\n",
       "      <td>2159</td>\n",
       "      <td>2674</td>\n",
       "    </tr>\n",
       "    <tr>\n",
       "      <th>2</th>\n",
       "      <td>3</td>\n",
       "      <td>Beroun</td>\n",
       "      <td>central Bohemia</td>\n",
       "      <td>75232</td>\n",
       "      <td>55</td>\n",
       "      <td>26</td>\n",
       "      <td>4</td>\n",
       "      <td>1</td>\n",
       "      <td>5</td>\n",
       "      <td>41.7</td>\n",
       "      <td>8980</td>\n",
       "      <td>1.95</td>\n",
       "      <td>2.21</td>\n",
       "      <td>111</td>\n",
       "      <td>2824</td>\n",
       "      <td>2813</td>\n",
       "    </tr>\n",
       "    <tr>\n",
       "      <th>3</th>\n",
       "      <td>4</td>\n",
       "      <td>Kladno</td>\n",
       "      <td>central Bohemia</td>\n",
       "      <td>149893</td>\n",
       "      <td>63</td>\n",
       "      <td>29</td>\n",
       "      <td>6</td>\n",
       "      <td>2</td>\n",
       "      <td>6</td>\n",
       "      <td>67.4</td>\n",
       "      <td>9753</td>\n",
       "      <td>4.64</td>\n",
       "      <td>5.05</td>\n",
       "      <td>109</td>\n",
       "      <td>5244</td>\n",
       "      <td>5892</td>\n",
       "    </tr>\n",
       "    <tr>\n",
       "      <th>4</th>\n",
       "      <td>5</td>\n",
       "      <td>Kolin</td>\n",
       "      <td>central Bohemia</td>\n",
       "      <td>95616</td>\n",
       "      <td>65</td>\n",
       "      <td>30</td>\n",
       "      <td>4</td>\n",
       "      <td>1</td>\n",
       "      <td>6</td>\n",
       "      <td>51.4</td>\n",
       "      <td>9307</td>\n",
       "      <td>3.85</td>\n",
       "      <td>4.43</td>\n",
       "      <td>118</td>\n",
       "      <td>2616</td>\n",
       "      <td>3040</td>\n",
       "    </tr>\n",
       "  </tbody>\n",
       "</table>\n",
       "</div>"
      ],
      "text/plain": [
       "   A1           A2               A3       A4  A5  A6  A7  A8  A9    A10  \\\n",
       "0   1  Hl.m. Praha           Prague  1204953   0   0   0   1   1  100.0   \n",
       "1   2      Benesov  central Bohemia    88884  80  26   6   2   5   46.7   \n",
       "2   3       Beroun  central Bohemia    75232  55  26   4   1   5   41.7   \n",
       "3   4       Kladno  central Bohemia   149893  63  29   6   2   6   67.4   \n",
       "4   5        Kolin  central Bohemia    95616  65  30   4   1   6   51.4   \n",
       "\n",
       "     A11   A12   A13  A14    A15    A16  \n",
       "0  12541  0.29  0.43  167  85677  99107  \n",
       "1   8507  1.67  1.85  132   2159   2674  \n",
       "2   8980  1.95  2.21  111   2824   2813  \n",
       "3   9753  4.64  5.05  109   5244   5892  \n",
       "4   9307  3.85  4.43  118   2616   3040  "
      ]
     },
     "execution_count": 58,
     "metadata": {},
     "output_type": "execute_result"
    }
   ],
   "source": [
    "demographics.head()"
   ]
  },
  {
   "cell_type": "code",
   "execution_count": 59,
   "metadata": {},
   "outputs": [
    {
     "data": {
      "text/plain": [
       "array(['85677', '2159', '2824', '5244', '2616', '2640', '4289', '5179',\n",
       "       '2987', '3810', '3475', '3804', '1597', '6604', '1845', '1874',\n",
       "       '1003', '1740', '999', '1563', '2299', '1089', '2879', '5198',\n",
       "       '1822', '6041', '1029', '1580', '818', '2985', '1328', '4340',\n",
       "       '4650', '5323', '3384', '5796', '4147', '2653', '4947', '6949',\n",
       "       '6445', '1658', '4085', '2166', '2080', '2854', '6079', '1655',\n",
       "       '1660', '2123', '3496', '2564', '1850', '18721', '3659', '3729',\n",
       "       '2212', '2595', '1879', '2112', '2719', '1562', '4484', '2157',\n",
       "       '2247', '3244', '5623', '?', '9878', '4980', '9672', '4355',\n",
       "       '18782', '4063', '3736', '3460'], dtype=object)"
      ]
     },
     "execution_count": 59,
     "metadata": {},
     "output_type": "execute_result"
    }
   ],
   "source": [
    "demographics[\"A15\"].unique()"
   ]
  },
  {
   "cell_type": "code",
   "execution_count": 60,
   "metadata": {},
   "outputs": [
    {
     "data": {
      "text/plain": [
       "array(['0.29', '1.67', '1.95', '4.64', '3.85', '2.95', '2.26', '1.25',\n",
       "       '3.39', '0.56', '0.45', '3.83', '2.77', '1.42', '3.13', '1.12',\n",
       "       '2.38', '2.83', '2.65', '1.51', '1.10', '1.79', '1.39', '2.47',\n",
       "       '2.64', '0.65', '1.62', '2.82', '3.38', '3.52', '2.80', '5.75',\n",
       "       '6.43', '1.02', '3.33', '4.46', '7.08', '7.34', '6.49', '3.32',\n",
       "       '2.41', '1.72', '2.79', '2.28', '1.78', '1.89', '4.83', '2.51',\n",
       "       '2.52', '2.53', '1.60', '1.88', '4.69', '3.73', '3.24', '3.45',\n",
       "       '4.76', '1.29', '3.79', '5.74', '3.51', '5.77', '4.09', '?', '6.63',\n",
       "       '5.93', '3.80', '4.75', '5.38', '4.73', '4.01'], dtype=object)"
      ]
     },
     "execution_count": 60,
     "metadata": {},
     "output_type": "execute_result"
    }
   ],
   "source": [
    "demographics[\"A12\"].unique()"
   ]
  },
  {
   "cell_type": "markdown",
   "metadata": {},
   "source": [
    "### Imputing with Mean\n",
    "\n",
    "We can see that it has \"?\" which is unknown value.Let us impute them with mean value"
   ]
  },
  {
   "cell_type": "code",
   "execution_count": 61,
   "metadata": {
    "collapsed": true
   },
   "outputs": [],
   "source": [
    "demographics[\"A12\"]=pd.to_numeric(demographics[\"A12\"], errors='coerce')\n",
    "demographics[\"A15\"]=pd.to_numeric(demographics[\"A15\"], errors='coerce')"
   ]
  },
  {
   "cell_type": "code",
   "execution_count": 62,
   "metadata": {
    "collapsed": true
   },
   "outputs": [],
   "source": [
    "demographics[\"A12\"]=demographics[\"A12\"].fillna(demographics[\"A12\"].mean())\n",
    "demographics[\"A15\"]=demographics[\"A15\"].fillna(demographics[\"A15\"].mean())"
   ]
  },
  {
   "cell_type": "code",
   "execution_count": null,
   "metadata": {
    "collapsed": true
   },
   "outputs": [],
   "source": [
    "demographics.info()"
   ]
  },
  {
   "cell_type": "markdown",
   "metadata": {},
   "source": [
    "### Feature Engineering\n",
    "\n",
    "1)No. of Crimes commited in 1995 + No. of Crimes commited in 1996,these two columns can be added\n",
    "2)Unemployment rate in 1995+Unemployment rate in 1996,these two columns can be added\n",
    "3)No. of Municipalities with inhabitants < 499+No. of Municipalities with inhabitants 500-1999+No. of Municipalities with inhabitants 2000-9999+No. of Municipalities with inhabitants > 10000,\n",
    "these columns can be added"
   ]
  },
  {
   "cell_type": "code",
   "execution_count": 63,
   "metadata": {
    "collapsed": true
   },
   "outputs": [],
   "source": [
    "demographics[\"Unemployment_Rate\"]=demographics[\"A12\"]+demographics[\"A13\"]\n",
    "demographics[\"No of Crimes Committed\"]=demographics[\"A15\"]+demographics[\"A16\"]\n",
    "demographics[\"No of Municipalties\"]=demographics[\"A5\"]+demographics[\"A6\"]+demographics[\"A7\"]+demographics[\"A8\"]"
   ]
  },
  {
   "cell_type": "code",
   "execution_count": 64,
   "metadata": {
    "collapsed": true
   },
   "outputs": [],
   "source": [
    "demographics=demographics.drop([\"A12\",\"A13\",\"A15\",\"A16\",\"A5\",\"A6\",\"A7\",\"A8\"],axis=1)"
   ]
  },
  {
   "cell_type": "code",
   "execution_count": null,
   "metadata": {
    "collapsed": true
   },
   "outputs": [],
   "source": [
    "demographics.head()"
   ]
  },
  {
   "cell_type": "code",
   "execution_count": null,
   "metadata": {
    "collapsed": true
   },
   "outputs": [],
   "source": [
    "plt.figure(figsize=(20,10))\n",
    "sns.countplot(demographics[\"A3\"])"
   ]
  },
  {
   "cell_type": "markdown",
   "metadata": {},
   "source": [
    "### Which Region has more average Salary"
   ]
  },
  {
   "cell_type": "code",
   "execution_count": null,
   "metadata": {
    "collapsed": true
   },
   "outputs": [],
   "source": [
    "demographics.groupby([\"A3\"])[\"A11\"].mean().sort_values(ascending=False).plot.bar()"
   ]
  },
  {
   "cell_type": "markdown",
   "metadata": {},
   "source": [
    "### which Region has more entreprenuers"
   ]
  },
  {
   "cell_type": "code",
   "execution_count": null,
   "metadata": {
    "collapsed": true
   },
   "outputs": [],
   "source": [
    "demographics.groupby([\"A3\"])[\"A14\"].mean().sort_values(ascending=False).plot.bar()"
   ]
  },
  {
   "cell_type": "markdown",
   "metadata": {},
   "source": [
    "### which Region has more urban inhabitants"
   ]
  },
  {
   "cell_type": "code",
   "execution_count": null,
   "metadata": {
    "collapsed": true
   },
   "outputs": [],
   "source": [
    "demographics.groupby([\"A3\"])[\"A10\"].mean().sort_values(ascending=False).plot.bar()"
   ]
  },
  {
   "cell_type": "markdown",
   "metadata": {},
   "source": [
    "### which region has more no of crimes"
   ]
  },
  {
   "cell_type": "code",
   "execution_count": null,
   "metadata": {
    "collapsed": true
   },
   "outputs": [],
   "source": [
    "demographics.groupby([\"A3\"])[\"No of Crimes Committed\"].mean().sort_values(ascending=False).plot.bar()"
   ]
  },
  {
   "cell_type": "markdown",
   "metadata": {},
   "source": [
    "### which region has more unemployment rate"
   ]
  },
  {
   "cell_type": "code",
   "execution_count": null,
   "metadata": {
    "collapsed": true
   },
   "outputs": [],
   "source": [
    "demographics.groupby([\"A3\"])[\"Unemployment_Rate\"].mean().sort_values(ascending=False).plot.bar()"
   ]
  },
  {
   "cell_type": "markdown",
   "metadata": {},
   "source": [
    "### Insights\n",
    "\n",
    "North Bohemia and North Moravia has high unemployment Rate\n",
    "Prague and North Bohemia has high urban population\n",
    "Prague has more crime committed\n",
    "Prague region has highest number of entreprenuers and high average salary"
   ]
  },
  {
   "cell_type": "markdown",
   "metadata": {},
   "source": [
    "### Understanding credit card information"
   ]
  },
  {
   "cell_type": "code",
   "execution_count": 12,
   "metadata": {
    "collapsed": true
   },
   "outputs": [],
   "source": [
    "credit=pd.read_csv(\"C:/Users/mudmoham/Documents/pr/Banking_Case_Study/banking_data/card.txt\",sep=\";\",parse_dates=[\"issued\"])"
   ]
  },
  {
   "cell_type": "code",
   "execution_count": 13,
   "metadata": {},
   "outputs": [
    {
     "data": {
      "text/html": [
       "<div>\n",
       "<style>\n",
       "    .dataframe thead tr:only-child th {\n",
       "        text-align: right;\n",
       "    }\n",
       "\n",
       "    .dataframe thead th {\n",
       "        text-align: left;\n",
       "    }\n",
       "\n",
       "    .dataframe tbody tr th {\n",
       "        vertical-align: top;\n",
       "    }\n",
       "</style>\n",
       "<table border=\"1\" class=\"dataframe\">\n",
       "  <thead>\n",
       "    <tr style=\"text-align: right;\">\n",
       "      <th></th>\n",
       "      <th>card_id</th>\n",
       "      <th>disp_id</th>\n",
       "      <th>type</th>\n",
       "      <th>issued</th>\n",
       "    </tr>\n",
       "  </thead>\n",
       "  <tbody>\n",
       "    <tr>\n",
       "      <th>0</th>\n",
       "      <td>1005</td>\n",
       "      <td>9285</td>\n",
       "      <td>classic</td>\n",
       "      <td>1993-11-07</td>\n",
       "    </tr>\n",
       "    <tr>\n",
       "      <th>1</th>\n",
       "      <td>104</td>\n",
       "      <td>588</td>\n",
       "      <td>classic</td>\n",
       "      <td>1994-01-19</td>\n",
       "    </tr>\n",
       "    <tr>\n",
       "      <th>2</th>\n",
       "      <td>747</td>\n",
       "      <td>4915</td>\n",
       "      <td>classic</td>\n",
       "      <td>1994-02-05</td>\n",
       "    </tr>\n",
       "    <tr>\n",
       "      <th>3</th>\n",
       "      <td>70</td>\n",
       "      <td>439</td>\n",
       "      <td>classic</td>\n",
       "      <td>1994-02-08</td>\n",
       "    </tr>\n",
       "    <tr>\n",
       "      <th>4</th>\n",
       "      <td>577</td>\n",
       "      <td>3687</td>\n",
       "      <td>classic</td>\n",
       "      <td>1994-02-15</td>\n",
       "    </tr>\n",
       "  </tbody>\n",
       "</table>\n",
       "</div>"
      ],
      "text/plain": [
       "   card_id  disp_id     type     issued\n",
       "0     1005     9285  classic 1993-11-07\n",
       "1      104      588  classic 1994-01-19\n",
       "2      747     4915  classic 1994-02-05\n",
       "3       70      439  classic 1994-02-08\n",
       "4      577     3687  classic 1994-02-15"
      ]
     },
     "execution_count": 13,
     "metadata": {},
     "output_type": "execute_result"
    }
   ],
   "source": [
    "credit.head()"
   ]
  },
  {
   "cell_type": "code",
   "execution_count": 14,
   "metadata": {},
   "outputs": [
    {
     "data": {
      "text/plain": [
       "892"
      ]
     },
     "execution_count": 14,
     "metadata": {},
     "output_type": "execute_result"
    }
   ],
   "source": [
    "credit[\"disp_id\"].nunique()"
   ]
  },
  {
   "cell_type": "code",
   "execution_count": 15,
   "metadata": {},
   "outputs": [
    {
     "data": {
      "text/plain": [
       "(892, 4)"
      ]
     },
     "execution_count": 15,
     "metadata": {},
     "output_type": "execute_result"
    }
   ],
   "source": [
    "credit.shape"
   ]
  },
  {
   "cell_type": "code",
   "execution_count": 16,
   "metadata": {},
   "outputs": [
    {
     "data": {
      "text/plain": [
       "<matplotlib.axes._subplots.AxesSubplot at 0x1ef0b5cc4a8>"
      ]
     },
     "execution_count": 16,
     "metadata": {},
     "output_type": "execute_result"
    },
    {
     "data": {
      "image/png": "[encoded data removed]",
      "text/plain": [
       "<matplotlib.figure.Figure at 0x1ef051a9ef0>"
      ]
     },
     "metadata": {},
     "output_type": "display_data"
    }
   ],
   "source": [
    "sns.countplot(credit[\"type\"])"
   ]
  },
  {
   "cell_type": "markdown",
   "metadata": {},
   "source": [
    "### Insights\n",
    "\n",
    "More no of Classic card users\n",
    "Out of 5369 customers,892 customers have been offered credit cards "
   ]
  },
  {
   "cell_type": "markdown",
   "metadata": {},
   "source": [
    "### Understanding Permanent Orders Information"
   ]
  },
  {
   "cell_type": "code",
   "execution_count": null,
   "metadata": {
    "collapsed": true
   },
   "outputs": [],
   "source": [
    "order=pd.read_csv(\"C:/Users/mudmoham/Documents/pr/Banking_Case_Study/banking_data/order.txt\",sep=\";\")"
   ]
  },
  {
   "cell_type": "code",
   "execution_count": null,
   "metadata": {
    "collapsed": true
   },
   "outputs": [],
   "source": [
    "order.head()"
   ]
  },
  {
   "cell_type": "markdown",
   "metadata": {},
   "source": [
    "### Imputing Missing Values with mode "
   ]
  },
  {
   "cell_type": "code",
   "execution_count": null,
   "metadata": {
    "collapsed": true
   },
   "outputs": [],
   "source": [
    "order[\"k_symbol\"].unique()"
   ]
  },
  {
   "cell_type": "code",
   "execution_count": null,
   "metadata": {
    "collapsed": true
   },
   "outputs": [],
   "source": [
    "order[\"k_symbol\"]=order[\"k_symbol\"].replace(' ',mode(order[\"k_symbol\"])[0][0])"
   ]
  },
  {
   "cell_type": "code",
   "execution_count": null,
   "metadata": {
    "collapsed": true
   },
   "outputs": [],
   "source": [
    "order.head()"
   ]
  },
  {
   "cell_type": "code",
   "execution_count": null,
   "metadata": {
    "collapsed": true
   },
   "outputs": [],
   "source": [
    "sns.countplot(order[\"k_symbol\"])"
   ]
  },
  {
   "cell_type": "code",
   "execution_count": null,
   "metadata": {
    "collapsed": true
   },
   "outputs": [],
   "source": [
    "order[\"order_id\"].nunique()"
   ]
  },
  {
   "cell_type": "code",
   "execution_count": null,
   "metadata": {
    "collapsed": true
   },
   "outputs": [],
   "source": [
    "order[\"account_id\"].nunique()"
   ]
  },
  {
   "cell_type": "code",
   "execution_count": null,
   "metadata": {
    "collapsed": true
   },
   "outputs": [],
   "source": [
    "order[\"k_symbol\"].value_counts()"
   ]
  },
  {
   "cell_type": "markdown",
   "metadata": {},
   "source": [
    "### Which Order type involves more money"
   ]
  },
  {
   "cell_type": "code",
   "execution_count": null,
   "metadata": {
    "collapsed": true
   },
   "outputs": [],
   "source": [
    "order.groupby([\"k_symbol\"])[\"amount\"].mean().plot.bar()"
   ]
  },
  {
   "cell_type": "markdown",
   "metadata": {},
   "source": [
    "## Insights\n",
    "\n",
    "Most of orders are issued towards \"household payment\"\n",
    "Most of the money is spent for \"Loan payment\""
   ]
  },
  {
   "cell_type": "markdown",
   "metadata": {},
   "source": [
    "### Understanding Transactions"
   ]
  },
  {
   "cell_type": "code",
   "execution_count": 3,
   "metadata": {
    "collapsed": true
   },
   "outputs": [],
   "source": [
    "transactions=pd.read_csv(\"C:/Users/mudmoham/Documents/pr/Banking_Case_Study/banking_data/trans.txt\",sep=\";\",parse_dates=[\"date\"])"
   ]
  },
  {
   "cell_type": "code",
   "execution_count": 4,
   "metadata": {},
   "outputs": [
    {
     "data": {
      "text/html": [
       "<div>\n",
       "<style>\n",
       "    .dataframe thead tr:only-child th {\n",
       "        text-align: right;\n",
       "    }\n",
       "\n",
       "    .dataframe thead th {\n",
       "        text-align: left;\n",
       "    }\n",
       "\n",
       "    .dataframe tbody tr th {\n",
       "        vertical-align: top;\n",
       "    }\n",
       "</style>\n",
       "<table border=\"1\" class=\"dataframe\">\n",
       "  <thead>\n",
       "    <tr style=\"text-align: right;\">\n",
       "      <th></th>\n",
       "      <th>trans_id</th>\n",
       "      <th>account_id</th>\n",
       "      <th>date</th>\n",
       "      <th>type</th>\n",
       "      <th>operation</th>\n",
       "      <th>amount</th>\n",
       "      <th>balance</th>\n",
       "      <th>k_symbol</th>\n",
       "      <th>bank</th>\n",
       "      <th>account</th>\n",
       "    </tr>\n",
       "  </thead>\n",
       "  <tbody>\n",
       "    <tr>\n",
       "      <th>0</th>\n",
       "      <td>695247</td>\n",
       "      <td>2378</td>\n",
       "      <td>1993-01-01</td>\n",
       "      <td>PRIJEM</td>\n",
       "      <td>VKLAD</td>\n",
       "      <td>700.0</td>\n",
       "      <td>700.0</td>\n",
       "      <td>NaN</td>\n",
       "      <td>NaN</td>\n",
       "      <td>NaN</td>\n",
       "    </tr>\n",
       "    <tr>\n",
       "      <th>1</th>\n",
       "      <td>171812</td>\n",
       "      <td>576</td>\n",
       "      <td>1993-01-01</td>\n",
       "      <td>PRIJEM</td>\n",
       "      <td>VKLAD</td>\n",
       "      <td>900.0</td>\n",
       "      <td>900.0</td>\n",
       "      <td>NaN</td>\n",
       "      <td>NaN</td>\n",
       "      <td>NaN</td>\n",
       "    </tr>\n",
       "    <tr>\n",
       "      <th>2</th>\n",
       "      <td>207264</td>\n",
       "      <td>704</td>\n",
       "      <td>1993-01-01</td>\n",
       "      <td>PRIJEM</td>\n",
       "      <td>VKLAD</td>\n",
       "      <td>1000.0</td>\n",
       "      <td>1000.0</td>\n",
       "      <td>NaN</td>\n",
       "      <td>NaN</td>\n",
       "      <td>NaN</td>\n",
       "    </tr>\n",
       "    <tr>\n",
       "      <th>3</th>\n",
       "      <td>1117247</td>\n",
       "      <td>3818</td>\n",
       "      <td>1993-01-01</td>\n",
       "      <td>PRIJEM</td>\n",
       "      <td>VKLAD</td>\n",
       "      <td>600.0</td>\n",
       "      <td>600.0</td>\n",
       "      <td>NaN</td>\n",
       "      <td>NaN</td>\n",
       "      <td>NaN</td>\n",
       "    </tr>\n",
       "    <tr>\n",
       "      <th>4</th>\n",
       "      <td>579373</td>\n",
       "      <td>1972</td>\n",
       "      <td>1993-01-02</td>\n",
       "      <td>PRIJEM</td>\n",
       "      <td>VKLAD</td>\n",
       "      <td>400.0</td>\n",
       "      <td>400.0</td>\n",
       "      <td>NaN</td>\n",
       "      <td>NaN</td>\n",
       "      <td>NaN</td>\n",
       "    </tr>\n",
       "  </tbody>\n",
       "</table>\n",
       "</div>"
      ],
      "text/plain": [
       "   trans_id  account_id       date    type operation  amount  balance  \\\n",
       "0    695247        2378 1993-01-01  PRIJEM     VKLAD   700.0    700.0   \n",
       "1    171812         576 1993-01-01  PRIJEM     VKLAD   900.0    900.0   \n",
       "2    207264         704 1993-01-01  PRIJEM     VKLAD  1000.0   1000.0   \n",
       "3   1117247        3818 1993-01-01  PRIJEM     VKLAD   600.0    600.0   \n",
       "4    579373        1972 1993-01-02  PRIJEM     VKLAD   400.0    400.0   \n",
       "\n",
       "  k_symbol bank  account  \n",
       "0      NaN  NaN      NaN  \n",
       "1      NaN  NaN      NaN  \n",
       "2      NaN  NaN      NaN  \n",
       "3      NaN  NaN      NaN  \n",
       "4      NaN  NaN      NaN  "
      ]
     },
     "execution_count": 4,
     "metadata": {},
     "output_type": "execute_result"
    }
   ],
   "source": [
    "transactions.head()"
   ]
  },
  {
   "cell_type": "code",
   "execution_count": 11,
   "metadata": {},
   "outputs": [
    {
     "data": {
      "text/plain": [
       "(1056320, 10)"
      ]
     },
     "execution_count": 11,
     "metadata": {},
     "output_type": "execute_result"
    }
   ],
   "source": [
    "transactions.shape"
   ]
  },
  {
   "cell_type": "code",
   "execution_count": 6,
   "metadata": {},
   "outputs": [
    {
     "data": {
      "text/plain": [
       "4500"
      ]
     },
     "execution_count": 6,
     "metadata": {},
     "output_type": "execute_result"
    }
   ],
   "source": [
    "transactions[\"account_id\"].nunique()"
   ]
  },
  {
   "cell_type": "code",
   "execution_count": 7,
   "metadata": {
    "collapsed": true
   },
   "outputs": [],
   "source": [
    "col=[\"operation\",\"k_symbol\",\"bank\",\"account\"]\n",
    "for i in col:\n",
    "    transactions[i]=transactions[i].fillna(\"Not Applicable\")    "
   ]
  },
  {
   "cell_type": "code",
   "execution_count": 8,
   "metadata": {},
   "outputs": [
    {
     "data": {
      "text/plain": [
       "array(['Not Applicable', 'DUCHOD', 'UROK', 'SIPO', 'SLUZBY', ' ',\n",
       "       'POJISTNE', 'SANKC. UROK', 'UVER'], dtype=object)"
      ]
     },
     "execution_count": 8,
     "metadata": {},
     "output_type": "execute_result"
    }
   ],
   "source": [
    "transactions[\"k_symbol\"].unique()"
   ]
  },
  {
   "cell_type": "code",
   "execution_count": 9,
   "metadata": {
    "collapsed": true
   },
   "outputs": [],
   "source": [
    "transactions[\"k_symbol\"]=transactions[\"k_symbol\"].replace(' ',\"SIPO\")"
   ]
  },
  {
   "cell_type": "code",
   "execution_count": 10,
   "metadata": {},
   "outputs": [
    {
     "data": {
      "text/plain": [
       "array(['Not Applicable', 'DUCHOD', 'UROK', 'SIPO', 'SLUZBY', 'POJISTNE',\n",
       "       'SANKC. UROK', 'UVER'], dtype=object)"
      ]
     },
     "execution_count": 10,
     "metadata": {},
     "output_type": "execute_result"
    }
   ],
   "source": [
    "transactions[\"k_symbol\"].unique()"
   ]
  },
  {
   "cell_type": "markdown",
   "metadata": {},
   "source": [
    "## 1.2 Identify if there is any relation between the type of credit card issued to a disponent with his average credit balance maintained in transaction account"
   ]
  },
  {
   "cell_type": "code",
   "execution_count": 37,
   "metadata": {
    "collapsed": true
   },
   "outputs": [],
   "source": [
    "disponent=disposition[disposition[\"type\"]==\"DISPONENT\"]"
   ]
  },
  {
   "cell_type": "code",
   "execution_count": 38,
   "metadata": {
    "collapsed": true
   },
   "outputs": [],
   "source": [
    "credit_disp=pd.merge(credit,disposition,on=\"disp_id\")"
   ]
  },
  {
   "cell_type": "code",
   "execution_count": 30,
   "metadata": {},
   "outputs": [
    {
     "data": {
      "text/html": [
       "<div>\n",
       "<style>\n",
       "    .dataframe thead tr:only-child th {\n",
       "        text-align: right;\n",
       "    }\n",
       "\n",
       "    .dataframe thead th {\n",
       "        text-align: left;\n",
       "    }\n",
       "\n",
       "    .dataframe tbody tr th {\n",
       "        vertical-align: top;\n",
       "    }\n",
       "</style>\n",
       "<table border=\"1\" class=\"dataframe\">\n",
       "  <thead>\n",
       "    <tr style=\"text-align: right;\">\n",
       "      <th></th>\n",
       "      <th>card_id</th>\n",
       "      <th>disp_id</th>\n",
       "      <th>type_x</th>\n",
       "      <th>issued</th>\n",
       "      <th>client_id</th>\n",
       "      <th>account_id</th>\n",
       "      <th>type_y</th>\n",
       "    </tr>\n",
       "  </thead>\n",
       "  <tbody>\n",
       "    <tr>\n",
       "      <th>0</th>\n",
       "      <td>1005</td>\n",
       "      <td>9285</td>\n",
       "      <td>classic</td>\n",
       "      <td>1993-11-07</td>\n",
       "      <td>9593</td>\n",
       "      <td>7753</td>\n",
       "      <td>OWNER</td>\n",
       "    </tr>\n",
       "    <tr>\n",
       "      <th>1</th>\n",
       "      <td>104</td>\n",
       "      <td>588</td>\n",
       "      <td>classic</td>\n",
       "      <td>1994-01-19</td>\n",
       "      <td>588</td>\n",
       "      <td>489</td>\n",
       "      <td>OWNER</td>\n",
       "    </tr>\n",
       "    <tr>\n",
       "      <th>2</th>\n",
       "      <td>747</td>\n",
       "      <td>4915</td>\n",
       "      <td>classic</td>\n",
       "      <td>1994-02-05</td>\n",
       "      <td>4915</td>\n",
       "      <td>4078</td>\n",
       "      <td>OWNER</td>\n",
       "    </tr>\n",
       "    <tr>\n",
       "      <th>3</th>\n",
       "      <td>70</td>\n",
       "      <td>439</td>\n",
       "      <td>classic</td>\n",
       "      <td>1994-02-08</td>\n",
       "      <td>439</td>\n",
       "      <td>361</td>\n",
       "      <td>OWNER</td>\n",
       "    </tr>\n",
       "    <tr>\n",
       "      <th>4</th>\n",
       "      <td>577</td>\n",
       "      <td>3687</td>\n",
       "      <td>classic</td>\n",
       "      <td>1994-02-15</td>\n",
       "      <td>3687</td>\n",
       "      <td>3050</td>\n",
       "      <td>OWNER</td>\n",
       "    </tr>\n",
       "  </tbody>\n",
       "</table>\n",
       "</div>"
      ],
      "text/plain": [
       "   card_id  disp_id   type_x     issued  client_id  account_id type_y\n",
       "0     1005     9285  classic 1993-11-07       9593        7753  OWNER\n",
       "1      104      588  classic 1994-01-19        588         489  OWNER\n",
       "2      747     4915  classic 1994-02-05       4915        4078  OWNER\n",
       "3       70      439  classic 1994-02-08        439         361  OWNER\n",
       "4      577     3687  classic 1994-02-15       3687        3050  OWNER"
      ]
     },
     "execution_count": 30,
     "metadata": {},
     "output_type": "execute_result"
    }
   ],
   "source": [
    "credit_disp.head()"
   ]
  },
  {
   "cell_type": "code",
   "execution_count": 48,
   "metadata": {
    "collapsed": true
   },
   "outputs": [],
   "source": [
    "disp_accounts=credit_disp[credit_disp[\"account_id\"].isin(list(disponent[\"account_id\"].unique()))]"
   ]
  },
  {
   "cell_type": "code",
   "execution_count": 49,
   "metadata": {},
   "outputs": [
    {
     "data": {
      "text/html": [
       "<div>\n",
       "<style>\n",
       "    .dataframe thead tr:only-child th {\n",
       "        text-align: right;\n",
       "    }\n",
       "\n",
       "    .dataframe thead th {\n",
       "        text-align: left;\n",
       "    }\n",
       "\n",
       "    .dataframe tbody tr th {\n",
       "        vertical-align: top;\n",
       "    }\n",
       "</style>\n",
       "<table border=\"1\" class=\"dataframe\">\n",
       "  <thead>\n",
       "    <tr style=\"text-align: right;\">\n",
       "      <th></th>\n",
       "      <th>card_id</th>\n",
       "      <th>disp_id</th>\n",
       "      <th>type_x</th>\n",
       "      <th>issued</th>\n",
       "      <th>client_id</th>\n",
       "      <th>account_id</th>\n",
       "      <th>type_y</th>\n",
       "    </tr>\n",
       "  </thead>\n",
       "  <tbody>\n",
       "    <tr>\n",
       "      <th>4</th>\n",
       "      <td>577</td>\n",
       "      <td>3687</td>\n",
       "      <td>classic</td>\n",
       "      <td>1994-02-15</td>\n",
       "      <td>3687</td>\n",
       "      <td>3050</td>\n",
       "      <td>OWNER</td>\n",
       "    </tr>\n",
       "    <tr>\n",
       "      <th>20</th>\n",
       "      <td>658</td>\n",
       "      <td>4251</td>\n",
       "      <td>classic</td>\n",
       "      <td>1994-12-25</td>\n",
       "      <td>4251</td>\n",
       "      <td>3521</td>\n",
       "      <td>OWNER</td>\n",
       "    </tr>\n",
       "    <tr>\n",
       "      <th>28</th>\n",
       "      <td>208</td>\n",
       "      <td>1246</td>\n",
       "      <td>gold</td>\n",
       "      <td>1995-02-08</td>\n",
       "      <td>1246</td>\n",
       "      <td>1039</td>\n",
       "      <td>OWNER</td>\n",
       "    </tr>\n",
       "    <tr>\n",
       "      <th>29</th>\n",
       "      <td>766</td>\n",
       "      <td>5200</td>\n",
       "      <td>classic</td>\n",
       "      <td>1995-02-11</td>\n",
       "      <td>5200</td>\n",
       "      <td>4318</td>\n",
       "      <td>OWNER</td>\n",
       "    </tr>\n",
       "    <tr>\n",
       "      <th>30</th>\n",
       "      <td>464</td>\n",
       "      <td>2984</td>\n",
       "      <td>classic</td>\n",
       "      <td>1995-02-21</td>\n",
       "      <td>2984</td>\n",
       "      <td>2472</td>\n",
       "      <td>OWNER</td>\n",
       "    </tr>\n",
       "  </tbody>\n",
       "</table>\n",
       "</div>"
      ],
      "text/plain": [
       "    card_id  disp_id   type_x     issued  client_id  account_id type_y\n",
       "4       577     3687  classic 1994-02-15       3687        3050  OWNER\n",
       "20      658     4251  classic 1994-12-25       4251        3521  OWNER\n",
       "28      208     1246     gold 1995-02-08       1246        1039  OWNER\n",
       "29      766     5200  classic 1995-02-11       5200        4318  OWNER\n",
       "30      464     2984  classic 1995-02-21       2984        2472  OWNER"
      ]
     },
     "execution_count": 49,
     "metadata": {},
     "output_type": "execute_result"
    }
   ],
   "source": [
    "disp_accounts.head()"
   ]
  },
  {
   "cell_type": "code",
   "execution_count": 50,
   "metadata": {
    "collapsed": true
   },
   "outputs": [],
   "source": [
    "disp_trans=pd.merge(disp_accounts,transactions,on=\"account_id\")"
   ]
  },
  {
   "cell_type": "code",
   "execution_count": 51,
   "metadata": {},
   "outputs": [
    {
     "data": {
      "text/plain": [
       "(39753, 16)"
      ]
     },
     "execution_count": 51,
     "metadata": {},
     "output_type": "execute_result"
    }
   ],
   "source": [
    "disp_trans.shape"
   ]
  },
  {
   "cell_type": "code",
   "execution_count": 56,
   "metadata": {},
   "outputs": [
    {
     "data": {
      "text/plain": [
       "<matplotlib.axes._subplots.AxesSubplot at 0x1ef0c57fbe0>"
      ]
     },
     "execution_count": 56,
     "metadata": {},
     "output_type": "execute_result"
    },
    {
     "data": {
      "image/png": "[encoded data removed]",
      "text/plain": [
       "<matplotlib.figure.Figure at 0x1ef0b688630>"
      ]
     },
     "metadata": {},
     "output_type": "display_data"
    }
   ],
   "source": [
    "disp_trans.groupby([\"type_x\"])[\"balance\"].mean().sort_values().plot.bar()"
   ]
  },
  {
   "cell_type": "markdown",
   "metadata": {},
   "source": [
    "### Insights\n",
    "\n",
    "Credit balance maintained in \"gold\" card is higher compared to classic and junior"
   ]
  },
  {
   "cell_type": "markdown",
   "metadata": {},
   "source": [
    " ## 1.3 Identify whether any demographic factors is showing strong association with loan defaulters"
   ]
  },
  {
   "cell_type": "code",
   "execution_count": 86,
   "metadata": {
    "collapsed": true
   },
   "outputs": [],
   "source": [
    "loan_accounts=pd.merge(loans,account,on=\"account_id\")"
   ]
  },
  {
   "cell_type": "code",
   "execution_count": 87,
   "metadata": {},
   "outputs": [
    {
     "data": {
      "text/html": [
       "<div>\n",
       "<style>\n",
       "    .dataframe thead tr:only-child th {\n",
       "        text-align: right;\n",
       "    }\n",
       "\n",
       "    .dataframe thead th {\n",
       "        text-align: left;\n",
       "    }\n",
       "\n",
       "    .dataframe tbody tr th {\n",
       "        vertical-align: top;\n",
       "    }\n",
       "</style>\n",
       "<table border=\"1\" class=\"dataframe\">\n",
       "  <thead>\n",
       "    <tr style=\"text-align: right;\">\n",
       "      <th></th>\n",
       "      <th>loan_id</th>\n",
       "      <th>account_id</th>\n",
       "      <th>date_x</th>\n",
       "      <th>amount</th>\n",
       "      <th>duration</th>\n",
       "      <th>payments</th>\n",
       "      <th>status</th>\n",
       "      <th>district_id</th>\n",
       "      <th>frequency</th>\n",
       "      <th>date_y</th>\n",
       "    </tr>\n",
       "  </thead>\n",
       "  <tbody>\n",
       "    <tr>\n",
       "      <th>0</th>\n",
       "      <td>5314</td>\n",
       "      <td>1787</td>\n",
       "      <td>1993-07-05</td>\n",
       "      <td>96396</td>\n",
       "      <td>12</td>\n",
       "      <td>8033.0</td>\n",
       "      <td>B</td>\n",
       "      <td>30</td>\n",
       "      <td>POPLATEK TYDNE</td>\n",
       "      <td>1993-03-22</td>\n",
       "    </tr>\n",
       "    <tr>\n",
       "      <th>1</th>\n",
       "      <td>5316</td>\n",
       "      <td>1801</td>\n",
       "      <td>1993-07-11</td>\n",
       "      <td>165960</td>\n",
       "      <td>36</td>\n",
       "      <td>4610.0</td>\n",
       "      <td>A</td>\n",
       "      <td>46</td>\n",
       "      <td>POPLATEK MESICNE</td>\n",
       "      <td>1993-02-13</td>\n",
       "    </tr>\n",
       "    <tr>\n",
       "      <th>2</th>\n",
       "      <td>6863</td>\n",
       "      <td>9188</td>\n",
       "      <td>1993-07-28</td>\n",
       "      <td>127080</td>\n",
       "      <td>60</td>\n",
       "      <td>2118.0</td>\n",
       "      <td>A</td>\n",
       "      <td>45</td>\n",
       "      <td>POPLATEK MESICNE</td>\n",
       "      <td>1993-02-08</td>\n",
       "    </tr>\n",
       "    <tr>\n",
       "      <th>3</th>\n",
       "      <td>5325</td>\n",
       "      <td>1843</td>\n",
       "      <td>1993-08-03</td>\n",
       "      <td>105804</td>\n",
       "      <td>36</td>\n",
       "      <td>2939.0</td>\n",
       "      <td>A</td>\n",
       "      <td>12</td>\n",
       "      <td>POPLATEK MESICNE</td>\n",
       "      <td>1993-01-30</td>\n",
       "    </tr>\n",
       "    <tr>\n",
       "      <th>4</th>\n",
       "      <td>7240</td>\n",
       "      <td>11013</td>\n",
       "      <td>1993-09-06</td>\n",
       "      <td>274740</td>\n",
       "      <td>60</td>\n",
       "      <td>4579.0</td>\n",
       "      <td>A</td>\n",
       "      <td>1</td>\n",
       "      <td>POPLATEK TYDNE</td>\n",
       "      <td>1993-02-14</td>\n",
       "    </tr>\n",
       "  </tbody>\n",
       "</table>\n",
       "</div>"
      ],
      "text/plain": [
       "   loan_id  account_id     date_x  amount  duration  payments status  \\\n",
       "0     5314        1787 1993-07-05   96396        12    8033.0      B   \n",
       "1     5316        1801 1993-07-11  165960        36    4610.0      A   \n",
       "2     6863        9188 1993-07-28  127080        60    2118.0      A   \n",
       "3     5325        1843 1993-08-03  105804        36    2939.0      A   \n",
       "4     7240       11013 1993-09-06  274740        60    4579.0      A   \n",
       "\n",
       "   district_id         frequency     date_y  \n",
       "0           30    POPLATEK TYDNE 1993-03-22  \n",
       "1           46  POPLATEK MESICNE 1993-02-13  \n",
       "2           45  POPLATEK MESICNE 1993-02-08  \n",
       "3           12  POPLATEK MESICNE 1993-01-30  \n",
       "4            1    POPLATEK TYDNE 1993-02-14  "
      ]
     },
     "execution_count": 87,
     "metadata": {},
     "output_type": "execute_result"
    }
   ],
   "source": [
    "loan_accounts.head()"
   ]
  },
  {
   "cell_type": "code",
   "execution_count": 88,
   "metadata": {
    "collapsed": true
   },
   "outputs": [],
   "source": [
    "loan_defaulters=loan_accounts[loan_accounts[\"status\"]==\"B\"]\n",
    "loan_payers=loan_accounts[loan_accounts[\"status\"]==\"A\"]"
   ]
  },
  {
   "cell_type": "code",
   "execution_count": 81,
   "metadata": {
    "collapsed": true
   },
   "outputs": [],
   "source": [
    "demographics=demographics.rename(columns={\"A1\":\"district_id\"})"
   ]
  },
  {
   "cell_type": "code",
   "execution_count": 82,
   "metadata": {},
   "outputs": [
    {
     "data": {
      "text/html": [
       "<div>\n",
       "<style>\n",
       "    .dataframe thead tr:only-child th {\n",
       "        text-align: right;\n",
       "    }\n",
       "\n",
       "    .dataframe thead th {\n",
       "        text-align: left;\n",
       "    }\n",
       "\n",
       "    .dataframe tbody tr th {\n",
       "        vertical-align: top;\n",
       "    }\n",
       "</style>\n",
       "<table border=\"1\" class=\"dataframe\">\n",
       "  <thead>\n",
       "    <tr style=\"text-align: right;\">\n",
       "      <th></th>\n",
       "      <th>district_id</th>\n",
       "      <th>A2</th>\n",
       "      <th>A3</th>\n",
       "      <th>A4</th>\n",
       "      <th>A9</th>\n",
       "      <th>A10</th>\n",
       "      <th>A11</th>\n",
       "      <th>A14</th>\n",
       "      <th>Unemployment_Rate</th>\n",
       "      <th>No of Crimes Committed</th>\n",
       "      <th>No of Municipalties</th>\n",
       "    </tr>\n",
       "  </thead>\n",
       "  <tbody>\n",
       "    <tr>\n",
       "      <th>0</th>\n",
       "      <td>1</td>\n",
       "      <td>Hl.m. Praha</td>\n",
       "      <td>Prague</td>\n",
       "      <td>1204953</td>\n",
       "      <td>1</td>\n",
       "      <td>100.0</td>\n",
       "      <td>12541</td>\n",
       "      <td>167</td>\n",
       "      <td>0.72</td>\n",
       "      <td>184784.0</td>\n",
       "      <td>1</td>\n",
       "    </tr>\n",
       "    <tr>\n",
       "      <th>1</th>\n",
       "      <td>2</td>\n",
       "      <td>Benesov</td>\n",
       "      <td>central Bohemia</td>\n",
       "      <td>88884</td>\n",
       "      <td>5</td>\n",
       "      <td>46.7</td>\n",
       "      <td>8507</td>\n",
       "      <td>132</td>\n",
       "      <td>3.52</td>\n",
       "      <td>4833.0</td>\n",
       "      <td>114</td>\n",
       "    </tr>\n",
       "    <tr>\n",
       "      <th>2</th>\n",
       "      <td>3</td>\n",
       "      <td>Beroun</td>\n",
       "      <td>central Bohemia</td>\n",
       "      <td>75232</td>\n",
       "      <td>5</td>\n",
       "      <td>41.7</td>\n",
       "      <td>8980</td>\n",
       "      <td>111</td>\n",
       "      <td>4.16</td>\n",
       "      <td>5637.0</td>\n",
       "      <td>86</td>\n",
       "    </tr>\n",
       "    <tr>\n",
       "      <th>3</th>\n",
       "      <td>4</td>\n",
       "      <td>Kladno</td>\n",
       "      <td>central Bohemia</td>\n",
       "      <td>149893</td>\n",
       "      <td>6</td>\n",
       "      <td>67.4</td>\n",
       "      <td>9753</td>\n",
       "      <td>109</td>\n",
       "      <td>9.69</td>\n",
       "      <td>11136.0</td>\n",
       "      <td>100</td>\n",
       "    </tr>\n",
       "    <tr>\n",
       "      <th>4</th>\n",
       "      <td>5</td>\n",
       "      <td>Kolin</td>\n",
       "      <td>central Bohemia</td>\n",
       "      <td>95616</td>\n",
       "      <td>6</td>\n",
       "      <td>51.4</td>\n",
       "      <td>9307</td>\n",
       "      <td>118</td>\n",
       "      <td>8.28</td>\n",
       "      <td>5656.0</td>\n",
       "      <td>100</td>\n",
       "    </tr>\n",
       "  </tbody>\n",
       "</table>\n",
       "</div>"
      ],
      "text/plain": [
       "   district_id           A2               A3       A4  A9    A10    A11  A14  \\\n",
       "0            1  Hl.m. Praha           Prague  1204953   1  100.0  12541  167   \n",
       "1            2      Benesov  central Bohemia    88884   5   46.7   8507  132   \n",
       "2            3       Beroun  central Bohemia    75232   5   41.7   8980  111   \n",
       "3            4       Kladno  central Bohemia   149893   6   67.4   9753  109   \n",
       "4            5        Kolin  central Bohemia    95616   6   51.4   9307  118   \n",
       "\n",
       "   Unemployment_Rate  No of Crimes Committed  No of Municipalties  \n",
       "0               0.72                184784.0                    1  \n",
       "1               3.52                  4833.0                  114  \n",
       "2               4.16                  5637.0                   86  \n",
       "3               9.69                 11136.0                  100  \n",
       "4               8.28                  5656.0                  100  "
      ]
     },
     "execution_count": 82,
     "metadata": {},
     "output_type": "execute_result"
    }
   ],
   "source": [
    "demographics.head()"
   ]
  },
  {
   "cell_type": "code",
   "execution_count": 89,
   "metadata": {
    "collapsed": true
   },
   "outputs": [],
   "source": [
    "defaulters_districts=pd.merge(loan_defaulters,demographics,on=\"district_id\")\n",
    "payers_districts=pd.merge(loan_payers,demographics,on=\"district_id\")"
   ]
  },
  {
   "cell_type": "code",
   "execution_count": 84,
   "metadata": {},
   "outputs": [
    {
     "data": {
      "text/html": [
       "<div>\n",
       "<style>\n",
       "    .dataframe thead tr:only-child th {\n",
       "        text-align: right;\n",
       "    }\n",
       "\n",
       "    .dataframe thead th {\n",
       "        text-align: left;\n",
       "    }\n",
       "\n",
       "    .dataframe tbody tr th {\n",
       "        vertical-align: top;\n",
       "    }\n",
       "</style>\n",
       "<table border=\"1\" class=\"dataframe\">\n",
       "  <thead>\n",
       "    <tr style=\"text-align: right;\">\n",
       "      <th></th>\n",
       "      <th>loan_id</th>\n",
       "      <th>account_id</th>\n",
       "      <th>date_x</th>\n",
       "      <th>amount</th>\n",
       "      <th>duration</th>\n",
       "      <th>payments</th>\n",
       "      <th>status</th>\n",
       "      <th>district_id</th>\n",
       "      <th>frequency</th>\n",
       "      <th>date_y</th>\n",
       "      <th>A2</th>\n",
       "      <th>A3</th>\n",
       "      <th>A4</th>\n",
       "      <th>A9</th>\n",
       "      <th>A10</th>\n",
       "      <th>A11</th>\n",
       "      <th>A14</th>\n",
       "      <th>Unemployment_Rate</th>\n",
       "      <th>No of Crimes Committed</th>\n",
       "      <th>No of Municipalties</th>\n",
       "    </tr>\n",
       "  </thead>\n",
       "  <tbody>\n",
       "    <tr>\n",
       "      <th>0</th>\n",
       "      <td>5314</td>\n",
       "      <td>1787</td>\n",
       "      <td>1993-07-05</td>\n",
       "      <td>96396</td>\n",
       "      <td>12</td>\n",
       "      <td>8033.0</td>\n",
       "      <td>B</td>\n",
       "      <td>30</td>\n",
       "      <td>POPLATEK TYDNE</td>\n",
       "      <td>1993-03-22</td>\n",
       "      <td>Sokolov</td>\n",
       "      <td>west Bohemia</td>\n",
       "      <td>94812</td>\n",
       "      <td>10</td>\n",
       "      <td>81.8</td>\n",
       "      <td>9650</td>\n",
       "      <td>100</td>\n",
       "      <td>7.05</td>\n",
       "      <td>5789.0</td>\n",
       "      <td>38</td>\n",
       "    </tr>\n",
       "    <tr>\n",
       "      <th>1</th>\n",
       "      <td>6111</td>\n",
       "      <td>5428</td>\n",
       "      <td>1993-09-24</td>\n",
       "      <td>174744</td>\n",
       "      <td>24</td>\n",
       "      <td>7281.0</td>\n",
       "      <td>B</td>\n",
       "      <td>24</td>\n",
       "      <td>POPLATEK MESICNE</td>\n",
       "      <td>1993-04-14</td>\n",
       "      <td>Karlovy Vary</td>\n",
       "      <td>west Bohemia</td>\n",
       "      <td>122603</td>\n",
       "      <td>8</td>\n",
       "      <td>80.0</td>\n",
       "      <td>8991</td>\n",
       "      <td>128</td>\n",
       "      <td>3.40</td>\n",
       "      <td>10471.0</td>\n",
       "      <td>54</td>\n",
       "    </tr>\n",
       "    <tr>\n",
       "      <th>2</th>\n",
       "      <td>6650</td>\n",
       "      <td>8073</td>\n",
       "      <td>1994-02-17</td>\n",
       "      <td>49320</td>\n",
       "      <td>12</td>\n",
       "      <td>4110.0</td>\n",
       "      <td>B</td>\n",
       "      <td>24</td>\n",
       "      <td>POPLATEK PO OBRATU</td>\n",
       "      <td>1993-09-03</td>\n",
       "      <td>Karlovy Vary</td>\n",
       "      <td>west Bohemia</td>\n",
       "      <td>122603</td>\n",
       "      <td>8</td>\n",
       "      <td>80.0</td>\n",
       "      <td>8991</td>\n",
       "      <td>128</td>\n",
       "      <td>3.40</td>\n",
       "      <td>10471.0</td>\n",
       "      <td>54</td>\n",
       "    </tr>\n",
       "    <tr>\n",
       "      <th>3</th>\n",
       "      <td>6228</td>\n",
       "      <td>6034</td>\n",
       "      <td>1993-12-01</td>\n",
       "      <td>464520</td>\n",
       "      <td>60</td>\n",
       "      <td>7742.0</td>\n",
       "      <td>B</td>\n",
       "      <td>6</td>\n",
       "      <td>POPLATEK TYDNE</td>\n",
       "      <td>1993-03-19</td>\n",
       "      <td>Kutna Hora</td>\n",
       "      <td>central Bohemia</td>\n",
       "      <td>77963</td>\n",
       "      <td>4</td>\n",
       "      <td>51.5</td>\n",
       "      <td>8546</td>\n",
       "      <td>126</td>\n",
       "      <td>6.97</td>\n",
       "      <td>5760.0</td>\n",
       "      <td>89</td>\n",
       "    </tr>\n",
       "    <tr>\n",
       "      <th>4</th>\n",
       "      <td>5338</td>\n",
       "      <td>1888</td>\n",
       "      <td>1997-08-30</td>\n",
       "      <td>57360</td>\n",
       "      <td>12</td>\n",
       "      <td>4780.0</td>\n",
       "      <td>B</td>\n",
       "      <td>6</td>\n",
       "      <td>POPLATEK MESICNE</td>\n",
       "      <td>1996-10-21</td>\n",
       "      <td>Kutna Hora</td>\n",
       "      <td>central Bohemia</td>\n",
       "      <td>77963</td>\n",
       "      <td>4</td>\n",
       "      <td>51.5</td>\n",
       "      <td>8546</td>\n",
       "      <td>126</td>\n",
       "      <td>6.97</td>\n",
       "      <td>5760.0</td>\n",
       "      <td>89</td>\n",
       "    </tr>\n",
       "  </tbody>\n",
       "</table>\n",
       "</div>"
      ],
      "text/plain": [
       "   loan_id  account_id     date_x  amount  duration  payments status  \\\n",
       "0     5314        1787 1993-07-05   96396        12    8033.0      B   \n",
       "1     6111        5428 1993-09-24  174744        24    7281.0      B   \n",
       "2     6650        8073 1994-02-17   49320        12    4110.0      B   \n",
       "3     6228        6034 1993-12-01  464520        60    7742.0      B   \n",
       "4     5338        1888 1997-08-30   57360        12    4780.0      B   \n",
       "\n",
       "   district_id           frequency     date_y            A2               A3  \\\n",
       "0           30      POPLATEK TYDNE 1993-03-22       Sokolov     west Bohemia   \n",
       "1           24    POPLATEK MESICNE 1993-04-14  Karlovy Vary     west Bohemia   \n",
       "2           24  POPLATEK PO OBRATU 1993-09-03  Karlovy Vary     west Bohemia   \n",
       "3            6      POPLATEK TYDNE 1993-03-19    Kutna Hora  central Bohemia   \n",
       "4            6    POPLATEK MESICNE 1996-10-21    Kutna Hora  central Bohemia   \n",
       "\n",
       "       A4  A9   A10   A11  A14  Unemployment_Rate  No of Crimes Committed  \\\n",
       "0   94812  10  81.8  9650  100               7.05                  5789.0   \n",
       "1  122603   8  80.0  8991  128               3.40                 10471.0   \n",
       "2  122603   8  80.0  8991  128               3.40                 10471.0   \n",
       "3   77963   4  51.5  8546  126               6.97                  5760.0   \n",
       "4   77963   4  51.5  8546  126               6.97                  5760.0   \n",
       "\n",
       "   No of Municipalties  \n",
       "0                   38  \n",
       "1                   54  \n",
       "2                   54  \n",
       "3                   89  \n",
       "4                   89  "
      ]
     },
     "execution_count": 84,
     "metadata": {},
     "output_type": "execute_result"
    }
   ],
   "source": [
    "defaulters_districts.head()"
   ]
  },
  {
   "cell_type": "code",
   "execution_count": 85,
   "metadata": {},
   "outputs": [
    {
     "data": {
      "text/plain": [
       "(31, 20)"
      ]
     },
     "execution_count": 85,
     "metadata": {},
     "output_type": "execute_result"
    }
   ],
   "source": [
    "defaulters_districts.shape"
   ]
  },
  {
   "cell_type": "code",
   "execution_count": 92,
   "metadata": {},
   "outputs": [
    {
     "data": {
      "text/plain": [
       "(203, 20)"
      ]
     },
     "execution_count": 92,
     "metadata": {},
     "output_type": "execute_result"
    }
   ],
   "source": [
    "payers_districts.shape"
   ]
  },
  {
   "cell_type": "code",
   "execution_count": 109,
   "metadata": {},
   "outputs": [
    {
     "data": {
      "text/html": [
       "<div>\n",
       "<style>\n",
       "    .dataframe thead tr:only-child th {\n",
       "        text-align: right;\n",
       "    }\n",
       "\n",
       "    .dataframe thead th {\n",
       "        text-align: left;\n",
       "    }\n",
       "\n",
       "    .dataframe tbody tr th {\n",
       "        vertical-align: top;\n",
       "    }\n",
       "</style>\n",
       "<table border=\"1\" class=\"dataframe\">\n",
       "  <thead>\n",
       "    <tr style=\"text-align: right;\">\n",
       "      <th></th>\n",
       "      <th>loan_id</th>\n",
       "      <th>account_id</th>\n",
       "      <th>date_x</th>\n",
       "      <th>amount</th>\n",
       "      <th>duration</th>\n",
       "      <th>payments</th>\n",
       "      <th>status</th>\n",
       "      <th>district_id</th>\n",
       "      <th>frequency</th>\n",
       "      <th>date_y</th>\n",
       "      <th>A2</th>\n",
       "      <th>A3</th>\n",
       "      <th>A4</th>\n",
       "      <th>A9</th>\n",
       "      <th>A10</th>\n",
       "      <th>A11</th>\n",
       "      <th>A14</th>\n",
       "      <th>Unemployment_Rate</th>\n",
       "      <th>No of Crimes Committed</th>\n",
       "      <th>No of Municipalties</th>\n",
       "    </tr>\n",
       "  </thead>\n",
       "  <tbody>\n",
       "    <tr>\n",
       "      <th>0</th>\n",
       "      <td>5314</td>\n",
       "      <td>1787</td>\n",
       "      <td>1993-07-05</td>\n",
       "      <td>96396</td>\n",
       "      <td>12</td>\n",
       "      <td>8033.0</td>\n",
       "      <td>B</td>\n",
       "      <td>30</td>\n",
       "      <td>POPLATEK TYDNE</td>\n",
       "      <td>1993-03-22</td>\n",
       "      <td>Sokolov</td>\n",
       "      <td>west Bohemia</td>\n",
       "      <td>94812</td>\n",
       "      <td>10</td>\n",
       "      <td>81.8</td>\n",
       "      <td>9650</td>\n",
       "      <td>100</td>\n",
       "      <td>7.05</td>\n",
       "      <td>5789.0</td>\n",
       "      <td>38</td>\n",
       "    </tr>\n",
       "    <tr>\n",
       "      <th>1</th>\n",
       "      <td>6111</td>\n",
       "      <td>5428</td>\n",
       "      <td>1993-09-24</td>\n",
       "      <td>174744</td>\n",
       "      <td>24</td>\n",
       "      <td>7281.0</td>\n",
       "      <td>B</td>\n",
       "      <td>24</td>\n",
       "      <td>POPLATEK MESICNE</td>\n",
       "      <td>1993-04-14</td>\n",
       "      <td>Karlovy Vary</td>\n",
       "      <td>west Bohemia</td>\n",
       "      <td>122603</td>\n",
       "      <td>8</td>\n",
       "      <td>80.0</td>\n",
       "      <td>8991</td>\n",
       "      <td>128</td>\n",
       "      <td>3.40</td>\n",
       "      <td>10471.0</td>\n",
       "      <td>54</td>\n",
       "    </tr>\n",
       "    <tr>\n",
       "      <th>2</th>\n",
       "      <td>6650</td>\n",
       "      <td>8073</td>\n",
       "      <td>1994-02-17</td>\n",
       "      <td>49320</td>\n",
       "      <td>12</td>\n",
       "      <td>4110.0</td>\n",
       "      <td>B</td>\n",
       "      <td>24</td>\n",
       "      <td>POPLATEK PO OBRATU</td>\n",
       "      <td>1993-09-03</td>\n",
       "      <td>Karlovy Vary</td>\n",
       "      <td>west Bohemia</td>\n",
       "      <td>122603</td>\n",
       "      <td>8</td>\n",
       "      <td>80.0</td>\n",
       "      <td>8991</td>\n",
       "      <td>128</td>\n",
       "      <td>3.40</td>\n",
       "      <td>10471.0</td>\n",
       "      <td>54</td>\n",
       "    </tr>\n",
       "    <tr>\n",
       "      <th>3</th>\n",
       "      <td>6228</td>\n",
       "      <td>6034</td>\n",
       "      <td>1993-12-01</td>\n",
       "      <td>464520</td>\n",
       "      <td>60</td>\n",
       "      <td>7742.0</td>\n",
       "      <td>B</td>\n",
       "      <td>6</td>\n",
       "      <td>POPLATEK TYDNE</td>\n",
       "      <td>1993-03-19</td>\n",
       "      <td>Kutna Hora</td>\n",
       "      <td>central Bohemia</td>\n",
       "      <td>77963</td>\n",
       "      <td>4</td>\n",
       "      <td>51.5</td>\n",
       "      <td>8546</td>\n",
       "      <td>126</td>\n",
       "      <td>6.97</td>\n",
       "      <td>5760.0</td>\n",
       "      <td>89</td>\n",
       "    </tr>\n",
       "    <tr>\n",
       "      <th>4</th>\n",
       "      <td>5338</td>\n",
       "      <td>1888</td>\n",
       "      <td>1997-08-30</td>\n",
       "      <td>57360</td>\n",
       "      <td>12</td>\n",
       "      <td>4780.0</td>\n",
       "      <td>B</td>\n",
       "      <td>6</td>\n",
       "      <td>POPLATEK MESICNE</td>\n",
       "      <td>1996-10-21</td>\n",
       "      <td>Kutna Hora</td>\n",
       "      <td>central Bohemia</td>\n",
       "      <td>77963</td>\n",
       "      <td>4</td>\n",
       "      <td>51.5</td>\n",
       "      <td>8546</td>\n",
       "      <td>126</td>\n",
       "      <td>6.97</td>\n",
       "      <td>5760.0</td>\n",
       "      <td>89</td>\n",
       "    </tr>\n",
       "  </tbody>\n",
       "</table>\n",
       "</div>"
      ],
      "text/plain": [
       "   loan_id  account_id     date_x  amount  duration  payments status  \\\n",
       "0     5314        1787 1993-07-05   96396        12    8033.0      B   \n",
       "1     6111        5428 1993-09-24  174744        24    7281.0      B   \n",
       "2     6650        8073 1994-02-17   49320        12    4110.0      B   \n",
       "3     6228        6034 1993-12-01  464520        60    7742.0      B   \n",
       "4     5338        1888 1997-08-30   57360        12    4780.0      B   \n",
       "\n",
       "   district_id           frequency     date_y            A2               A3  \\\n",
       "0           30      POPLATEK TYDNE 1993-03-22       Sokolov     west Bohemia   \n",
       "1           24    POPLATEK MESICNE 1993-04-14  Karlovy Vary     west Bohemia   \n",
       "2           24  POPLATEK PO OBRATU 1993-09-03  Karlovy Vary     west Bohemia   \n",
       "3            6      POPLATEK TYDNE 1993-03-19    Kutna Hora  central Bohemia   \n",
       "4            6    POPLATEK MESICNE 1996-10-21    Kutna Hora  central Bohemia   \n",
       "\n",
       "       A4  A9   A10   A11  A14  Unemployment_Rate  No of Crimes Committed  \\\n",
       "0   94812  10  81.8  9650  100               7.05                  5789.0   \n",
       "1  122603   8  80.0  8991  128               3.40                 10471.0   \n",
       "2  122603   8  80.0  8991  128               3.40                 10471.0   \n",
       "3   77963   4  51.5  8546  126               6.97                  5760.0   \n",
       "4   77963   4  51.5  8546  126               6.97                  5760.0   \n",
       "\n",
       "   No of Municipalties  \n",
       "0                   38  \n",
       "1                   54  \n",
       "2                   54  \n",
       "3                   89  \n",
       "4                   89  "
      ]
     },
     "execution_count": 109,
     "metadata": {},
     "output_type": "execute_result"
    }
   ],
   "source": [
    "defaulters_districts.head()"
   ]
  },
  {
   "cell_type": "code",
   "execution_count": 111,
   "metadata": {},
   "outputs": [
    {
     "name": "stdout",
     "output_type": "stream",
     "text": [
      "No of Inhabitants,Loan Defaulters mean:246433.4193548387 and Loan Payers Mean:316102.28571428574\n"
     ]
    }
   ],
   "source": [
    "print(\"No of Inhabitants,Loan Defaulters mean:{} and Loan Payers Mean:{}\".format(defaulters_districts[\"A4\"].mean(),payers_districts[\"A4\"].mean()))"
   ]
  },
  {
   "cell_type": "code",
   "execution_count": 112,
   "metadata": {},
   "outputs": [
    {
     "name": "stdout",
     "output_type": "stream",
     "text": [
      "No of Municipalities,Loan Defaulters mean:66.06451612903226 and Loan Payers Mean:65.02463054187191\n"
     ]
    }
   ],
   "source": [
    "print(\"No of Municipalities,Loan Defaulters mean:{} and Loan Payers Mean:{}\".format(defaulters_districts[\"No of Municipalties\"].mean(),payers_districts[\"No of Municipalties\"].mean()))"
   ]
  },
  {
   "cell_type": "code",
   "execution_count": 113,
   "metadata": {},
   "outputs": [
    {
     "name": "stdout",
     "output_type": "stream",
     "text": [
      "No of Cities,Loan Defaulters mean:4.67741935483871 and Loan Payers Mean:5.197044334975369\n"
     ]
    }
   ],
   "source": [
    "print(\"No of Cities,Loan Defaulters mean:{} and Loan Payers Mean:{}\".format(defaulters_districts[\"A9\"].mean(),payers_districts[\"A9\"].mean()))"
   ]
  },
  {
   "cell_type": "code",
   "execution_count": 114,
   "metadata": {},
   "outputs": [
    {
     "name": "stdout",
     "output_type": "stream",
     "text": [
      "Ration of Urban Inhabitants,Loan Defaulters mean:68.4709677419355 and Loan Payers Mean:69.42758620689649\n"
     ]
    }
   ],
   "source": [
    "print(\"Ration of Urban Inhabitants,Loan Defaulters mean:{} and Loan Payers Mean:{}\".format(defaulters_districts[\"A10\"].mean(),payers_districts[\"A10\"].mean()))"
   ]
  },
  {
   "cell_type": "code",
   "execution_count": 115,
   "metadata": {},
   "outputs": [
    {
     "name": "stdout",
     "output_type": "stream",
     "text": [
      "Average Salary,Loan Defaulters mean:9432.129032258064 and Loan Payers Mean:9685.679802955665\n"
     ]
    }
   ],
   "source": [
    "print(\"Average Salary,Loan Defaulters mean:{} and Loan Payers Mean:{}\".format(defaulters_districts[\"A11\"].mean(),payers_districts[\"A11\"].mean()))"
   ]
  },
  {
   "cell_type": "code",
   "execution_count": 117,
   "metadata": {},
   "outputs": [
    {
     "name": "stdout",
     "output_type": "stream",
     "text": [
      "No of Entreprenuers,Loan Defaulters mean:121.74193548387096 and Loan Payers Mean:123.1871921182266\n"
     ]
    }
   ],
   "source": [
    "print(\"No of Entreprenuers,Loan Defaulters mean:{} and Loan Payers Mean:{}\".format(defaulters_districts[\"A14\"].mean(),payers_districts[\"A14\"].mean()))"
   ]
  },
  {
   "cell_type": "code",
   "execution_count": 118,
   "metadata": {},
   "outputs": [
    {
     "name": "stdout",
     "output_type": "stream",
     "text": [
      "Unemployment Rate,Loan Defaulters mean:6.496774193548388 and Loan Payers Mean:6.401225045372043\n"
     ]
    }
   ],
   "source": [
    "print(\"Unemployment Rate,Loan Defaulters mean:{} and Loan Payers Mean:{}\".format(defaulters_districts[\"Unemployment_Rate\"].mean(),payers_districts[\"Unemployment_Rate\"].mean()))"
   ]
  },
  {
   "cell_type": "code",
   "execution_count": 120,
   "metadata": {},
   "outputs": [
    {
     "name": "stdout",
     "output_type": "stream",
     "text": [
      "No of Crimes Commited,Loan Defaulters mean:27758.967741935485 and Loan Payers Mean:38584.66813585688\n"
     ]
    }
   ],
   "source": [
    "print(\"No of Crimes Commited,Loan Defaulters mean:{} and Loan Payers Mean:{}\".format(defaulters_districts[\"No of Crimes Committed\"].mean(),payers_districts[\"No of Crimes Committed\"].mean()))"
   ]
  },
  {
   "cell_type": "markdown",
   "metadata": {},
   "source": [
    "### Insights\n",
    "Loan defaulters:\n",
    "1).They are from districts having more Unemployment Rate\n",
    "2).They are from districts having less Entreprenuers\n",
    "3).They are from districts having less Average salary\n",
    "4).They are from districts having less urban inhabitants\n",
    "5).They are from districts having more municipalities and less cities and less inhabitants\n",
    "\n",
    "However,These factors slightly influence loan defaulters"
   ]
  },
  {
   "cell_type": "markdown",
   "metadata": {},
   "source": [
    "# Derived table of Transactions\n",
    "\n",
    "We can see that transactions table contains lakhs of transactions which will become huge when joined with other tables.\n",
    "So we have to derive meaningful features from Transactions table.\n",
    "Entire table are classified into \n",
    "### Debit transactions:\n",
    " 'VYBER' stands for Withdrawal in Cash\n",
    " 'VYBER KARTOU' stands for Credit Card Withdrawal\n",
    " 'PREVOD NA UCET' stands for Remittance to Another Bank\n",
    " 'SIPO' stands for Household Payment\n",
    " 'SLUZBY' stands for Payment of Statement\n",
    " 'POJISTNE' stands for Insurance Payment\n",
    " 'SANKC. UROK' stands for Sanction Interest if Negative Balance\n",
    " 'UVER' stands for Loan Payment\n",
    " \n",
    " ### credit Transactions:\n",
    " 'VKLAD' stands for Credit in Cash\n",
    " 'PREVOD Z UCTU' stands for Collection from Another Bank\n",
    " 'DUCHOD' stands for Old-age Pension Payment\n",
    " 'UROK' stands for Interest Credited\n",
    " \n",
    " So we can derive meaningful features such as Total Debited Amount,Total Credited Amount,Average Debit Balance,Average Credit Balance and Total payments.\n",
    " \n",
    "If there are high debits than credits,then there is high chance he cannot repay the loan.\n",
    "If there are high loan payments,then there is high chance that he can repay the loan.\n"
   ]
  },
  {
   "cell_type": "markdown",
   "metadata": {},
   "source": [
    "## Base Table\n",
    "\n",
    "This is the table which contains all columns used for classifition or prediction\n",
    "This table is obtained by joining all tables\n",
    "1). account\n",
    "2). clients\n",
    "3). loans\n",
    "4). credit\n",
    "5). demographics\n",
    "6). order\n",
    "7). trans_transformed(Derived Table)\n",
    "\n",
    "By Joining all tables,we get the base table that is \"cleaned_data.csv\"\n",
    "\n",
    "We are going to apply the model and classify the loan defaulters using this dataset"
   ]
  },
  {
   "cell_type": "markdown",
   "metadata": {},
   "source": [
    "# Chapter 2\n",
    "\n",
    "# Pre-Processing\n",
    "\n",
    "## 2.1 Missing Value Analysis:\n",
    "\n",
    "Let's Check the Missing Values."
   ]
  },
  {
   "cell_type": "code",
   "execution_count": 4,
   "metadata": {
    "collapsed": true
   },
   "outputs": [],
   "source": [
    "data=pd.read_csv(\"C:/Users/mudmoham/Documents/pr/Banking_Case_Study/cleaned_data.csv\",parse_dates=[\"Account Creation Date\",\"birth_number\",\"loan grant date\",\"card issued date\"])"
   ]
  },
  {
   "cell_type": "code",
   "execution_count": 5,
   "metadata": {},
   "outputs": [
    {
     "data": {
      "text/plain": [
       "account_id                0\n",
       "district_id_x             0\n",
       "frequency                 0\n",
       "Account Creation Date     0\n",
       "disp_id                   0\n",
       "client_id                 0\n",
       "Disposition_Type          0\n",
       "birth_number              0\n",
       "district_id               0\n",
       "Gender                    0\n",
       "loan_id                   0\n",
       "loan grant date           0\n",
       "loan amount               0\n",
       "loan duration             0\n",
       "loan monthly payments     0\n",
       "status                    0\n",
       "card_id                   0\n",
       "card type                 0\n",
       "card issued date          0\n",
       "district name             0\n",
       "Region                    0\n",
       "no of inhabitants         0\n",
       "no of cities              0\n",
       "urban ratio               0\n",
       "average salary            0\n",
       "Enterprenuers per 1000    0\n",
       "Unemployment_Rate         0\n",
       "No of Crimes Committed    0\n",
       "No of Municipalties       0\n",
       "order_id                  0\n",
       "Recepient Bank            0\n",
       "Recepient Account         0\n",
       "order debited amount      0\n",
       " order payment type       0\n",
       "Total Credited Amount     0\n",
       "Average Credit Balance    0\n",
       "Total Debited Amount      0\n",
       "Average debit Balance     0\n",
       "Total loan Payments       0\n",
       "dtype: int64"
      ]
     },
     "execution_count": 5,
     "metadata": {},
     "output_type": "execute_result"
    }
   ],
   "source": [
    "pd.isnull(data).sum()"
   ]
  },
  {
   "cell_type": "markdown",
   "metadata": {},
   "source": [
    "There are no missing values.Hence we can proceed with next step"
   ]
  },
  {
   "cell_type": "markdown",
   "metadata": {},
   "source": [
    "## 2.2 Outlier Analysis\n",
    "\n",
    "Let's check the ouliers"
   ]
  },
  {
   "cell_type": "code",
   "execution_count": 7,
   "metadata": {},
   "outputs": [
    {
     "data": {
      "text/plain": [
       "<matplotlib.axes._subplots.AxesSubplot at 0x1a3519579e8>"
      ]
     },
     "execution_count": 7,
     "metadata": {},
     "output_type": "execute_result"
    },
    {
     "data": {
      "image/png": "[encoded data removed]",
      "text/plain": [
       "<matplotlib.figure.Figure at 0x1a351952b38>"
      ]
     },
     "metadata": {},
     "output_type": "display_data"
    }
   ],
   "source": [
    "plt.figure(figsize=(20,10))\n",
    "data[[\"no of inhabitants\",\"average salary\",\"No of Crimes Committed\", \"order debited amount\", \"Total Credited Amount\",\"Total Debited Amount\", \"Total loan Payments\"]].boxplot()"
   ]
  },
  {
   "cell_type": "markdown",
   "metadata": {},
   "source": [
    "### Replacing Outliers with the help of KNNImputation\n",
    "\n",
    "We have to replace the outliers with unknown values and then we have to impute the those missing values with the help of KNNImputation.\n",
    "\n",
    "### Before Outlier Analysis:"
   ]
  },
  {
   "cell_type": "code",
   "execution_count": 9,
   "metadata": {},
   "outputs": [
    {
     "data": {
      "text/plain": [
       "account_id                 0\n",
       "district_id_x              0\n",
       "disp_id                    0\n",
       "client_id                  0\n",
       "district_id                0\n",
       "loan_id                    0\n",
       "loan amount                9\n",
       "loan duration              0\n",
       "loan monthly payments      0\n",
       "card_id                    0\n",
       "no of inhabitants         45\n",
       "no of cities               0\n",
       "urban ratio                0\n",
       "average salary            45\n",
       "Enterprenuers per 1000     0\n",
       "Unemployment_Rate          0\n",
       "No of Crimes Committed    69\n",
       "No of Municipalties        0\n",
       "order_id                   0\n",
       "Recepient Account          0\n",
       "order debited amount       2\n",
       "Total Credited Amount     11\n",
       "Average Credit Balance     0\n",
       "Total Debited Amount       7\n",
       "Average debit Balance      0\n",
       "Total loan Payments       20\n",
       "dtype: int64"
      ]
     },
     "execution_count": 9,
     "metadata": {},
     "output_type": "execute_result"
    }
   ],
   "source": [
    "pd.isnull(con_data).sum()"
   ]
  },
  {
   "cell_type": "markdown",
   "metadata": {},
   "source": [
    "### After Outlier Analysis:\n",
    "\n",
    "We have Imputed outliers with KNNImputation and we can below there are no more outliers"
   ]
  },
  {
   "cell_type": "code",
   "execution_count": 13,
   "metadata": {},
   "outputs": [
    {
     "name": "stdout",
     "output_type": "stream",
     "text": [
      "Imputing row 1/354 with 0 missing, elapsed time: 0.065\n",
      "Imputing row 101/354 with 3 missing, elapsed time: 0.069\n",
      "Imputing row 201/354 with 0 missing, elapsed time: 0.072\n",
      "Imputing row 301/354 with 0 missing, elapsed time: 0.073\n"
     ]
    },
    {
     "data": {
      "text/plain": [
       "account_id                0\n",
       "district_id_x             0\n",
       "disp_id                   0\n",
       "client_id                 0\n",
       "district_id               0\n",
       "loan_id                   0\n",
       "loan amount               0\n",
       "loan duration             0\n",
       "loan monthly payments     0\n",
       "card_id                   0\n",
       "no of inhabitants         0\n",
       "no of cities              0\n",
       "urban ratio               0\n",
       "average salary            0\n",
       "Enterprenuers per 1000    0\n",
       "Unemployment_Rate         0\n",
       "No of Crimes Committed    0\n",
       "No of Municipalties       0\n",
       "order_id                  0\n",
       "Recepient Account         0\n",
       "order debited amount      0\n",
       "Total Credited Amount     0\n",
       "Average Credit Balance    0\n",
       "Total Debited Amount      0\n",
       "Average debit Balance     0\n",
       "Total loan Payments       0\n",
       "dtype: int64"
      ]
     },
     "execution_count": 13,
     "metadata": {},
     "output_type": "execute_result"
    }
   ],
   "source": [
    "con_data=pd.DataFrame(KNN(k=3).complete(con_data),columns=con_data.columns)\n",
    "pd.isnull(con_data).sum()"
   ]
  },
  {
   "cell_type": "markdown",
   "metadata": {},
   "source": [
    "## 2.3 Feature Selection\n",
    "\n",
    "### Correlation Analysis for continous Variables\n"
   ]
  },
  {
   "cell_type": "code",
   "execution_count": 16,
   "metadata": {},
   "outputs": [
    {
     "data": {
      "text/plain": [
       "<matplotlib.axes._subplots.AxesSubplot at 0x1a355c07ac8>"
      ]
     },
     "execution_count": 16,
     "metadata": {},
     "output_type": "execute_result"
    },
    {
     "data": {
      "image/png": "[encoded data removed]",
      "text/plain": [
       "<matplotlib.figure.Figure at 0x1a355c069e8>"
      ]
     },
     "metadata": {},
     "output_type": "display_data"
    }
   ],
   "source": [
    "corr=bank_data.corr()\n",
    "plt.figure(figsize=(20,10))\n",
    "sns.heatmap(corr,cmap=sns.diverging_palette(220,10,as_cmap=True),mask=np.zeros_like(corr,dtype=np.bool))"
   ]
  },
  {
   "cell_type": "markdown",
   "metadata": {},
   "source": [
    "We can see that \n",
    "\"urban Ratio\" and  \"No of municipalities\": highly negatively correlated\n",
    "\"Total Credited Amount\" and \"Total Debited Amount\": highly positively correlated\n",
    "\"Average Credit Balance\" and \"Average Debit Balance\": highly positively correlated\n",
    "\n",
    "so we can drop one from each pair."
   ]
  },
  {
   "cell_type": "markdown",
   "metadata": {},
   "source": [
    "### Chi-Square Test of Independence for Categorical Variables:"
   ]
  },
  {
   "cell_type": "code",
   "execution_count": 19,
   "metadata": {},
   "outputs": [
    {
     "name": "stdout",
     "output_type": "stream",
     "text": [
      "frequency\n",
      "0.675225904113\n",
      "Disposition_Type\n",
      "1.0\n",
      "Gender\n",
      "0.251385926029\n",
      "card type\n",
      "0.000599083759714\n",
      "district name\n",
      "1.49627223994e-17\n",
      "Region\n",
      "0.00564687871183\n",
      "Recepient Bank\n",
      "0.185564700827\n",
      " order payment type\n",
      "0.399559805784\n"
     ]
    }
   ],
   "source": [
    "for col in bank_data.columns:\n",
    "\tif \t(bank_data[col].dtype==np.object) & (col!=\"status\"):\n",
    "\t\tchi2,p,dof,expected=chi2_contingency(pd.crosstab(bank_data[\"status\"],bank_data[col]))\n",
    "\t\tprint(col)\n",
    "\t\tprint(p)"
   ]
  },
  {
   "cell_type": "markdown",
   "metadata": {},
   "source": [
    "we can delete those variables whose p value is greater than 0.05(critical value)\n",
    "so we can delete the following variables:\n",
    "frequency\n",
    "Disposition_Type\n",
    "Gender\n",
    "Recepient Bank\n",
    "order payment type"
   ]
  },
  {
   "cell_type": "markdown",
   "metadata": {},
   "source": [
    "## 2.4 Feature Scaling\n",
    "\n",
    "Before Scaling the variables,Let's check the normal distribution of the data"
   ]
  },
  {
   "cell_type": "code",
   "execution_count": 32,
   "metadata": {},
   "outputs": [
    {
     "name": "stdout",
     "output_type": "stream",
     "text": [
      "[[<matplotlib.axes._subplots.AxesSubplot object at 0x000001A35A1394E0>\n",
      "  <matplotlib.axes._subplots.AxesSubplot object at 0x000001A35C8EBA20>\n",
      "  <matplotlib.axes._subplots.AxesSubplot object at 0x000001A35A8B19B0>\n",
      "  <matplotlib.axes._subplots.AxesSubplot object at 0x000001A35A8EFA90>]\n",
      " [<matplotlib.axes._subplots.AxesSubplot object at 0x000001A35B8EAD30>\n",
      "  <matplotlib.axes._subplots.AxesSubplot object at 0x000001A35B8EAD68>\n",
      "  <matplotlib.axes._subplots.AxesSubplot object at 0x000001A35B95BFD0>\n",
      "  <matplotlib.axes._subplots.AxesSubplot object at 0x000001A35B990EF0>]\n",
      " [<matplotlib.axes._subplots.AxesSubplot object at 0x000001A35B96C860>\n",
      "  <matplotlib.axes._subplots.AxesSubplot object at 0x000001A35B9FEB70>\n",
      "  <matplotlib.axes._subplots.AxesSubplot object at 0x000001A35BA37B70>\n",
      "  <matplotlib.axes._subplots.AxesSubplot object at 0x000001A35BA70BE0>]\n",
      " [<matplotlib.axes._subplots.AxesSubplot object at 0x000001A35BAA9C50>\n",
      "  <matplotlib.axes._subplots.AxesSubplot object at 0x000001A35BADE1D0>\n",
      "  <matplotlib.axes._subplots.AxesSubplot object at 0x000001A35BB17710>\n",
      "  <matplotlib.axes._subplots.AxesSubplot object at 0x000001A35BB4E780>]]\n"
     ]
    },
    {
     "data": {
      "image/png": "[encoded data removed]",
      "text/plain": [
       "<matplotlib.figure.Figure at 0x1a359e3a518>"
      ]
     },
     "metadata": {},
     "output_type": "display_data"
    }
   ],
   "source": [
    "fig=plt.figure(figsize=(50,50))\n",
    "ax=fig.gca()\n",
    "print(bank_data.hist(ax=ax))"
   ]
  },
  {
   "cell_type": "markdown",
   "metadata": {},
   "source": [
    "we can see that most of the variables are not normally distributed.\n",
    "Hence we scale the variables using \"Normalization\" method.\n",
    "\n",
    "we can see below we have scaled all variables in the range of (0,1)"
   ]
  },
  {
   "cell_type": "code",
   "execution_count": 33,
   "metadata": {
    "collapsed": true
   },
   "outputs": [],
   "source": [
    "for col in bank_data.columns:\n",
    "\tif bank_data[col].dtype==np.object:\n",
    "\t\tbank_data[col]=pd.Categorical(bank_data[col])\n",
    "\t\tbank_data[col]=bank_data[col].cat.codes\t"
   ]
  },
  {
   "cell_type": "code",
   "execution_count": 37,
   "metadata": {},
   "outputs": [
    {
     "data": {
      "text/html": [
       "<div>\n",
       "<style>\n",
       "    .dataframe thead tr:only-child th {\n",
       "        text-align: right;\n",
       "    }\n",
       "\n",
       "    .dataframe thead th {\n",
       "        text-align: left;\n",
       "    }\n",
       "\n",
       "    .dataframe tbody tr th {\n",
       "        vertical-align: top;\n",
       "    }\n",
       "</style>\n",
       "<table border=\"1\" class=\"dataframe\">\n",
       "  <thead>\n",
       "    <tr style=\"text-align: right;\">\n",
       "      <th></th>\n",
       "      <th>status</th>\n",
       "      <th>card type</th>\n",
       "      <th>district name</th>\n",
       "      <th>Region</th>\n",
       "      <th>loan amount</th>\n",
       "      <th>loan duration</th>\n",
       "      <th>loan monthly payments</th>\n",
       "      <th>no of inhabitants</th>\n",
       "      <th>no of cities</th>\n",
       "      <th>urban ratio</th>\n",
       "      <th>average salary</th>\n",
       "      <th>Enterprenuers per 1000</th>\n",
       "      <th>Unemployment_Rate</th>\n",
       "      <th>No of Crimes Committed</th>\n",
       "      <th>order debited amount</th>\n",
       "      <th>Total Debited Amount</th>\n",
       "      <th>Average debit Balance</th>\n",
       "      <th>Total loan Payments</th>\n",
       "    </tr>\n",
       "  </thead>\n",
       "  <tbody>\n",
       "    <tr>\n",
       "      <th>0</th>\n",
       "      <td>0.000000</td>\n",
       "      <td>0.5</td>\n",
       "      <td>0.016393</td>\n",
       "      <td>0.142857</td>\n",
       "      <td>0.128882</td>\n",
       "      <td>0.00</td>\n",
       "      <td>0.533444</td>\n",
       "      <td>0.094013</td>\n",
       "      <td>0.4</td>\n",
       "      <td>0.118003</td>\n",
       "      <td>0.259987</td>\n",
       "      <td>0.348837</td>\n",
       "      <td>0.214732</td>\n",
       "      <td>0.215044</td>\n",
       "      <td>0.425772</td>\n",
       "      <td>0.844326</td>\n",
       "      <td>0.856898</td>\n",
       "      <td>0.322641</td>\n",
       "    </tr>\n",
       "    <tr>\n",
       "      <th>1</th>\n",
       "      <td>0.000000</td>\n",
       "      <td>0.0</td>\n",
       "      <td>0.081967</td>\n",
       "      <td>0.714286</td>\n",
       "      <td>0.228326</td>\n",
       "      <td>0.50</td>\n",
       "      <td>0.273703</td>\n",
       "      <td>0.391198</td>\n",
       "      <td>0.8</td>\n",
       "      <td>0.618759</td>\n",
       "      <td>0.603093</td>\n",
       "      <td>0.627907</td>\n",
       "      <td>0.150437</td>\n",
       "      <td>0.612309</td>\n",
       "      <td>0.230257</td>\n",
       "      <td>0.406111</td>\n",
       "      <td>0.148711</td>\n",
       "      <td>0.536293</td>\n",
       "    </tr>\n",
       "    <tr>\n",
       "      <th>2</th>\n",
       "      <td>0.000000</td>\n",
       "      <td>0.0</td>\n",
       "      <td>0.081967</td>\n",
       "      <td>0.714286</td>\n",
       "      <td>0.228326</td>\n",
       "      <td>0.50</td>\n",
       "      <td>0.273703</td>\n",
       "      <td>0.391198</td>\n",
       "      <td>0.8</td>\n",
       "      <td>0.618759</td>\n",
       "      <td>0.603093</td>\n",
       "      <td>0.627907</td>\n",
       "      <td>0.150437</td>\n",
       "      <td>0.612309</td>\n",
       "      <td>0.548220</td>\n",
       "      <td>0.406111</td>\n",
       "      <td>0.148711</td>\n",
       "      <td>0.536293</td>\n",
       "    </tr>\n",
       "    <tr>\n",
       "      <th>3</th>\n",
       "      <td>0.000000</td>\n",
       "      <td>0.0</td>\n",
       "      <td>0.081967</td>\n",
       "      <td>0.714286</td>\n",
       "      <td>0.255795</td>\n",
       "      <td>0.25</td>\n",
       "      <td>0.475516</td>\n",
       "      <td>0.391198</td>\n",
       "      <td>0.8</td>\n",
       "      <td>0.618759</td>\n",
       "      <td>0.603093</td>\n",
       "      <td>0.627907</td>\n",
       "      <td>0.150437</td>\n",
       "      <td>0.612309</td>\n",
       "      <td>0.382139</td>\n",
       "      <td>0.664430</td>\n",
       "      <td>0.718957</td>\n",
       "      <td>0.595360</td>\n",
       "    </tr>\n",
       "    <tr>\n",
       "      <th>4</th>\n",
       "      <td>0.666667</td>\n",
       "      <td>0.0</td>\n",
       "      <td>0.081967</td>\n",
       "      <td>0.714286</td>\n",
       "      <td>0.392873</td>\n",
       "      <td>0.50</td>\n",
       "      <td>0.468223</td>\n",
       "      <td>0.391198</td>\n",
       "      <td>0.8</td>\n",
       "      <td>0.618759</td>\n",
       "      <td>0.603093</td>\n",
       "      <td>0.627907</td>\n",
       "      <td>0.150437</td>\n",
       "      <td>0.612309</td>\n",
       "      <td>0.376705</td>\n",
       "      <td>0.508955</td>\n",
       "      <td>0.572809</td>\n",
       "      <td>0.763639</td>\n",
       "    </tr>\n",
       "  </tbody>\n",
       "</table>\n",
       "</div>"
      ],
      "text/plain": [
       "     status  card type  district name    Region  loan amount  loan duration  \\\n",
       "0  0.000000        0.5       0.016393  0.142857     0.128882           0.00   \n",
       "1  0.000000        0.0       0.081967  0.714286     0.228326           0.50   \n",
       "2  0.000000        0.0       0.081967  0.714286     0.228326           0.50   \n",
       "3  0.000000        0.0       0.081967  0.714286     0.255795           0.25   \n",
       "4  0.666667        0.0       0.081967  0.714286     0.392873           0.50   \n",
       "\n",
       "   loan monthly payments  no of inhabitants  no of cities  urban ratio  \\\n",
       "0               0.533444           0.094013           0.4     0.118003   \n",
       "1               0.273703           0.391198           0.8     0.618759   \n",
       "2               0.273703           0.391198           0.8     0.618759   \n",
       "3               0.475516           0.391198           0.8     0.618759   \n",
       "4               0.468223           0.391198           0.8     0.618759   \n",
       "\n",
       "   average salary  Enterprenuers per 1000  Unemployment_Rate  \\\n",
       "0        0.259987                0.348837           0.214732   \n",
       "1        0.603093                0.627907           0.150437   \n",
       "2        0.603093                0.627907           0.150437   \n",
       "3        0.603093                0.627907           0.150437   \n",
       "4        0.603093                0.627907           0.150437   \n",
       "\n",
       "   No of Crimes Committed  order debited amount  Total Debited Amount  \\\n",
       "0                0.215044              0.425772              0.844326   \n",
       "1                0.612309              0.230257              0.406111   \n",
       "2                0.612309              0.548220              0.406111   \n",
       "3                0.612309              0.382139              0.664430   \n",
       "4                0.612309              0.376705              0.508955   \n",
       "\n",
       "   Average debit Balance  Total loan Payments  \n",
       "0               0.856898             0.322641  \n",
       "1               0.148711             0.536293  \n",
       "2               0.148711             0.536293  \n",
       "3               0.718957             0.595360  \n",
       "4               0.572809             0.763639  "
      ]
     },
     "execution_count": 37,
     "metadata": {},
     "output_type": "execute_result"
    }
   ],
   "source": [
    "pre_processed_data=pd.DataFrame(MinMaxScaler().fit_transform(bank_data),columns=bank_data.columns)\n",
    "pre_processed_data.head()"
   ]
  },
  {
   "cell_type": "markdown",
   "metadata": {},
   "source": [
    "## 2.5 Dividing Data into Training and Test\n",
    "\n",
    "Training Data:\n",
    "We are going to train data for the accounts for which status is \"A\" or \"B\"\n",
    "'A' stands for contract finished, no problems\n",
    "'B' stands for contract finished, loan not payed\n",
    "\n",
    "Test Data:\n",
    "We are going to test the data for the accounts for which status is \"C\" or \"D\"\n",
    "'C' stands for running contract, OK thus-far\n",
    "'D' stands for running contract, client in debt"
   ]
  },
  {
   "cell_type": "markdown",
   "metadata": {},
   "source": [
    "## 2.6 Target Class Imbalance Problem"
   ]
  },
  {
   "cell_type": "code",
   "execution_count": 39,
   "metadata": {},
   "outputs": [
    {
     "data": {
      "text/plain": [
       "0.0    135\n",
       "1.0      5\n",
       "Name: status, dtype: int64"
      ]
     },
     "execution_count": 39,
     "metadata": {},
     "output_type": "execute_result"
    }
   ],
   "source": [
    "ytrain.value_counts()"
   ]
  },
  {
   "cell_type": "markdown",
   "metadata": {},
   "source": [
    "we can see that target column \"status\" has imbalance problem.\n",
    "There are only 5 observations with status \"B\"\n",
    "So if we develop the model,it will be biased to status \"A\" and consider status \"B\" as noise.\n",
    "So even if we get 98% Accuracy it will not make any sense.\n",
    "Let's try to overcome this problem with the help of \"SMOTE\"(Synthetic Minority Over Sampling Technique)"
   ]
  },
  {
   "cell_type": "code",
   "execution_count": 40,
   "metadata": {
    "collapsed": true
   },
   "outputs": [],
   "source": [
    "from imblearn.over_sampling import SMOTE\n",
    "oversampler=SMOTE(random_state=0,k_neighbors=3)\n",
    "xtrain_imb,ytrain_imb=oversampler.fit_sample(xtrain,ytrain)\n",
    "xtrain_imb=pd.DataFrame(xtrain_imb,columns=xtrain.columns)\n",
    "ytrain_imb=pd.Series(ytrain_imb)"
   ]
  },
  {
   "cell_type": "code",
   "execution_count": 41,
   "metadata": {},
   "outputs": [
    {
     "data": {
      "text/plain": [
       "1.0    135\n",
       "0.0    135\n",
       "dtype: int64"
      ]
     },
     "execution_count": 41,
     "metadata": {},
     "output_type": "execute_result"
    }
   ],
   "source": [
    "ytrain_imb.value_counts()"
   ]
  },
  {
   "cell_type": "code",
   "execution_count": null,
   "metadata": {
    "collapsed": true
   },
   "outputs": [],
   "source": [
    "We can see that status \"B\" is replicated by Over Sampling.\n",
    "Now both status has equal weightage(50%) in the dataset.\n",
    "Hence there will be no bias problem"
   ]
  },
  {
   "cell_type": "markdown",
   "metadata": {},
   "source": [
    "# Chapter 3\n",
    "\n",
    "# Modelling"
   ]
  },
  {
   "cell_type": "markdown",
   "metadata": {},
   "source": [
    "Let us check the Cross Validation scores of some models."
   ]
  },
  {
   "cell_type": "markdown",
   "metadata": {},
   "source": [
    "### 3.1 Random Forest"
   ]
  },
  {
   "cell_type": "code",
   "execution_count": 51,
   "metadata": {},
   "outputs": [
    {
     "name": "stdout",
     "output_type": "stream",
     "text": [
      "0.977777777778\n"
     ]
    }
   ],
   "source": [
    "from sklearn.ensemble import RandomForestClassifier\n",
    "from sklearn.cross_validation import cross_val_score\n",
    "rf=RandomForestClassifier(random_state=0,max_depth=3,min_samples_leaf=15) \n",
    "cv_score=np.mean(cross_val_score(rf,xtrain_imb,ytrain_imb,cv=5))\n",
    "print(cv_score)\n",
    "rf.fit(xtrain_imb,ytrain_imb)\n",
    "y_pred=rf.predict(xtest)"
   ]
  },
  {
   "cell_type": "markdown",
   "metadata": {},
   "source": [
    "### 3.2 Logistic Regression"
   ]
  },
  {
   "cell_type": "code",
   "execution_count": 45,
   "metadata": {},
   "outputs": [
    {
     "name": "stdout",
     "output_type": "stream",
     "text": [
      "0.944444444444\n"
     ]
    }
   ],
   "source": [
    "from sklearn.linear_model import LogisticRegression\n",
    "lr=LogisticRegression(random_state=0)\n",
    "cv_score=np.mean(cross_val_score(lr,xtrain_imb,ytrain_imb,cv=5))\n",
    "print(cv_score)"
   ]
  },
  {
   "cell_type": "markdown",
   "metadata": {},
   "source": [
    "### 3.3 Naive Bayes"
   ]
  },
  {
   "cell_type": "code",
   "execution_count": 47,
   "metadata": {},
   "outputs": [
    {
     "name": "stdout",
     "output_type": "stream",
     "text": [
      "0.966666666667\n"
     ]
    }
   ],
   "source": [
    "from sklearn.naive_bayes import GaussianNB \n",
    "gn=GaussianNB() \n",
    "cv_score=np.mean(cross_val_score(gn,xtrain_imb,ytrain_imb,cv=5))\n",
    "print(cv_score)"
   ]
  },
  {
   "cell_type": "markdown",
   "metadata": {},
   "source": [
    "### 3.4 KNN"
   ]
  },
  {
   "cell_type": "code",
   "execution_count": 49,
   "metadata": {},
   "outputs": [
    {
     "name": "stdout",
     "output_type": "stream",
     "text": [
      "0.940740740741\n"
     ]
    }
   ],
   "source": [
    "from sklearn.neighbors import KNeighborsClassifier \n",
    "knn=KNeighborsClassifier(n_neighbors=3) \n",
    "cv_score=np.mean(cross_val_score(knn,xtrain_imb,ytrain_imb,cv=5))\n",
    "print(cv_score)"
   ]
  },
  {
   "cell_type": "markdown",
   "metadata": {},
   "source": [
    "### 3.5 Decision Tree"
   ]
  },
  {
   "cell_type": "code",
   "execution_count": 50,
   "metadata": {},
   "outputs": [
    {
     "name": "stdout",
     "output_type": "stream",
     "text": [
      "0.914814814815\n"
     ]
    }
   ],
   "source": [
    "from sklearn.tree import DecisionTreeClassifier\n",
    "dt=DecisionTreeClassifier(max_depth=10,random_state=0)\n",
    "cv_score=np.mean(cross_val_score(dt,xtrain_imb,ytrain_imb,cv=5))\n",
    "print(cv_score)"
   ]
  },
  {
   "cell_type": "markdown",
   "metadata": {},
   "source": [
    "### 3.6 Summary of Cross Validation Scores\n",
    "\n",
    "Decision Tree:91.4%\n",
    "Logistic Regression:94.4%\n",
    "KNN:94.7%\n",
    "Naive Bayes:96.7%\n",
    "Random Forest:97.8%\n",
    "\n",
    "We can see that Random Forest outperforms all other models.\n",
    "So let's predict the output using these models."
   ]
  },
  {
   "cell_type": "markdown",
   "metadata": {},
   "source": [
    "# Chapter 4\n",
    "\n",
    "# Loan Defaulters"
   ]
  },
  {
   "cell_type": "code",
   "execution_count": 52,
   "metadata": {
    "collapsed": true
   },
   "outputs": [],
   "source": [
    "y_pred=pd.DataFrame(y_pred,index=xtest.index,columns=[\"Loan Defaulters\"])\n",
    "test_output=data[(data[\"status\"]==\"C\") | (data[\"status\"]==\"D\")]\n",
    "test_output=test_output.join(y_pred)\n",
    "output=test_output[round(test_output[\"Loan Defaulters\"])==1][\"account_id\"].drop_duplicates()"
   ]
  },
  {
   "cell_type": "code",
   "execution_count": 53,
   "metadata": {},
   "outputs": [
    {
     "data": {
      "text/plain": [
       "24      6924\n",
       "151    11186\n",
       "156    10644\n",
       "317      105\n",
       "336     7637\n",
       "Name: account_id, dtype: int64"
      ]
     },
     "execution_count": 53,
     "metadata": {},
     "output_type": "execute_result"
    }
   ],
   "source": [
    "output"
   ]
  },
  {
   "cell_type": "markdown",
   "metadata": {},
   "source": [
    "we have successfully predicted loan defaulters using Random Forest Model\n",
    "\n",
    "## Accounts who are likely to default in repaying the lones\n",
    "\n",
    "6924\n",
    "11186\n",
    "10644\n",
    "105\n",
    "7637\n",
    "\n",
    "We can see that there are 5 accounts who are likely to default in repaying the loans when contract ends"
   ]
  }
 ],
 "metadata": {
  "kernelspec": {
   "display_name": "Python 3",
   "language": "python",
   "name": "python3"
  },
  "language_info": {
   "codemirror_mode": {
    "name": "ipython",
    "version": 3
   },
   "file_extension": ".py",
   "mimetype": "text/x-python",
   "name": "python",
   "nbconvert_exporter": "python",
   "pygments_lexer": "ipython3",
   "version": "3.6.3"
  }
 },
 "nbformat": 4,
 "nbformat_minor": 2
}
